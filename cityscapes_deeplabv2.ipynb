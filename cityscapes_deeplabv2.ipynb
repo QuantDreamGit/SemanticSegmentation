{
 "cells": [
  {
   "cell_type": "code",
   "execution_count": 1,
   "metadata": {},
   "outputs": [],
   "source": [
    "# Importing libraries\n",
    "import torch\n",
    "import warnings\n",
    "import numpy as np\n",
    "import torch.nn as nn\n",
    "import matplotlib.pyplot as plt\n",
    "\n",
    "from time import time\n",
    "from tqdm import tqdm\n",
    "from PIL import Image\n",
    "from torch.utils.data import DataLoader\n",
    "from torchvision.transforms import ToPILImage\n",
    "from fvcore.nn import FlopCountAnalysis, flop_count_table\n",
    "\n",
    "\n",
    "from datasets.cityscapes import CityScapes\n",
    "from utils import fast_hist, per_class_iou\n",
    "from models.deeplabv2.deeplabv2 import get_deeplab_v2\n",
    "\n",
    "warnings.filterwarnings(\"ignore\")"
   ]
  },
  {
   "cell_type": "markdown",
   "metadata": {},
   "source": [
    "### Training - Single Channel"
   ]
  },
  {
   "cell_type": "code",
   "execution_count": 2,
   "metadata": {},
   "outputs": [
    {
     "name": "stdout",
     "output_type": "stream",
     "text": [
      "Deeplab pretraining loading...\n"
     ]
    },
    {
     "name": "stderr",
     "output_type": "stream",
     "text": [
      "100%|██████████| 250/250 [02:05<00:00,  1.99it/s]\n"
     ]
    },
    {
     "name": "stdout",
     "output_type": "stream",
     "text": [
      "Epoch: 0, Loss: 0.37251073122024536, mIoU: 0.2786676725345322\n"
     ]
    },
    {
     "name": "stderr",
     "output_type": "stream",
     "text": [
      "100%|██████████| 250/250 [02:03<00:00,  2.02it/s]\n"
     ]
    },
    {
     "name": "stdout",
     "output_type": "stream",
     "text": [
      "Epoch: 1, Loss: 0.26462146639823914, mIoU: 0.4398281131317208\n"
     ]
    },
    {
     "name": "stderr",
     "output_type": "stream",
     "text": [
      "100%|██████████| 250/250 [02:04<00:00,  2.00it/s]\n"
     ]
    },
    {
     "name": "stdout",
     "output_type": "stream",
     "text": [
      "Epoch: 2, Loss: 0.255239337682724, mIoU: 0.537531661092972\n"
     ]
    },
    {
     "name": "stderr",
     "output_type": "stream",
     "text": [
      "100%|██████████| 250/250 [02:08<00:00,  1.94it/s]\n"
     ]
    },
    {
     "name": "stdout",
     "output_type": "stream",
     "text": [
      "Epoch: 3, Loss: 0.3869906961917877, mIoU: 0.6037522483868476\n"
     ]
    },
    {
     "name": "stderr",
     "output_type": "stream",
     "text": [
      "100%|██████████| 250/250 [02:05<00:00,  1.99it/s]\n"
     ]
    },
    {
     "name": "stdout",
     "output_type": "stream",
     "text": [
      "Epoch: 4, Loss: 0.2332235872745514, mIoU: 0.6396661053643257\n"
     ]
    },
    {
     "name": "stderr",
     "output_type": "stream",
     "text": [
      "100%|██████████| 250/250 [02:07<00:00,  1.96it/s]\n"
     ]
    },
    {
     "name": "stdout",
     "output_type": "stream",
     "text": [
      "Epoch: 5, Loss: 0.22958263754844666, mIoU: 0.6647656030251785\n"
     ]
    },
    {
     "name": "stderr",
     "output_type": "stream",
     "text": [
      "100%|██████████| 250/250 [02:08<00:00,  1.94it/s]\n"
     ]
    },
    {
     "name": "stdout",
     "output_type": "stream",
     "text": [
      "Epoch: 6, Loss: 0.17843033373355865, mIoU: 0.6822855493896487\n"
     ]
    },
    {
     "name": "stderr",
     "output_type": "stream",
     "text": [
      "100%|██████████| 250/250 [02:07<00:00,  1.97it/s]\n"
     ]
    },
    {
     "name": "stdout",
     "output_type": "stream",
     "text": [
      "Epoch: 7, Loss: 0.15035268664360046, mIoU: 0.6921459592943755\n"
     ]
    },
    {
     "name": "stderr",
     "output_type": "stream",
     "text": [
      "100%|██████████| 250/250 [02:05<00:00,  1.98it/s]\n"
     ]
    },
    {
     "name": "stdout",
     "output_type": "stream",
     "text": [
      "Epoch: 8, Loss: 0.13763020932674408, mIoU: 0.7015186261099664\n"
     ]
    },
    {
     "name": "stderr",
     "output_type": "stream",
     "text": [
      "100%|██████████| 250/250 [02:06<00:00,  1.98it/s]\n"
     ]
    },
    {
     "name": "stdout",
     "output_type": "stream",
     "text": [
      "Epoch: 9, Loss: 0.2183745801448822, mIoU: 0.7109940706517288\n"
     ]
    },
    {
     "name": "stderr",
     "output_type": "stream",
     "text": [
      "100%|██████████| 250/250 [02:08<00:00,  1.95it/s]\n"
     ]
    },
    {
     "name": "stdout",
     "output_type": "stream",
     "text": [
      "Epoch: 10, Loss: 0.14993628859519958, mIoU: 0.717747891811029\n"
     ]
    },
    {
     "name": "stderr",
     "output_type": "stream",
     "text": [
      "100%|██████████| 250/250 [02:09<00:00,  1.93it/s]\n"
     ]
    },
    {
     "name": "stdout",
     "output_type": "stream",
     "text": [
      "Epoch: 11, Loss: 0.24937821924686432, mIoU: 0.7240518719497286\n"
     ]
    },
    {
     "name": "stderr",
     "output_type": "stream",
     "text": [
      "100%|██████████| 250/250 [02:06<00:00,  1.98it/s]\n"
     ]
    },
    {
     "name": "stdout",
     "output_type": "stream",
     "text": [
      "Epoch: 12, Loss: 0.1350678950548172, mIoU: 0.7290223225994981\n"
     ]
    },
    {
     "name": "stderr",
     "output_type": "stream",
     "text": [
      "100%|██████████| 250/250 [02:05<00:00,  1.99it/s]\n"
     ]
    },
    {
     "name": "stdout",
     "output_type": "stream",
     "text": [
      "Epoch: 13, Loss: 0.11812932044267654, mIoU: 0.7336684940076018\n"
     ]
    },
    {
     "name": "stderr",
     "output_type": "stream",
     "text": [
      "100%|██████████| 250/250 [02:07<00:00,  1.96it/s]\n"
     ]
    },
    {
     "name": "stdout",
     "output_type": "stream",
     "text": [
      "Epoch: 14, Loss: 0.18254022300243378, mIoU: 0.7379081809938859\n"
     ]
    },
    {
     "name": "stderr",
     "output_type": "stream",
     "text": [
      "100%|██████████| 250/250 [02:06<00:00,  1.98it/s]\n"
     ]
    },
    {
     "name": "stdout",
     "output_type": "stream",
     "text": [
      "Epoch: 15, Loss: 0.14101232588291168, mIoU: 0.7410736311931907\n"
     ]
    },
    {
     "name": "stderr",
     "output_type": "stream",
     "text": [
      "100%|██████████| 250/250 [02:08<00:00,  1.94it/s]\n"
     ]
    },
    {
     "name": "stdout",
     "output_type": "stream",
     "text": [
      "Epoch: 16, Loss: 0.1748722493648529, mIoU: 0.7447310828236011\n"
     ]
    },
    {
     "name": "stderr",
     "output_type": "stream",
     "text": [
      "100%|██████████| 250/250 [02:05<00:00,  2.00it/s]\n"
     ]
    },
    {
     "name": "stdout",
     "output_type": "stream",
     "text": [
      "Epoch: 17, Loss: 0.09810911864042282, mIoU: 0.7482276586576685\n"
     ]
    },
    {
     "name": "stderr",
     "output_type": "stream",
     "text": [
      "100%|██████████| 250/250 [02:06<00:00,  1.97it/s]\n"
     ]
    },
    {
     "name": "stdout",
     "output_type": "stream",
     "text": [
      "Epoch: 18, Loss: 0.16871462762355804, mIoU: 0.7504280300521596\n"
     ]
    },
    {
     "name": "stderr",
     "output_type": "stream",
     "text": [
      "100%|██████████| 250/250 [02:06<00:00,  1.98it/s]\n"
     ]
    },
    {
     "name": "stdout",
     "output_type": "stream",
     "text": [
      "Epoch: 19, Loss: 0.16322492063045502, mIoU: 0.7535431514093176\n"
     ]
    },
    {
     "name": "stderr",
     "output_type": "stream",
     "text": [
      "100%|██████████| 250/250 [02:08<00:00,  1.94it/s]\n"
     ]
    },
    {
     "name": "stdout",
     "output_type": "stream",
     "text": [
      "Epoch: 20, Loss: 0.12739849090576172, mIoU: 0.7559354695248753\n"
     ]
    },
    {
     "name": "stderr",
     "output_type": "stream",
     "text": [
      "100%|██████████| 250/250 [02:07<00:00,  1.96it/s]\n"
     ]
    },
    {
     "name": "stdout",
     "output_type": "stream",
     "text": [
      "Epoch: 21, Loss: 0.11743175238370895, mIoU: 0.7581773435174015\n"
     ]
    },
    {
     "name": "stderr",
     "output_type": "stream",
     "text": [
      "100%|██████████| 250/250 [02:05<00:00,  1.99it/s]\n"
     ]
    },
    {
     "name": "stdout",
     "output_type": "stream",
     "text": [
      "Epoch: 22, Loss: 0.14146669209003448, mIoU: 0.7600751702978661\n"
     ]
    },
    {
     "name": "stderr",
     "output_type": "stream",
     "text": [
      "100%|██████████| 250/250 [02:06<00:00,  1.98it/s]\n"
     ]
    },
    {
     "name": "stdout",
     "output_type": "stream",
     "text": [
      "Epoch: 23, Loss: 0.11790750175714493, mIoU: 0.7613857588256332\n"
     ]
    },
    {
     "name": "stderr",
     "output_type": "stream",
     "text": [
      "100%|██████████| 250/250 [02:06<00:00,  1.98it/s]\n"
     ]
    },
    {
     "name": "stdout",
     "output_type": "stream",
     "text": [
      "Epoch: 24, Loss: 0.13470560312271118, mIoU: 0.7630941384322958\n"
     ]
    },
    {
     "name": "stderr",
     "output_type": "stream",
     "text": [
      "100%|██████████| 250/250 [02:07<00:00,  1.96it/s]\n"
     ]
    },
    {
     "name": "stdout",
     "output_type": "stream",
     "text": [
      "Epoch: 25, Loss: 0.21043646335601807, mIoU: 0.7647341501172392\n"
     ]
    },
    {
     "name": "stderr",
     "output_type": "stream",
     "text": [
      "100%|██████████| 250/250 [02:05<00:00,  1.99it/s]\n"
     ]
    },
    {
     "name": "stdout",
     "output_type": "stream",
     "text": [
      "Epoch: 26, Loss: 0.11764279007911682, mIoU: 0.7658394012691461\n"
     ]
    },
    {
     "name": "stderr",
     "output_type": "stream",
     "text": [
      "100%|██████████| 250/250 [02:08<00:00,  1.94it/s]\n"
     ]
    },
    {
     "name": "stdout",
     "output_type": "stream",
     "text": [
      "Epoch: 27, Loss: 0.06445056945085526, mIoU: 0.768119355971677\n"
     ]
    },
    {
     "name": "stderr",
     "output_type": "stream",
     "text": [
      "100%|██████████| 250/250 [02:08<00:00,  1.94it/s]\n"
     ]
    },
    {
     "name": "stdout",
     "output_type": "stream",
     "text": [
      "Epoch: 28, Loss: 0.0809788852930069, mIoU: 0.7689757010429132\n"
     ]
    },
    {
     "name": "stderr",
     "output_type": "stream",
     "text": [
      "100%|██████████| 250/250 [02:06<00:00,  1.97it/s]\n"
     ]
    },
    {
     "name": "stdout",
     "output_type": "stream",
     "text": [
      "Epoch: 29, Loss: 0.09020046889781952, mIoU: 0.7703717490303381\n"
     ]
    },
    {
     "name": "stderr",
     "output_type": "stream",
     "text": [
      "100%|██████████| 250/250 [02:08<00:00,  1.94it/s]\n"
     ]
    },
    {
     "name": "stdout",
     "output_type": "stream",
     "text": [
      "Epoch: 30, Loss: 0.09886836260557175, mIoU: 0.7719470678277798\n"
     ]
    },
    {
     "name": "stderr",
     "output_type": "stream",
     "text": [
      "100%|██████████| 250/250 [02:07<00:00,  1.96it/s]\n"
     ]
    },
    {
     "name": "stdout",
     "output_type": "stream",
     "text": [
      "Epoch: 31, Loss: 0.11068559437990189, mIoU: 0.773044176881123\n"
     ]
    },
    {
     "name": "stderr",
     "output_type": "stream",
     "text": [
      "100%|██████████| 250/250 [02:06<00:00,  1.98it/s]\n"
     ]
    },
    {
     "name": "stdout",
     "output_type": "stream",
     "text": [
      "Epoch: 32, Loss: 0.1018550917506218, mIoU: 0.7737638355747544\n"
     ]
    },
    {
     "name": "stderr",
     "output_type": "stream",
     "text": [
      "100%|██████████| 250/250 [02:05<00:00,  1.99it/s]\n"
     ]
    },
    {
     "name": "stdout",
     "output_type": "stream",
     "text": [
      "Epoch: 33, Loss: 0.06943297386169434, mIoU: 0.7748474965359551\n"
     ]
    },
    {
     "name": "stderr",
     "output_type": "stream",
     "text": [
      "100%|██████████| 250/250 [02:06<00:00,  1.98it/s]\n"
     ]
    },
    {
     "name": "stdout",
     "output_type": "stream",
     "text": [
      "Epoch: 34, Loss: 0.11683887243270874, mIoU: 0.7763030759038273\n"
     ]
    },
    {
     "name": "stderr",
     "output_type": "stream",
     "text": [
      "100%|██████████| 250/250 [02:06<00:00,  1.97it/s]\n"
     ]
    },
    {
     "name": "stdout",
     "output_type": "stream",
     "text": [
      "Epoch: 35, Loss: 0.10723806172609329, mIoU: 0.7769395818780926\n"
     ]
    },
    {
     "name": "stderr",
     "output_type": "stream",
     "text": [
      "100%|██████████| 250/250 [02:06<00:00,  1.97it/s]\n"
     ]
    },
    {
     "name": "stdout",
     "output_type": "stream",
     "text": [
      "Epoch: 36, Loss: 0.06940162181854248, mIoU: 0.7778121650880185\n"
     ]
    },
    {
     "name": "stderr",
     "output_type": "stream",
     "text": [
      "100%|██████████| 250/250 [02:06<00:00,  1.97it/s]\n"
     ]
    },
    {
     "name": "stdout",
     "output_type": "stream",
     "text": [
      "Epoch: 37, Loss: 0.12317239493131638, mIoU: 0.7785687775676047\n"
     ]
    },
    {
     "name": "stderr",
     "output_type": "stream",
     "text": [
      "100%|██████████| 250/250 [02:06<00:00,  1.98it/s]\n"
     ]
    },
    {
     "name": "stdout",
     "output_type": "stream",
     "text": [
      "Epoch: 38, Loss: 0.11007936298847198, mIoU: 0.7782782519203969\n"
     ]
    },
    {
     "name": "stderr",
     "output_type": "stream",
     "text": [
      "100%|██████████| 250/250 [02:08<00:00,  1.95it/s]\n"
     ]
    },
    {
     "name": "stdout",
     "output_type": "stream",
     "text": [
      "Epoch: 39, Loss: 0.11749252676963806, mIoU: 0.7796233411145942\n"
     ]
    },
    {
     "name": "stderr",
     "output_type": "stream",
     "text": [
      "100%|██████████| 250/250 [02:08<00:00,  1.94it/s]\n"
     ]
    },
    {
     "name": "stdout",
     "output_type": "stream",
     "text": [
      "Epoch: 40, Loss: 0.08216296136379242, mIoU: 0.780886035578566\n"
     ]
    },
    {
     "name": "stderr",
     "output_type": "stream",
     "text": [
      "100%|██████████| 250/250 [02:06<00:00,  1.98it/s]\n"
     ]
    },
    {
     "name": "stdout",
     "output_type": "stream",
     "text": [
      "Epoch: 41, Loss: 0.06257409602403641, mIoU: 0.781716769680369\n"
     ]
    },
    {
     "name": "stderr",
     "output_type": "stream",
     "text": [
      "100%|██████████| 250/250 [02:06<00:00,  1.98it/s]\n"
     ]
    },
    {
     "name": "stdout",
     "output_type": "stream",
     "text": [
      "Epoch: 42, Loss: 0.10684382170438766, mIoU: 0.7815855000769732\n"
     ]
    },
    {
     "name": "stderr",
     "output_type": "stream",
     "text": [
      "100%|██████████| 250/250 [02:07<00:00,  1.97it/s]\n"
     ]
    },
    {
     "name": "stdout",
     "output_type": "stream",
     "text": [
      "Epoch: 43, Loss: 0.056658241897821426, mIoU: 0.7826305026217115\n"
     ]
    },
    {
     "name": "stderr",
     "output_type": "stream",
     "text": [
      "100%|██████████| 250/250 [02:07<00:00,  1.96it/s]\n"
     ]
    },
    {
     "name": "stdout",
     "output_type": "stream",
     "text": [
      "Epoch: 44, Loss: 0.09415015578269958, mIoU: 0.7834963545778354\n"
     ]
    },
    {
     "name": "stderr",
     "output_type": "stream",
     "text": [
      "100%|██████████| 250/250 [02:09<00:00,  1.94it/s]\n"
     ]
    },
    {
     "name": "stdout",
     "output_type": "stream",
     "text": [
      "Epoch: 45, Loss: 0.1249910220503807, mIoU: 0.7843155077260071\n"
     ]
    },
    {
     "name": "stderr",
     "output_type": "stream",
     "text": [
      "100%|██████████| 250/250 [02:06<00:00,  1.98it/s]\n"
     ]
    },
    {
     "name": "stdout",
     "output_type": "stream",
     "text": [
      "Epoch: 46, Loss: 0.09062919020652771, mIoU: 0.7850977399838449\n"
     ]
    },
    {
     "name": "stderr",
     "output_type": "stream",
     "text": [
      "100%|██████████| 250/250 [02:06<00:00,  1.98it/s]\n"
     ]
    },
    {
     "name": "stdout",
     "output_type": "stream",
     "text": [
      "Epoch: 47, Loss: 0.0923844650387764, mIoU: 0.7846849092487014\n"
     ]
    },
    {
     "name": "stderr",
     "output_type": "stream",
     "text": [
      "100%|██████████| 250/250 [02:06<00:00,  1.98it/s]\n"
     ]
    },
    {
     "name": "stdout",
     "output_type": "stream",
     "text": [
      "Epoch: 48, Loss: 0.08648514747619629, mIoU: 0.7849018590528261\n"
     ]
    },
    {
     "name": "stderr",
     "output_type": "stream",
     "text": [
      "100%|██████████| 250/250 [02:08<00:00,  1.95it/s]\n"
     ]
    },
    {
     "name": "stdout",
     "output_type": "stream",
     "text": [
      "Epoch: 49, Loss: 0.11079790443181992, mIoU: 0.7850549621648636\n"
     ]
    }
   ],
   "source": [
    "# Set the device\n",
    "device = torch.device('cuda')\n",
    "# Load the model\n",
    "model = get_deeplab_v2(root_dir='models/deeplabv2').to(device)\n",
    "# Load the dataset\n",
    "dataset = CityScapes(root_dir='datasets/Cityspaces', split='val', mode='single', raw_label=False)\n",
    "dataloader = DataLoader(dataset, batch_size=2, shuffle=True, num_workers=2)\n",
    "\n",
    "# Set the loss function and optimizer\n",
    "criterion = nn.CrossEntropyLoss(ignore_index=255)\n",
    "# optimizer = optim.Adam(model.parameters(), lr=0.0001)\n",
    "optimizer = torch.optim.SGD(model.parameters(), lr=0.007, momentum=0.9, weight_decay=0.0005)\n",
    "\n",
    "# Set the model to training mode\n",
    "model.train()\n",
    "\n",
    "# Train the model using tqdm\n",
    "for epoch in range(50):\n",
    "    hist = np.zeros((19, 19))\n",
    "    for image, label in tqdm(dataloader):\n",
    "        image = image.to(device)\n",
    "        label = label.to(device)\n",
    "        # Forward pass\n",
    "        output = model(image)[0]\n",
    "        # Calculate the loss\n",
    "        loss = criterion(output, label)\n",
    "        # Zero the gradients\n",
    "        optimizer.zero_grad()\n",
    "        # Backward pass\n",
    "        loss.backward()\n",
    "        # Update the weights\n",
    "        optimizer.step()\n",
    "\n",
    "        # Compute the predictions\n",
    "        pred = output.argmax(dim=1)\n",
    "\n",
    "        # Calculate the mean IoU\n",
    "        hist += fast_hist(label.flatten().cpu().numpy(), pred.flatten().cpu().numpy(), 19)\n",
    "        miou = np.mean(per_class_iou(hist))\n",
    "\n",
    "    # Print the loss and mIoU\n",
    "    print(f'Epoch: {epoch}, Loss: {loss.item()}, mIoU: {miou}')\n",
    "\n",
    "# Save the model\n",
    "torch.save(model.state_dict(), 'models/deeplabv2/deeplabv2.pth')"
   ]
  },
  {
   "cell_type": "markdown",
   "metadata": {},
   "source": [
    "### Validation"
   ]
  },
  {
   "cell_type": "code",
   "execution_count": 3,
   "metadata": {},
   "outputs": [
    {
     "name": "stdout",
     "output_type": "stream",
     "text": [
      "Deeplab pretraining loading...\n"
     ]
    },
    {
     "name": "stderr",
     "output_type": "stream",
     "text": [
      "500it [04:04,  2.05it/s]"
     ]
    },
    {
     "name": "stdout",
     "output_type": "stream",
     "text": [
      "mIoU: 0.7809842389391353\n"
     ]
    },
    {
     "name": "stderr",
     "output_type": "stream",
     "text": [
      "\n"
     ]
    }
   ],
   "source": [
    "# Set the device\n",
    "device = torch.device('cuda')\n",
    "# Load the model\n",
    "model = get_deeplab_v2(root_dir='models/deeplabv2').to(device)\n",
    "model.load_state_dict(torch.load('models/deeplabv2/deeplabv2.pth'))\n",
    "# Set the model to evaluation mode\n",
    "model.eval()\n",
    "\n",
    "# Load the dataset\n",
    "dataset = CityScapes(root_dir='datasets/Cityspaces', split='val', mode='single', raw_label=False)\n",
    "dataloader = DataLoader(dataset, batch_size=1, shuffle=True, num_workers=1)\n",
    "\n",
    "# Validate the model\n",
    "hist = np.zeros((19, 19))\n",
    "for i, (image, label) in tqdm(enumerate(dataloader)):\n",
    "    image = image.to(device)\n",
    "    label = label.to(device)\n",
    "    # Forward pass\n",
    "    output = model(image)\n",
    "    # Compute the predictions\n",
    "    pred = output.argmax(dim=1)\n",
    "\n",
    "    # Calculate the mean IoU\n",
    "    hist += fast_hist(label.flatten().cpu().numpy(), pred.flatten().cpu().numpy(), 19)\n",
    "    miou = np.mean(per_class_iou(hist))\n",
    "    \n",
    "# Print the mIoU\n",
    "print(f'mIoU: {miou}')"
   ]
  },
  {
   "cell_type": "markdown",
   "metadata": {},
   "source": [
    "### Example"
   ]
  },
  {
   "cell_type": "code",
   "execution_count": 20,
   "metadata": {},
   "outputs": [
    {
     "name": "stdout",
     "output_type": "stream",
     "text": [
      "Deeplab pretraining loading...\n"
     ]
    },
    {
     "name": "stderr",
     "output_type": "stream",
     "text": [
      "0it [00:00, ?it/s]\n"
     ]
    },
    {
     "data": {
      "image/png": "[encoded data removed]",
      "text/plain": [
       "<Figure size 2000x2000 with 2 Axes>"
      ]
     },
     "metadata": {},
     "output_type": "display_data"
    }
   ],
   "source": [
    "# Set the device\n",
    "device = torch.device('cuda' if torch.cuda.is_available() else 'cpu')\n",
    "# Load the model\n",
    "model = get_deeplab_v2(root_dir='models/deeplabv2').to(device)\n",
    "model.load_state_dict(torch.load('models/deeplabv2/deeplabv2.pth'))\n",
    "# Set the model to evaluation mode\n",
    "model.eval()\n",
    "\n",
    "# Load the dataset\n",
    "dataset = CityScapes(root_dir='datasets/Cityspaces', split='val', mode='single', raw_label=False)\n",
    "dataloader = DataLoader(dataset, batch_size=1, shuffle=True, num_workers=1)\n",
    "\n",
    "# Validate the model\n",
    "hist = np.zeros((19, 19))\n",
    "for i, (image, label) in tqdm(enumerate(dataloader)):\n",
    "    image = image.to(device)\n",
    "    label = label.to(device)\n",
    "    # Forward pass\n",
    "    output = model(image)\n",
    "    # Compute the predictions\n",
    "    pred = output.argmax(dim=1)\n",
    "    # Break after the first iteration\n",
    "    break\n",
    "\n",
    "# Display the image\n",
    "image = ToPILImage()(image[0].cpu())\n",
    "# Convert label, pred from numpy to image\n",
    "label = Image.fromarray(label[0].cpu().numpy().astype(np.uint8))\n",
    "pred = Image.fromarray(pred[0].cpu().numpy().astype(np.uint8))\n",
    "\n",
    "# Display the image\n",
    "plt.figure(figsize=(20, 20))\n",
    "plt.subplot(121)\n",
    "plt.imshow(label)\n",
    "plt.title('Label')\n",
    "plt.axis('off')\n",
    "plt.subplot(122)\n",
    "plt.imshow(pred)\n",
    "plt.title('Prediction')\n",
    "plt.axis('off')\n",
    "plt.show()"
   ]
  },
  {
   "cell_type": "markdown",
   "metadata": {},
   "source": [
    "### FLOPs and Parameters"
   ]
  },
  {
   "cell_type": "code",
   "execution_count": 2,
   "metadata": {},
   "outputs": [
    {
     "name": "stdout",
     "output_type": "stream",
     "text": [
      "Deeplab pretraining loading...\n",
      "Number of parameters: 43901068\n",
      "\n",
      "| module                         | #parameters or shape   | #flops     |\n",
      "|:-------------------------------|:-----------------------|:-----------|\n",
      "| model                          | 43.901M                | 0.375T     |\n",
      "|  conv1                         |  9.408K                |  1.233G    |\n",
      "|   conv1.weight                 |   (64, 3, 7, 7)        |            |\n",
      "|  bn1                           |  0.128K                |  16.777M   |\n",
      "|   bn1.weight                   |   (64,)                |            |\n",
      "|   bn1.bias                     |   (64,)                |            |\n",
      "|  layer1                        |  0.216M                |  7.155G    |\n",
      "|   layer1.0                     |   75.008K              |   2.487G   |\n",
      "|    layer1.0.conv1              |    4.096K              |    0.136G  |\n",
      "|    layer1.0.bn1                |    0.128K              |    4.244M  |\n",
      "|    layer1.0.conv2              |    36.864K             |    1.222G  |\n",
      "|    layer1.0.bn2                |    0.128K              |    4.244M  |\n",
      "|    layer1.0.conv3              |    16.384K             |    0.543G  |\n",
      "|    layer1.0.bn3                |    0.512K              |    16.974M |\n",
      "|    layer1.0.downsample         |    16.896K             |    0.56G   |\n",
      "|   layer1.1                     |   70.4K                |   2.334G   |\n",
      "|    layer1.1.conv1              |    16.384K             |    0.543G  |\n",
      "|    layer1.1.bn1                |    0.128K              |    4.244M  |\n",
      "|    layer1.1.conv2              |    36.864K             |    1.222G  |\n",
      "|    layer1.1.bn2                |    0.128K              |    4.244M  |\n",
      "|    layer1.1.conv3              |    16.384K             |    0.543G  |\n",
      "|    layer1.1.bn3                |    0.512K              |    16.974M |\n",
      "|   layer1.2                     |   70.4K                |   2.334G   |\n",
      "|    layer1.2.conv1              |    16.384K             |    0.543G  |\n",
      "|    layer1.2.bn1                |    0.128K              |    4.244M  |\n",
      "|    layer1.2.conv2              |    36.864K             |    1.222G  |\n",
      "|    layer1.2.bn2                |    0.128K              |    4.244M  |\n",
      "|    layer1.2.conv3              |    16.384K             |    0.543G  |\n",
      "|    layer1.2.bn3                |    0.512K              |    16.974M |\n",
      "|  layer2                        |  1.22M                 |  10.226G   |\n",
      "|   layer2.0                     |   0.379M               |   3.181G   |\n",
      "|    layer2.0.conv1              |    32.768K             |    0.275G  |\n",
      "|    layer2.0.bn1                |    0.256K              |    2.147M  |\n",
      "|    layer2.0.conv2              |    0.147M              |    1.236G  |\n",
      "|    layer2.0.bn2                |    0.256K              |    2.147M  |\n",
      "|    layer2.0.conv3              |    65.536K             |    0.55G   |\n",
      "|    layer2.0.bn3                |    1.024K              |    8.586M  |\n",
      "|    layer2.0.downsample         |    0.132M              |    1.108G  |\n",
      "|   layer2.1                     |   0.28M                |   2.348G   |\n",
      "|    layer2.1.conv1              |    65.536K             |    0.55G   |\n",
      "|    layer2.1.bn1                |    0.256K              |    2.147M  |\n",
      "|    layer2.1.conv2              |    0.147M              |    1.236G  |\n",
      "|    layer2.1.bn2                |    0.256K              |    2.147M  |\n",
      "|    layer2.1.conv3              |    65.536K             |    0.55G   |\n",
      "|    layer2.1.bn3                |    1.024K              |    8.586M  |\n",
      "|   layer2.2                     |   0.28M                |   2.348G   |\n",
      "|    layer2.2.conv1              |    65.536K             |    0.55G   |\n",
      "|    layer2.2.bn1                |    0.256K              |    2.147M  |\n",
      "|    layer2.2.conv2              |    0.147M              |    1.236G  |\n",
      "|    layer2.2.bn2                |    0.256K              |    2.147M  |\n",
      "|    layer2.2.conv3              |    65.536K             |    0.55G   |\n",
      "|    layer2.2.bn3                |    1.024K              |    8.586M  |\n",
      "|   layer2.3                     |   0.28M                |   2.348G   |\n",
      "|    layer2.3.conv1              |    65.536K             |    0.55G   |\n",
      "|    layer2.3.bn1                |    0.256K              |    2.147M  |\n",
      "|    layer2.3.conv2              |    0.147M              |    1.236G  |\n",
      "|    layer2.3.bn2                |    0.256K              |    2.147M  |\n",
      "|    layer2.3.conv3              |    65.536K             |    0.55G   |\n",
      "|    layer2.3.bn3                |    1.024K              |    8.586M  |\n",
      "|  layer3                        |  26.09M                |  0.219T    |\n",
      "|   layer3.0                     |   1.512M               |   12.682G  |\n",
      "|    layer3.0.conv1              |    0.131M              |    1.099G  |\n",
      "|    layer3.0.bn1                |    0.512K              |    4.293M  |\n",
      "|    layer3.0.conv2              |    0.59M               |    4.946G  |\n",
      "|    layer3.0.bn2                |    0.512K              |    4.293M  |\n",
      "|    layer3.0.conv3              |    0.262M              |    2.198G  |\n",
      "|    layer3.0.bn3                |    2.048K              |    17.172M |\n",
      "|    layer3.0.downsample         |    0.526M              |    4.413G  |\n",
      "|   layer3.1                     |   1.117M               |   9.368G   |\n",
      "|    layer3.1.conv1              |    0.262M              |    2.198G  |\n",
      "|    layer3.1.bn1                |    0.512K              |    4.293M  |\n",
      "|    layer3.1.conv2              |    0.59M               |    4.946G  |\n",
      "|    layer3.1.bn2                |    0.512K              |    4.293M  |\n",
      "|    layer3.1.conv3              |    0.262M              |    2.198G  |\n",
      "|    layer3.1.bn3                |    2.048K              |    17.172M |\n",
      "|   layer3.2                     |   1.117M               |   9.368G   |\n",
      "|    layer3.2.conv1              |    0.262M              |    2.198G  |\n",
      "|    layer3.2.bn1                |    0.512K              |    4.293M  |\n",
      "|    layer3.2.conv2              |    0.59M               |    4.946G  |\n",
      "|    layer3.2.bn2                |    0.512K              |    4.293M  |\n",
      "|    layer3.2.conv3              |    0.262M              |    2.198G  |\n",
      "|    layer3.2.bn3                |    2.048K              |    17.172M |\n",
      "|   layer3.3                     |   1.117M               |   9.368G   |\n",
      "|    layer3.3.conv1              |    0.262M              |    2.198G  |\n",
      "|    layer3.3.bn1                |    0.512K              |    4.293M  |\n",
      "|    layer3.3.conv2              |    0.59M               |    4.946G  |\n",
      "|    layer3.3.bn2                |    0.512K              |    4.293M  |\n",
      "|    layer3.3.conv3              |    0.262M              |    2.198G  |\n",
      "|    layer3.3.bn3                |    2.048K              |    17.172M |\n",
      "|   layer3.4                     |   1.117M               |   9.368G   |\n",
      "|    layer3.4.conv1              |    0.262M              |    2.198G  |\n",
      "|    layer3.4.bn1                |    0.512K              |    4.293M  |\n",
      "|    layer3.4.conv2              |    0.59M               |    4.946G  |\n",
      "|    layer3.4.bn2                |    0.512K              |    4.293M  |\n",
      "|    layer3.4.conv3              |    0.262M              |    2.198G  |\n",
      "|    layer3.4.bn3                |    2.048K              |    17.172M |\n",
      "|   layer3.5                     |   1.117M               |   9.368G   |\n",
      "|    layer3.5.conv1              |    0.262M              |    2.198G  |\n",
      "|    layer3.5.bn1                |    0.512K              |    4.293M  |\n",
      "|    layer3.5.conv2              |    0.59M               |    4.946G  |\n",
      "|    layer3.5.bn2                |    0.512K              |    4.293M  |\n",
      "|    layer3.5.conv3              |    0.262M              |    2.198G  |\n",
      "|    layer3.5.bn3                |    2.048K              |    17.172M |\n",
      "|   layer3.6                     |   1.117M               |   9.368G   |\n",
      "|    layer3.6.conv1              |    0.262M              |    2.198G  |\n",
      "|    layer3.6.bn1                |    0.512K              |    4.293M  |\n",
      "|    layer3.6.conv2              |    0.59M               |    4.946G  |\n",
      "|    layer3.6.bn2                |    0.512K              |    4.293M  |\n",
      "|    layer3.6.conv3              |    0.262M              |    2.198G  |\n",
      "|    layer3.6.bn3                |    2.048K              |    17.172M |\n",
      "|   layer3.7                     |   1.117M               |   9.368G   |\n",
      "|    layer3.7.conv1              |    0.262M              |    2.198G  |\n",
      "|    layer3.7.bn1                |    0.512K              |    4.293M  |\n",
      "|    layer3.7.conv2              |    0.59M               |    4.946G  |\n",
      "|    layer3.7.bn2                |    0.512K              |    4.293M  |\n",
      "|    layer3.7.conv3              |    0.262M              |    2.198G  |\n",
      "|    layer3.7.bn3                |    2.048K              |    17.172M |\n",
      "|   layer3.8                     |   1.117M               |   9.368G   |\n",
      "|    layer3.8.conv1              |    0.262M              |    2.198G  |\n",
      "|    layer3.8.bn1                |    0.512K              |    4.293M  |\n",
      "|    layer3.8.conv2              |    0.59M               |    4.946G  |\n",
      "|    layer3.8.bn2                |    0.512K              |    4.293M  |\n",
      "|    layer3.8.conv3              |    0.262M              |    2.198G  |\n",
      "|    layer3.8.bn3                |    2.048K              |    17.172M |\n",
      "|   layer3.9                     |   1.117M               |   9.368G   |\n",
      "|    layer3.9.conv1              |    0.262M              |    2.198G  |\n",
      "|    layer3.9.bn1                |    0.512K              |    4.293M  |\n",
      "|    layer3.9.conv2              |    0.59M               |    4.946G  |\n",
      "|    layer3.9.bn2                |    0.512K              |    4.293M  |\n",
      "|    layer3.9.conv3              |    0.262M              |    2.198G  |\n",
      "|    layer3.9.bn3                |    2.048K              |    17.172M |\n",
      "|   layer3.10                    |   1.117M               |   9.368G   |\n",
      "|    layer3.10.conv1             |    0.262M              |    2.198G  |\n",
      "|    layer3.10.bn1               |    0.512K              |    4.293M  |\n",
      "|    layer3.10.conv2             |    0.59M               |    4.946G  |\n",
      "|    layer3.10.bn2               |    0.512K              |    4.293M  |\n",
      "|    layer3.10.conv3             |    0.262M              |    2.198G  |\n",
      "|    layer3.10.bn3               |    2.048K              |    17.172M |\n",
      "|   layer3.11                    |   1.117M               |   9.368G   |\n",
      "|    layer3.11.conv1             |    0.262M              |    2.198G  |\n",
      "|    layer3.11.bn1               |    0.512K              |    4.293M  |\n",
      "|    layer3.11.conv2             |    0.59M               |    4.946G  |\n",
      "|    layer3.11.bn2               |    0.512K              |    4.293M  |\n",
      "|    layer3.11.conv3             |    0.262M              |    2.198G  |\n",
      "|    layer3.11.bn3               |    2.048K              |    17.172M |\n",
      "|   layer3.12                    |   1.117M               |   9.368G   |\n",
      "|    layer3.12.conv1             |    0.262M              |    2.198G  |\n",
      "|    layer3.12.bn1               |    0.512K              |    4.293M  |\n",
      "|    layer3.12.conv2             |    0.59M               |    4.946G  |\n",
      "|    layer3.12.bn2               |    0.512K              |    4.293M  |\n",
      "|    layer3.12.conv3             |    0.262M              |    2.198G  |\n",
      "|    layer3.12.bn3               |    2.048K              |    17.172M |\n",
      "|   layer3.13                    |   1.117M               |   9.368G   |\n",
      "|    layer3.13.conv1             |    0.262M              |    2.198G  |\n",
      "|    layer3.13.bn1               |    0.512K              |    4.293M  |\n",
      "|    layer3.13.conv2             |    0.59M               |    4.946G  |\n",
      "|    layer3.13.bn2               |    0.512K              |    4.293M  |\n",
      "|    layer3.13.conv3             |    0.262M              |    2.198G  |\n",
      "|    layer3.13.bn3               |    2.048K              |    17.172M |\n",
      "|   layer3.14                    |   1.117M               |   9.368G   |\n",
      "|    layer3.14.conv1             |    0.262M              |    2.198G  |\n",
      "|    layer3.14.bn1               |    0.512K              |    4.293M  |\n",
      "|    layer3.14.conv2             |    0.59M               |    4.946G  |\n",
      "|    layer3.14.bn2               |    0.512K              |    4.293M  |\n",
      "|    layer3.14.conv3             |    0.262M              |    2.198G  |\n",
      "|    layer3.14.bn3               |    2.048K              |    17.172M |\n",
      "|   layer3.15                    |   1.117M               |   9.368G   |\n",
      "|    layer3.15.conv1             |    0.262M              |    2.198G  |\n",
      "|    layer3.15.bn1               |    0.512K              |    4.293M  |\n",
      "|    layer3.15.conv2             |    0.59M               |    4.946G  |\n",
      "|    layer3.15.bn2               |    0.512K              |    4.293M  |\n",
      "|    layer3.15.conv3             |    0.262M              |    2.198G  |\n",
      "|    layer3.15.bn3               |    2.048K              |    17.172M |\n",
      "|   layer3.16                    |   1.117M               |   9.368G   |\n",
      "|    layer3.16.conv1             |    0.262M              |    2.198G  |\n",
      "|    layer3.16.bn1               |    0.512K              |    4.293M  |\n",
      "|    layer3.16.conv2             |    0.59M               |    4.946G  |\n",
      "|    layer3.16.bn2               |    0.512K              |    4.293M  |\n",
      "|    layer3.16.conv3             |    0.262M              |    2.198G  |\n",
      "|    layer3.16.bn3               |    2.048K              |    17.172M |\n",
      "|   layer3.17                    |   1.117M               |   9.368G   |\n",
      "|    layer3.17.conv1             |    0.262M              |    2.198G  |\n",
      "|    layer3.17.bn1               |    0.512K              |    4.293M  |\n",
      "|    layer3.17.conv2             |    0.59M               |    4.946G  |\n",
      "|    layer3.17.bn2               |    0.512K              |    4.293M  |\n",
      "|    layer3.17.conv3             |    0.262M              |    2.198G  |\n",
      "|    layer3.17.bn3               |    2.048K              |    17.172M |\n",
      "|   layer3.18                    |   1.117M               |   9.368G   |\n",
      "|    layer3.18.conv1             |    0.262M              |    2.198G  |\n",
      "|    layer3.18.bn1               |    0.512K              |    4.293M  |\n",
      "|    layer3.18.conv2             |    0.59M               |    4.946G  |\n",
      "|    layer3.18.bn2               |    0.512K              |    4.293M  |\n",
      "|    layer3.18.conv3             |    0.262M              |    2.198G  |\n",
      "|    layer3.18.bn3               |    2.048K              |    17.172M |\n",
      "|   layer3.19                    |   1.117M               |   9.368G   |\n",
      "|    layer3.19.conv1             |    0.262M              |    2.198G  |\n",
      "|    layer3.19.bn1               |    0.512K              |    4.293M  |\n",
      "|    layer3.19.conv2             |    0.59M               |    4.946G  |\n",
      "|    layer3.19.bn2               |    0.512K              |    4.293M  |\n",
      "|    layer3.19.conv3             |    0.262M              |    2.198G  |\n",
      "|    layer3.19.bn3               |    2.048K              |    17.172M |\n",
      "|   layer3.20                    |   1.117M               |   9.368G   |\n",
      "|    layer3.20.conv1             |    0.262M              |    2.198G  |\n",
      "|    layer3.20.bn1               |    0.512K              |    4.293M  |\n",
      "|    layer3.20.conv2             |    0.59M               |    4.946G  |\n",
      "|    layer3.20.bn2               |    0.512K              |    4.293M  |\n",
      "|    layer3.20.conv3             |    0.262M              |    2.198G  |\n",
      "|    layer3.20.bn3               |    2.048K              |    17.172M |\n",
      "|   layer3.21                    |   1.117M               |   9.368G   |\n",
      "|    layer3.21.conv1             |    0.262M              |    2.198G  |\n",
      "|    layer3.21.bn1               |    0.512K              |    4.293M  |\n",
      "|    layer3.21.conv2             |    0.59M               |    4.946G  |\n",
      "|    layer3.21.bn2               |    0.512K              |    4.293M  |\n",
      "|    layer3.21.conv3             |    0.262M              |    2.198G  |\n",
      "|    layer3.21.bn3               |    2.048K              |    17.172M |\n",
      "|   layer3.22                    |   1.117M               |   9.368G   |\n",
      "|    layer3.22.conv1             |    0.262M              |    2.198G  |\n",
      "|    layer3.22.bn1               |    0.512K              |    4.293M  |\n",
      "|    layer3.22.conv2             |    0.59M               |    4.946G  |\n",
      "|    layer3.22.bn2               |    0.512K              |    4.293M  |\n",
      "|    layer3.22.conv3             |    0.262M              |    2.198G  |\n",
      "|    layer3.22.bn3               |    2.048K              |    17.172M |\n",
      "|  layer4                        |  14.965M               |  0.125T    |\n",
      "|   layer4.0                     |   6.04M                |   50.642G  |\n",
      "|    layer4.0.conv1              |    0.524M              |    4.396G  |\n",
      "|    layer4.0.bn1                |    1.024K              |    8.586M  |\n",
      "|    layer4.0.conv2              |    2.359M              |    19.783G |\n",
      "|    layer4.0.bn2                |    1.024K              |    8.586M  |\n",
      "|    layer4.0.conv3              |    1.049M              |    8.792G  |\n",
      "|    layer4.0.bn3                |    4.096K              |    34.345M |\n",
      "|    layer4.0.downsample         |    2.101M              |    17.619G |\n",
      "|   layer4.1                     |   4.463M               |   37.419G  |\n",
      "|    layer4.1.conv1              |    1.049M              |    8.792G  |\n",
      "|    layer4.1.bn1                |    1.024K              |    8.586M  |\n",
      "|    layer4.1.conv2              |    2.359M              |    19.783G |\n",
      "|    layer4.1.bn2                |    1.024K              |    8.586M  |\n",
      "|    layer4.1.conv3              |    1.049M              |    8.792G  |\n",
      "|    layer4.1.bn3                |    4.096K              |    34.345M |\n",
      "|   layer4.2                     |   4.463M               |   37.419G  |\n",
      "|    layer4.2.conv1              |    1.049M              |    8.792G  |\n",
      "|    layer4.2.bn1                |    1.024K              |    8.586M  |\n",
      "|    layer4.2.conv2              |    2.359M              |    19.783G |\n",
      "|    layer4.2.bn2                |    1.024K              |    8.586M  |\n",
      "|    layer4.2.conv3              |    1.049M              |    8.792G  |\n",
      "|    layer4.2.bn3                |    4.096K              |    34.345M |\n",
      "|  layer6.conv2d_list            |  1.401M                |  11.746G   |\n",
      "|   layer6.conv2d_list.0         |   0.35M                |   2.936G   |\n",
      "|    layer6.conv2d_list.0.weight |    (19, 2048, 3, 3)    |            |\n",
      "|    layer6.conv2d_list.0.bias   |    (19,)               |            |\n",
      "|   layer6.conv2d_list.1         |   0.35M                |   2.936G   |\n",
      "|    layer6.conv2d_list.1.weight |    (19, 2048, 3, 3)    |            |\n",
      "|    layer6.conv2d_list.1.bias   |    (19,)               |            |\n",
      "|   layer6.conv2d_list.2         |   0.35M                |   2.936G   |\n",
      "|    layer6.conv2d_list.2.weight |    (19, 2048, 3, 3)    |            |\n",
      "|    layer6.conv2d_list.2.bias   |    (19,)               |            |\n",
      "|   layer6.conv2d_list.3         |   0.35M                |   2.936G   |\n",
      "|    layer6.conv2d_list.3.weight |    (19, 2048, 3, 3)    |            |\n",
      "|    layer6.conv2d_list.3.bias   |    (19,)               |            |\n"
     ]
    }
   ],
   "source": [
    "# Load the model\n",
    "model = get_deeplab_v2(root_dir='models/deeplabv2')\n",
    "model.load_state_dict(torch.load('models/deeplabv2/deeplabv2.pth'))\n",
    "model.eval()\n",
    "\n",
    "# Load the dataset\n",
    "dataset = CityScapes(root_dir='datasets/Cityspaces', split='val', mode='single', raw_label=False)\n",
    "# Get the image and label\n",
    "image, label = dataset[0]\n",
    "\n",
    "# Compute the number of flops\n",
    "flops = FlopCountAnalysis(model, image.unsqueeze(0))\n",
    "# Get the number of flops\n",
    "flops = flop_count_table(flops)\n",
    "# Get the number of parameters\n",
    "params = sum(p.numel() for p in model.parameters())\n",
    "\n",
    "# Print the number of parameters and flops\n",
    "print(f'Number of parameters: {params}\\n')\n",
    "print(flops)"
   ]
  },
  {
   "cell_type": "markdown",
   "metadata": {},
   "source": [
    "### Latency and FPS"
   ]
  },
  {
   "cell_type": "code",
   "execution_count": 6,
   "metadata": {},
   "outputs": [
    {
     "name": "stdout",
     "output_type": "stream",
     "text": [
      "Deeplab pretraining loading...\n",
      "Latency: 1.260 +/- 0.043\n",
      "FPS: 0.794 +/- 0.023\n"
     ]
    }
   ],
   "source": [
    "# Load the model\n",
    "model = get_deeplab_v2(root_dir='models/deeplabv2')\n",
    "model.load_state_dict(torch.load('models/deeplabv2/deeplabv2.pth'))\n",
    "model.eval()\n",
    "\n",
    "# Load the dataset\n",
    "dataset = CityScapes(root_dir='datasets/Cityspaces', split='val', mode='single', raw_label=False)\n",
    "# Get the image and label\n",
    "image, label = dataset[0]\n",
    "\n",
    "# Compute the latency and FPS\n",
    "iterations = 100\n",
    "latency = []\n",
    "fps = []\n",
    "\n",
    "# Compute the latency and FPS\n",
    "for _ in range(iterations):\n",
    "    start = time()\n",
    "    model(image.unsqueeze(0))\n",
    "    end = time()\n",
    "    latency.append(end - start)\n",
    "    fps.append(1 / (end - start))\n",
    "\n",
    "# Compute the average latency and FPS\n",
    "mean_latency = np.mean(latency)\n",
    "mean_fps = np.mean(fps)\n",
    "std_latency = np.std(latency)\n",
    "std_fps = np.std(fps)\n",
    "\n",
    "# Print the latency and FPS\n",
    "print(f'Latency: {mean_latency:.3f} +/- {std_latency:.3f}')\n",
    "print(f'FPS: {mean_fps:.3f} +/- {std_fps:.3f}')\n"
   ]
  }
 ],
 "metadata": {
  "kernelspec": {
   "display_name": "polito",
   "language": "python",
   "name": "python3"
  },
  "language_info": {
   "codemirror_mode": {
    "name": "ipython",
    "version": 3
   },
   "file_extension": ".py",
   "mimetype": "text/x-python",
   "name": "python",
   "nbconvert_exporter": "python",
   "pygments_lexer": "ipython3",
   "version": "3.10.14"
  }
 },
 "nbformat": 4,
 "nbformat_minor": 2
}
