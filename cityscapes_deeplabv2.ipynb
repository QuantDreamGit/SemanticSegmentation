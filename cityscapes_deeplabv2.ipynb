{
 "cells": [
  {
   "cell_type": "markdown",
   "metadata": {},
   "source": [
    "### Import libraries"
   ]
  },
  {
   "cell_type": "code",
   "execution_count": 4,
   "metadata": {},
   "outputs": [],
   "source": [
    "import torch\n",
    "import warnings\n",
    "import numpy as np\n",
    "import torch.nn as nn\n",
    "import matplotlib.pyplot as plt\n",
    "\n",
    "from time import time\n",
    "from tqdm import tqdm\n",
    "from PIL import Image\n",
    "from torch.utils.data import DataLoader\n",
    "from torchvision.transforms import ToPILImage\n",
    "from fvcore.nn import FlopCountAnalysis, flop_count_table\n",
    "from datasets.cityscapes import CityScapes\n",
    "from utils import fast_hist, per_class_iou\n",
    "from models.deeplabv2.deeplabv2 import get_deeplab_v2\n",
    "\n",
    "# Ignore warnings\n",
    "warnings.filterwarnings(\"ignore\")"
   ]
  },
  {
   "cell_type": "markdown",
   "metadata": {},
   "source": [
    "### Training"
   ]
  },
  {
   "cell_type": "code",
   "execution_count": 5,
   "metadata": {},
   "outputs": [
    {
     "name": "stdout",
     "output_type": "stream",
     "text": [
      "Deeplab pretraining loading...\n"
     ]
    },
    {
     "name": "stderr",
     "output_type": "stream",
     "text": [
      "100%|██████████| 786/786 [05:16<00:00,  2.49it/s]\n"
     ]
    },
    {
     "name": "stdout",
     "output_type": "stream",
     "text": [
      "Epoch: 0, Loss: 0.2063758671283722, mIoU: 0.3805389146843618\n"
     ]
    },
    {
     "name": "stderr",
     "output_type": "stream",
     "text": [
      "100%|██████████| 786/786 [05:01<00:00,  2.61it/s]\n"
     ]
    },
    {
     "name": "stdout",
     "output_type": "stream",
     "text": [
      "Epoch: 1, Loss: 0.2018134891986847, mIoU: 0.5495569927578275\n"
     ]
    },
    {
     "name": "stderr",
     "output_type": "stream",
     "text": [
      "100%|██████████| 786/786 [05:04<00:00,  2.58it/s]\n"
     ]
    },
    {
     "name": "stdout",
     "output_type": "stream",
     "text": [
      "Epoch: 2, Loss: 0.21311384439468384, mIoU: 0.6140366430852418\n"
     ]
    },
    {
     "name": "stderr",
     "output_type": "stream",
     "text": [
      "100%|██████████| 786/786 [05:04<00:00,  2.58it/s]\n"
     ]
    },
    {
     "name": "stdout",
     "output_type": "stream",
     "text": [
      "Epoch: 3, Loss: 0.2973240911960602, mIoU: 0.6458333580412419\n"
     ]
    },
    {
     "name": "stderr",
     "output_type": "stream",
     "text": [
      "100%|██████████| 786/786 [05:04<00:00,  2.58it/s]\n"
     ]
    },
    {
     "name": "stdout",
     "output_type": "stream",
     "text": [
      "Epoch: 4, Loss: 0.1825062781572342, mIoU: 0.6661856154724832\n"
     ]
    },
    {
     "name": "stderr",
     "output_type": "stream",
     "text": [
      "100%|██████████| 786/786 [05:04<00:00,  2.58it/s]\n"
     ]
    },
    {
     "name": "stdout",
     "output_type": "stream",
     "text": [
      "Epoch: 5, Loss: 0.16446274518966675, mIoU: 0.684258496045201\n"
     ]
    },
    {
     "name": "stderr",
     "output_type": "stream",
     "text": [
      "100%|██████████| 786/786 [05:04<00:00,  2.58it/s]\n"
     ]
    },
    {
     "name": "stdout",
     "output_type": "stream",
     "text": [
      "Epoch: 6, Loss: 0.20018571615219116, mIoU: 0.6966829526090802\n"
     ]
    },
    {
     "name": "stderr",
     "output_type": "stream",
     "text": [
      "100%|██████████| 786/786 [05:04<00:00,  2.58it/s]\n"
     ]
    },
    {
     "name": "stdout",
     "output_type": "stream",
     "text": [
      "Epoch: 7, Loss: 0.21300280094146729, mIoU: 0.7081043676097183\n"
     ]
    },
    {
     "name": "stderr",
     "output_type": "stream",
     "text": [
      "100%|██████████| 786/786 [05:04<00:00,  2.58it/s]\n"
     ]
    },
    {
     "name": "stdout",
     "output_type": "stream",
     "text": [
      "Epoch: 8, Loss: 0.10568564385175705, mIoU: 0.7158386784728074\n"
     ]
    },
    {
     "name": "stderr",
     "output_type": "stream",
     "text": [
      "100%|██████████| 786/786 [05:04<00:00,  2.58it/s]\n"
     ]
    },
    {
     "name": "stdout",
     "output_type": "stream",
     "text": [
      "Epoch: 9, Loss: 0.11287789046764374, mIoU: 0.7224122871829693\n"
     ]
    },
    {
     "name": "stderr",
     "output_type": "stream",
     "text": [
      "100%|██████████| 786/786 [05:04<00:00,  2.58it/s]\n"
     ]
    },
    {
     "name": "stdout",
     "output_type": "stream",
     "text": [
      "Epoch: 10, Loss: 0.12107192724943161, mIoU: 0.725061076968547\n"
     ]
    },
    {
     "name": "stderr",
     "output_type": "stream",
     "text": [
      "100%|██████████| 786/786 [05:04<00:00,  2.58it/s]\n"
     ]
    },
    {
     "name": "stdout",
     "output_type": "stream",
     "text": [
      "Epoch: 11, Loss: 0.1012253612279892, mIoU: 0.7352304630111787\n"
     ]
    },
    {
     "name": "stderr",
     "output_type": "stream",
     "text": [
      "100%|██████████| 786/786 [05:04<00:00,  2.58it/s]\n"
     ]
    },
    {
     "name": "stdout",
     "output_type": "stream",
     "text": [
      "Epoch: 12, Loss: 0.1212562769651413, mIoU: 0.7402940280459989\n"
     ]
    },
    {
     "name": "stderr",
     "output_type": "stream",
     "text": [
      "100%|██████████| 786/786 [05:04<00:00,  2.58it/s]\n"
     ]
    },
    {
     "name": "stdout",
     "output_type": "stream",
     "text": [
      "Epoch: 13, Loss: 0.143440380692482, mIoU: 0.7448467311666168\n"
     ]
    },
    {
     "name": "stderr",
     "output_type": "stream",
     "text": [
      "100%|██████████| 786/786 [05:05<00:00,  2.58it/s]\n"
     ]
    },
    {
     "name": "stdout",
     "output_type": "stream",
     "text": [
      "Epoch: 14, Loss: 0.14513452351093292, mIoU: 0.7480132808409397\n"
     ]
    },
    {
     "name": "stderr",
     "output_type": "stream",
     "text": [
      "100%|██████████| 786/786 [05:04<00:00,  2.58it/s]\n"
     ]
    },
    {
     "name": "stdout",
     "output_type": "stream",
     "text": [
      "Epoch: 15, Loss: 0.12651851773262024, mIoU: 0.7519843683239712\n"
     ]
    },
    {
     "name": "stderr",
     "output_type": "stream",
     "text": [
      "100%|██████████| 786/786 [05:04<00:00,  2.58it/s]\n"
     ]
    },
    {
     "name": "stdout",
     "output_type": "stream",
     "text": [
      "Epoch: 16, Loss: 0.11760683357715607, mIoU: 0.7562882647196243\n"
     ]
    },
    {
     "name": "stderr",
     "output_type": "stream",
     "text": [
      "100%|██████████| 786/786 [05:04<00:00,  2.58it/s]\n"
     ]
    },
    {
     "name": "stdout",
     "output_type": "stream",
     "text": [
      "Epoch: 17, Loss: 0.17710274457931519, mIoU: 0.7594879717092943\n"
     ]
    },
    {
     "name": "stderr",
     "output_type": "stream",
     "text": [
      "100%|██████████| 786/786 [05:04<00:00,  2.58it/s]\n"
     ]
    },
    {
     "name": "stdout",
     "output_type": "stream",
     "text": [
      "Epoch: 18, Loss: 0.10512206703424454, mIoU: 0.7632771931868794\n"
     ]
    },
    {
     "name": "stderr",
     "output_type": "stream",
     "text": [
      "100%|██████████| 786/786 [05:04<00:00,  2.58it/s]\n"
     ]
    },
    {
     "name": "stdout",
     "output_type": "stream",
     "text": [
      "Epoch: 19, Loss: 0.16999578475952148, mIoU: 0.7645851350495274\n"
     ]
    },
    {
     "name": "stderr",
     "output_type": "stream",
     "text": [
      "100%|██████████| 786/786 [05:04<00:00,  2.58it/s]\n"
     ]
    },
    {
     "name": "stdout",
     "output_type": "stream",
     "text": [
      "Epoch: 20, Loss: 0.1401827037334442, mIoU: 0.7692217183877734\n"
     ]
    },
    {
     "name": "stderr",
     "output_type": "stream",
     "text": [
      "100%|██████████| 786/786 [05:05<00:00,  2.58it/s]\n"
     ]
    },
    {
     "name": "stdout",
     "output_type": "stream",
     "text": [
      "Epoch: 21, Loss: 0.14944559335708618, mIoU: 0.7718155683321567\n"
     ]
    },
    {
     "name": "stderr",
     "output_type": "stream",
     "text": [
      "100%|██████████| 786/786 [05:04<00:00,  2.58it/s]\n"
     ]
    },
    {
     "name": "stdout",
     "output_type": "stream",
     "text": [
      "Epoch: 22, Loss: 0.17882204055786133, mIoU: 0.7738803228077167\n"
     ]
    },
    {
     "name": "stderr",
     "output_type": "stream",
     "text": [
      "100%|██████████| 786/786 [05:05<00:00,  2.58it/s]\n"
     ]
    },
    {
     "name": "stdout",
     "output_type": "stream",
     "text": [
      "Epoch: 23, Loss: 0.10406665503978729, mIoU: 0.7762623423360236\n"
     ]
    },
    {
     "name": "stderr",
     "output_type": "stream",
     "text": [
      "100%|██████████| 786/786 [05:07<00:00,  2.56it/s]\n"
     ]
    },
    {
     "name": "stdout",
     "output_type": "stream",
     "text": [
      "Epoch: 24, Loss: 0.15465112030506134, mIoU: 0.7781586101529796\n"
     ]
    },
    {
     "name": "stderr",
     "output_type": "stream",
     "text": [
      "100%|██████████| 786/786 [05:06<00:00,  2.56it/s]\n"
     ]
    },
    {
     "name": "stdout",
     "output_type": "stream",
     "text": [
      "Epoch: 25, Loss: 0.1117447167634964, mIoU: 0.7793966365546137\n"
     ]
    },
    {
     "name": "stderr",
     "output_type": "stream",
     "text": [
      "100%|██████████| 786/786 [05:06<00:00,  2.56it/s]\n"
     ]
    },
    {
     "name": "stdout",
     "output_type": "stream",
     "text": [
      "Epoch: 26, Loss: 0.1278432458639145, mIoU: 0.782130356856381\n"
     ]
    },
    {
     "name": "stderr",
     "output_type": "stream",
     "text": [
      "100%|██████████| 786/786 [05:06<00:00,  2.56it/s]\n"
     ]
    },
    {
     "name": "stdout",
     "output_type": "stream",
     "text": [
      "Epoch: 27, Loss: 0.10245610028505325, mIoU: 0.7838590142978813\n"
     ]
    },
    {
     "name": "stderr",
     "output_type": "stream",
     "text": [
      "100%|██████████| 786/786 [05:06<00:00,  2.56it/s]\n"
     ]
    },
    {
     "name": "stdout",
     "output_type": "stream",
     "text": [
      "Epoch: 28, Loss: 0.11997895687818527, mIoU: 0.7862304210763027\n"
     ]
    },
    {
     "name": "stderr",
     "output_type": "stream",
     "text": [
      "100%|██████████| 786/786 [05:06<00:00,  2.57it/s]\n"
     ]
    },
    {
     "name": "stdout",
     "output_type": "stream",
     "text": [
      "Epoch: 29, Loss: 0.1588646024465561, mIoU: 0.7875570017482454\n"
     ]
    },
    {
     "name": "stderr",
     "output_type": "stream",
     "text": [
      "100%|██████████| 786/786 [05:07<00:00,  2.56it/s]\n"
     ]
    },
    {
     "name": "stdout",
     "output_type": "stream",
     "text": [
      "Epoch: 30, Loss: 0.06956764310598373, mIoU: 0.789562223435866\n"
     ]
    },
    {
     "name": "stderr",
     "output_type": "stream",
     "text": [
      "100%|██████████| 786/786 [05:06<00:00,  2.56it/s]\n"
     ]
    },
    {
     "name": "stdout",
     "output_type": "stream",
     "text": [
      "Epoch: 31, Loss: 0.09535229206085205, mIoU: 0.7914852625778712\n"
     ]
    },
    {
     "name": "stderr",
     "output_type": "stream",
     "text": [
      "100%|██████████| 786/786 [05:06<00:00,  2.56it/s]\n"
     ]
    },
    {
     "name": "stdout",
     "output_type": "stream",
     "text": [
      "Epoch: 32, Loss: 0.1406514197587967, mIoU: 0.7926129320493684\n"
     ]
    },
    {
     "name": "stderr",
     "output_type": "stream",
     "text": [
      "100%|██████████| 786/786 [05:06<00:00,  2.56it/s]\n"
     ]
    },
    {
     "name": "stdout",
     "output_type": "stream",
     "text": [
      "Epoch: 33, Loss: 0.07492487877607346, mIoU: 0.7930507051773423\n"
     ]
    },
    {
     "name": "stderr",
     "output_type": "stream",
     "text": [
      "100%|██████████| 786/786 [05:06<00:00,  2.56it/s]\n"
     ]
    },
    {
     "name": "stdout",
     "output_type": "stream",
     "text": [
      "Epoch: 34, Loss: 0.12624402344226837, mIoU: 0.7951036203486408\n"
     ]
    },
    {
     "name": "stderr",
     "output_type": "stream",
     "text": [
      "100%|██████████| 786/786 [05:06<00:00,  2.56it/s]\n"
     ]
    },
    {
     "name": "stdout",
     "output_type": "stream",
     "text": [
      "Epoch: 35, Loss: 0.10754399746656418, mIoU: 0.7970055432627365\n"
     ]
    },
    {
     "name": "stderr",
     "output_type": "stream",
     "text": [
      "100%|██████████| 786/786 [05:07<00:00,  2.56it/s]\n"
     ]
    },
    {
     "name": "stdout",
     "output_type": "stream",
     "text": [
      "Epoch: 36, Loss: 0.09229008853435516, mIoU: 0.7978605701078438\n"
     ]
    },
    {
     "name": "stderr",
     "output_type": "stream",
     "text": [
      "100%|██████████| 786/786 [05:06<00:00,  2.56it/s]\n"
     ]
    },
    {
     "name": "stdout",
     "output_type": "stream",
     "text": [
      "Epoch: 37, Loss: 0.11652876436710358, mIoU: 0.7995290189199087\n"
     ]
    },
    {
     "name": "stderr",
     "output_type": "stream",
     "text": [
      "100%|██████████| 786/786 [05:06<00:00,  2.56it/s]\n"
     ]
    },
    {
     "name": "stdout",
     "output_type": "stream",
     "text": [
      "Epoch: 38, Loss: 0.10248754918575287, mIoU: 0.8009883923070903\n"
     ]
    },
    {
     "name": "stderr",
     "output_type": "stream",
     "text": [
      "100%|██████████| 786/786 [05:06<00:00,  2.56it/s]\n"
     ]
    },
    {
     "name": "stdout",
     "output_type": "stream",
     "text": [
      "Epoch: 39, Loss: 0.10034912824630737, mIoU: 0.8014149640691439\n"
     ]
    },
    {
     "name": "stderr",
     "output_type": "stream",
     "text": [
      "100%|██████████| 786/786 [05:06<00:00,  2.56it/s]\n"
     ]
    },
    {
     "name": "stdout",
     "output_type": "stream",
     "text": [
      "Epoch: 40, Loss: 0.0894288495182991, mIoU: 0.8031528258006356\n"
     ]
    },
    {
     "name": "stderr",
     "output_type": "stream",
     "text": [
      "100%|██████████| 786/786 [05:07<00:00,  2.56it/s]\n"
     ]
    },
    {
     "name": "stdout",
     "output_type": "stream",
     "text": [
      "Epoch: 41, Loss: 0.10222522169351578, mIoU: 0.8041429188396232\n"
     ]
    },
    {
     "name": "stderr",
     "output_type": "stream",
     "text": [
      "100%|██████████| 786/786 [05:07<00:00,  2.56it/s]\n"
     ]
    },
    {
     "name": "stdout",
     "output_type": "stream",
     "text": [
      "Epoch: 42, Loss: 0.15790843963623047, mIoU: 0.8053161807494094\n"
     ]
    },
    {
     "name": "stderr",
     "output_type": "stream",
     "text": [
      "100%|██████████| 786/786 [05:06<00:00,  2.56it/s]\n"
     ]
    },
    {
     "name": "stdout",
     "output_type": "stream",
     "text": [
      "Epoch: 43, Loss: 0.11918115615844727, mIoU: 0.806498369670496\n"
     ]
    },
    {
     "name": "stderr",
     "output_type": "stream",
     "text": [
      "100%|██████████| 786/786 [05:06<00:00,  2.56it/s]\n"
     ]
    },
    {
     "name": "stdout",
     "output_type": "stream",
     "text": [
      "Epoch: 44, Loss: 0.10367756336927414, mIoU: 0.807253918229938\n"
     ]
    },
    {
     "name": "stderr",
     "output_type": "stream",
     "text": [
      "100%|██████████| 786/786 [05:06<00:00,  2.56it/s]\n"
     ]
    },
    {
     "name": "stdout",
     "output_type": "stream",
     "text": [
      "Epoch: 45, Loss: 0.1101074367761612, mIoU: 0.8086341703454799\n"
     ]
    },
    {
     "name": "stderr",
     "output_type": "stream",
     "text": [
      "100%|██████████| 786/786 [05:06<00:00,  2.56it/s]\n"
     ]
    },
    {
     "name": "stdout",
     "output_type": "stream",
     "text": [
      "Epoch: 46, Loss: 0.10228317230939865, mIoU: 0.8097300102366218\n"
     ]
    },
    {
     "name": "stderr",
     "output_type": "stream",
     "text": [
      "100%|██████████| 786/786 [05:06<00:00,  2.56it/s]\n"
     ]
    },
    {
     "name": "stdout",
     "output_type": "stream",
     "text": [
      "Epoch: 47, Loss: 0.07648869603872299, mIoU: 0.8105034774206603\n"
     ]
    },
    {
     "name": "stderr",
     "output_type": "stream",
     "text": [
      "100%|██████████| 786/786 [05:06<00:00,  2.57it/s]\n"
     ]
    },
    {
     "name": "stdout",
     "output_type": "stream",
     "text": [
      "Epoch: 48, Loss: 0.09644290804862976, mIoU: 0.8114559842032442\n"
     ]
    },
    {
     "name": "stderr",
     "output_type": "stream",
     "text": [
      "100%|██████████| 786/786 [05:05<00:00,  2.57it/s]\n"
     ]
    },
    {
     "name": "stdout",
     "output_type": "stream",
     "text": [
      "Epoch: 49, Loss: 0.11072459071874619, mIoU: 0.8119986912060697\n"
     ]
    }
   ],
   "source": [
    "# Define the polynomial learning rate scheduler\n",
    "def poly_lr_scheduler(optimizer, init_lr, iter, lr_decay_iter=1, max_iter=300, power=0.9):\n",
    "    lr = init_lr * (1 - iter / max_iter) ** power\n",
    "    optimizer.param_groups[0]['lr'] = lr\n",
    "    return lr\n",
    "\n",
    "# Set the device\n",
    "device = torch.device('cuda')\n",
    "\n",
    "# Load the model\n",
    "model = get_deeplab_v2(root_dir='models/deeplabv2').to(device)\n",
    "# Set the model to training mode\n",
    "model.train()\n",
    "\n",
    "# Set the loss function and optimizer\n",
    "criterion = nn.CrossEntropyLoss(ignore_index=255)\n",
    "optimizer = torch.optim.SGD(model.parameters(), lr=0.001, momentum=0.9, weight_decay=1e-4)\n",
    "\n",
    "# Load the dataset\n",
    "dataset = CityScapes(root_dir='datasets/Cityspaces', split='train')\n",
    "dataloader = DataLoader(dataset, batch_size=2, shuffle=True, num_workers=4)\n",
    "\n",
    "# Train the model\n",
    "for epoch in range(50):\n",
    "    # Initialize the hist matrix at each epoch\n",
    "    hist = np.zeros((19, 19))\n",
    "    for image, label in tqdm(dataloader):\n",
    "        image = image.to(device)\n",
    "        label = label.to(device)\n",
    "        # Forward pass\n",
    "        output = model(image)[0]\n",
    "        # Calculate the loss\n",
    "        loss = criterion(output, label)\n",
    "        # Zero the gradients\n",
    "        optimizer.zero_grad()\n",
    "        # Backward pass\n",
    "        loss.backward()\n",
    "        # Update the weights\n",
    "        optimizer.step()\n",
    "        # Compute the predictions\n",
    "        pred = output.argmax(dim=1)\n",
    "        # Calculate the mean IoU\n",
    "        hist += fast_hist(label.flatten().cpu().numpy(), pred.flatten().cpu().numpy(), 19)\n",
    "        miou = np.mean(per_class_iou(hist))\n",
    "\n",
    "    # Update the learning rate\n",
    "    poly_lr_scheduler(optimizer, 0.001, epoch, max_iter=len(dataloader))\n",
    "\n",
    "    # Print the loss and mIoU\n",
    "    print(f'Epoch: {epoch}, Loss: {loss.item()}, mIoU: {miou}')\n",
    "\n",
    "# Save the model\n",
    "torch.save(model.state_dict(), 'models/deeplabv2/deeplabv2_step2a/deeplabv2.pth')"
   ]
  },
  {
   "cell_type": "markdown",
   "metadata": {},
   "source": [
    "### Validation"
   ]
  },
  {
   "cell_type": "code",
   "execution_count": 6,
   "metadata": {},
   "outputs": [
    {
     "name": "stdout",
     "output_type": "stream",
     "text": [
      "Deeplab pretraining loading...\n"
     ]
    },
    {
     "name": "stderr",
     "output_type": "stream",
     "text": [
      "500it [00:32, 15.28it/s]"
     ]
    },
    {
     "name": "stdout",
     "output_type": "stream",
     "text": [
      "mIoU: 0.6004147910250586\n"
     ]
    },
    {
     "name": "stderr",
     "output_type": "stream",
     "text": [
      "\n"
     ]
    }
   ],
   "source": [
    "# Set the device\n",
    "device = torch.device('cuda')\n",
    "\n",
    "# Load the model\n",
    "model = get_deeplab_v2(root_dir='models/deeplabv2').to(device)\n",
    "model.load_state_dict(torch.load('models/deeplabv2/deeplabv2_step2a/deeplabv2.pth'))\n",
    "# Set the model to evaluation mode\n",
    "model.eval()\n",
    "\n",
    "# Load the dataset\n",
    "dataset = CityScapes(root_dir='datasets/Cityspaces', split='val')\n",
    "dataloader = DataLoader(dataset, batch_size=1, shuffle=True, num_workers=4)\n",
    "\n",
    "# Validate the model\n",
    "# Initialize the hist matrix\n",
    "hist = np.zeros((19, 19))\n",
    "for i, (image, label) in tqdm(enumerate(dataloader)):\n",
    "    image = image.to(device)\n",
    "    label = label.to(device)\n",
    "    # Forward pass\n",
    "    output = model(image)\n",
    "    # Compute the predictions\n",
    "    pred = output.argmax(dim=1)\n",
    "    # Calculate the mean IoU\n",
    "    hist += fast_hist(label.flatten().cpu().numpy(), pred.flatten().cpu().numpy(), 19)\n",
    "    miou = np.mean(per_class_iou(hist))\n",
    "    \n",
    "# Print the mIoU\n",
    "print(f'mIoU: {miou}')"
   ]
  },
  {
   "cell_type": "markdown",
   "metadata": {},
   "source": [
    "### Example"
   ]
  },
  {
   "cell_type": "code",
   "execution_count": 7,
   "metadata": {},
   "outputs": [
    {
     "name": "stdout",
     "output_type": "stream",
     "text": [
      "Deeplab pretraining loading...\n"
     ]
    },
    {
     "name": "stderr",
     "output_type": "stream",
     "text": [
      "0it [00:00, ?it/s]\n"
     ]
    },
    {
     "data": {
      "image/png": "[encoded data removed]",
      "text/plain": [
       "<Figure size 2000x2000 with 2 Axes>"
      ]
     },
     "metadata": {},
     "output_type": "display_data"
    }
   ],
   "source": [
    "# Set the device\n",
    "device = torch.device('cuda')\n",
    "\n",
    "# Load the model\n",
    "model = get_deeplab_v2(root_dir='models/deeplabv2').to(device)\n",
    "model.load_state_dict(torch.load('models/deeplabv2/deeplabv2_step2a/deeplabv2.pth'))\n",
    "# Set the model to evaluation mode\n",
    "model.eval()\n",
    "\n",
    "# Load the dataset\n",
    "dataset = CityScapes(root_dir='datasets/Cityspaces', split='val')\n",
    "dataloader = DataLoader(dataset, batch_size=1, shuffle=True, num_workers=1)\n",
    "\n",
    "# Validate the model\n",
    "# Initialize the hist matrix\n",
    "hist = np.zeros((19, 19))\n",
    "for i, (image, label) in tqdm(enumerate(dataloader)):\n",
    "    image = image.to(device)\n",
    "    label = label.to(device)\n",
    "    # Forward pass\n",
    "    output = model(image)\n",
    "    # Compute the predictions\n",
    "    pred = output.argmax(dim=1)\n",
    "    # Break after the first iteration\n",
    "    break\n",
    "\n",
    "# Display the image\n",
    "image = ToPILImage()(image[0].cpu())\n",
    "# Convert label, pred from numpy to image\n",
    "label = Image.fromarray(label[0].cpu().numpy().astype(np.uint8))\n",
    "pred = Image.fromarray(pred[0].cpu().numpy().astype(np.uint8))\n",
    "\n",
    "# Display the image\n",
    "plt.figure(figsize=(20, 20))\n",
    "plt.subplot(121)\n",
    "plt.imshow(label)\n",
    "plt.title('Label')\n",
    "plt.axis('off')\n",
    "plt.subplot(122)\n",
    "plt.imshow(pred)\n",
    "plt.title('Prediction')\n",
    "plt.axis('off')\n",
    "plt.show()"
   ]
  },
  {
   "cell_type": "markdown",
   "metadata": {},
   "source": [
    "### FLOPs and Parameters"
   ]
  },
  {
   "cell_type": "code",
   "execution_count": 8,
   "metadata": {},
   "outputs": [
    {
     "name": "stdout",
     "output_type": "stream",
     "text": [
      "Deeplab pretraining loading...\n",
      "Number of parameters: 43901068\n",
      "\n",
      "| module                         | #parameters or shape   | #flops     |\n",
      "|:-------------------------------|:-----------------------|:-----------|\n",
      "| model                          | 43.901M                | 0.375T     |\n",
      "|  conv1                         |  9.408K                |  1.233G    |\n",
      "|   conv1.weight                 |   (64, 3, 7, 7)        |            |\n",
      "|  bn1                           |  0.128K                |  16.777M   |\n",
      "|   bn1.weight                   |   (64,)                |            |\n",
      "|   bn1.bias                     |   (64,)                |            |\n",
      "|  layer1                        |  0.216M                |  7.155G    |\n",
      "|   layer1.0                     |   75.008K              |   2.487G   |\n",
      "|    layer1.0.conv1              |    4.096K              |    0.136G  |\n",
      "|    layer1.0.bn1                |    0.128K              |    4.244M  |\n",
      "|    layer1.0.conv2              |    36.864K             |    1.222G  |\n",
      "|    layer1.0.bn2                |    0.128K              |    4.244M  |\n",
      "|    layer1.0.conv3              |    16.384K             |    0.543G  |\n",
      "|    layer1.0.bn3                |    0.512K              |    16.974M |\n",
      "|    layer1.0.downsample         |    16.896K             |    0.56G   |\n",
      "|   layer1.1                     |   70.4K                |   2.334G   |\n",
      "|    layer1.1.conv1              |    16.384K             |    0.543G  |\n",
      "|    layer1.1.bn1                |    0.128K              |    4.244M  |\n",
      "|    layer1.1.conv2              |    36.864K             |    1.222G  |\n",
      "|    layer1.1.bn2                |    0.128K              |    4.244M  |\n",
      "|    layer1.1.conv3              |    16.384K             |    0.543G  |\n",
      "|    layer1.1.bn3                |    0.512K              |    16.974M |\n",
      "|   layer1.2                     |   70.4K                |   2.334G   |\n",
      "|    layer1.2.conv1              |    16.384K             |    0.543G  |\n",
      "|    layer1.2.bn1                |    0.128K              |    4.244M  |\n",
      "|    layer1.2.conv2              |    36.864K             |    1.222G  |\n",
      "|    layer1.2.bn2                |    0.128K              |    4.244M  |\n",
      "|    layer1.2.conv3              |    16.384K             |    0.543G  |\n",
      "|    layer1.2.bn3                |    0.512K              |    16.974M |\n",
      "|  layer2                        |  1.22M                 |  10.226G   |\n",
      "|   layer2.0                     |   0.379M               |   3.181G   |\n",
      "|    layer2.0.conv1              |    32.768K             |    0.275G  |\n",
      "|    layer2.0.bn1                |    0.256K              |    2.147M  |\n",
      "|    layer2.0.conv2              |    0.147M              |    1.236G  |\n",
      "|    layer2.0.bn2                |    0.256K              |    2.147M  |\n",
      "|    layer2.0.conv3              |    65.536K             |    0.55G   |\n",
      "|    layer2.0.bn3                |    1.024K              |    8.586M  |\n",
      "|    layer2.0.downsample         |    0.132M              |    1.108G  |\n",
      "|   layer2.1                     |   0.28M                |   2.348G   |\n",
      "|    layer2.1.conv1              |    65.536K             |    0.55G   |\n",
      "|    layer2.1.bn1                |    0.256K              |    2.147M  |\n",
      "|    layer2.1.conv2              |    0.147M              |    1.236G  |\n",
      "|    layer2.1.bn2                |    0.256K              |    2.147M  |\n",
      "|    layer2.1.conv3              |    65.536K             |    0.55G   |\n",
      "|    layer2.1.bn3                |    1.024K              |    8.586M  |\n",
      "|   layer2.2                     |   0.28M                |   2.348G   |\n",
      "|    layer2.2.conv1              |    65.536K             |    0.55G   |\n",
      "|    layer2.2.bn1                |    0.256K              |    2.147M  |\n",
      "|    layer2.2.conv2              |    0.147M              |    1.236G  |\n",
      "|    layer2.2.bn2                |    0.256K              |    2.147M  |\n",
      "|    layer2.2.conv3              |    65.536K             |    0.55G   |\n",
      "|    layer2.2.bn3                |    1.024K              |    8.586M  |\n",
      "|   layer2.3                     |   0.28M                |   2.348G   |\n",
      "|    layer2.3.conv1              |    65.536K             |    0.55G   |\n",
      "|    layer2.3.bn1                |    0.256K              |    2.147M  |\n",
      "|    layer2.3.conv2              |    0.147M              |    1.236G  |\n",
      "|    layer2.3.bn2                |    0.256K              |    2.147M  |\n",
      "|    layer2.3.conv3              |    65.536K             |    0.55G   |\n",
      "|    layer2.3.bn3                |    1.024K              |    8.586M  |\n",
      "|  layer3                        |  26.09M                |  0.219T    |\n",
      "|   layer3.0                     |   1.512M               |   12.682G  |\n",
      "|    layer3.0.conv1              |    0.131M              |    1.099G  |\n",
      "|    layer3.0.bn1                |    0.512K              |    4.293M  |\n",
      "|    layer3.0.conv2              |    0.59M               |    4.946G  |\n",
      "|    layer3.0.bn2                |    0.512K              |    4.293M  |\n",
      "|    layer3.0.conv3              |    0.262M              |    2.198G  |\n",
      "|    layer3.0.bn3                |    2.048K              |    17.172M |\n",
      "|    layer3.0.downsample         |    0.526M              |    4.413G  |\n",
      "|   layer3.1                     |   1.117M               |   9.368G   |\n",
      "|    layer3.1.conv1              |    0.262M              |    2.198G  |\n",
      "|    layer3.1.bn1                |    0.512K              |    4.293M  |\n",
      "|    layer3.1.conv2              |    0.59M               |    4.946G  |\n",
      "|    layer3.1.bn2                |    0.512K              |    4.293M  |\n",
      "|    layer3.1.conv3              |    0.262M              |    2.198G  |\n",
      "|    layer3.1.bn3                |    2.048K              |    17.172M |\n",
      "|   layer3.2                     |   1.117M               |   9.368G   |\n",
      "|    layer3.2.conv1              |    0.262M              |    2.198G  |\n",
      "|    layer3.2.bn1                |    0.512K              |    4.293M  |\n",
      "|    layer3.2.conv2              |    0.59M               |    4.946G  |\n",
      "|    layer3.2.bn2                |    0.512K              |    4.293M  |\n",
      "|    layer3.2.conv3              |    0.262M              |    2.198G  |\n",
      "|    layer3.2.bn3                |    2.048K              |    17.172M |\n",
      "|   layer3.3                     |   1.117M               |   9.368G   |\n",
      "|    layer3.3.conv1              |    0.262M              |    2.198G  |\n",
      "|    layer3.3.bn1                |    0.512K              |    4.293M  |\n",
      "|    layer3.3.conv2              |    0.59M               |    4.946G  |\n",
      "|    layer3.3.bn2                |    0.512K              |    4.293M  |\n",
      "|    layer3.3.conv3              |    0.262M              |    2.198G  |\n",
      "|    layer3.3.bn3                |    2.048K              |    17.172M |\n",
      "|   layer3.4                     |   1.117M               |   9.368G   |\n",
      "|    layer3.4.conv1              |    0.262M              |    2.198G  |\n",
      "|    layer3.4.bn1                |    0.512K              |    4.293M  |\n",
      "|    layer3.4.conv2              |    0.59M               |    4.946G  |\n",
      "|    layer3.4.bn2                |    0.512K              |    4.293M  |\n",
      "|    layer3.4.conv3              |    0.262M              |    2.198G  |\n",
      "|    layer3.4.bn3                |    2.048K              |    17.172M |\n",
      "|   layer3.5                     |   1.117M               |   9.368G   |\n",
      "|    layer3.5.conv1              |    0.262M              |    2.198G  |\n",
      "|    layer3.5.bn1                |    0.512K              |    4.293M  |\n",
      "|    layer3.5.conv2              |    0.59M               |    4.946G  |\n",
      "|    layer3.5.bn2                |    0.512K              |    4.293M  |\n",
      "|    layer3.5.conv3              |    0.262M              |    2.198G  |\n",
      "|    layer3.5.bn3                |    2.048K              |    17.172M |\n",
      "|   layer3.6                     |   1.117M               |   9.368G   |\n",
      "|    layer3.6.conv1              |    0.262M              |    2.198G  |\n",
      "|    layer3.6.bn1                |    0.512K              |    4.293M  |\n",
      "|    layer3.6.conv2              |    0.59M               |    4.946G  |\n",
      "|    layer3.6.bn2                |    0.512K              |    4.293M  |\n",
      "|    layer3.6.conv3              |    0.262M              |    2.198G  |\n",
      "|    layer3.6.bn3                |    2.048K              |    17.172M |\n",
      "|   layer3.7                     |   1.117M               |   9.368G   |\n",
      "|    layer3.7.conv1              |    0.262M              |    2.198G  |\n",
      "|    layer3.7.bn1                |    0.512K              |    4.293M  |\n",
      "|    layer3.7.conv2              |    0.59M               |    4.946G  |\n",
      "|    layer3.7.bn2                |    0.512K              |    4.293M  |\n",
      "|    layer3.7.conv3              |    0.262M              |    2.198G  |\n",
      "|    layer3.7.bn3                |    2.048K              |    17.172M |\n",
      "|   layer3.8                     |   1.117M               |   9.368G   |\n",
      "|    layer3.8.conv1              |    0.262M              |    2.198G  |\n",
      "|    layer3.8.bn1                |    0.512K              |    4.293M  |\n",
      "|    layer3.8.conv2              |    0.59M               |    4.946G  |\n",
      "|    layer3.8.bn2                |    0.512K              |    4.293M  |\n",
      "|    layer3.8.conv3              |    0.262M              |    2.198G  |\n",
      "|    layer3.8.bn3                |    2.048K              |    17.172M |\n",
      "|   layer3.9                     |   1.117M               |   9.368G   |\n",
      "|    layer3.9.conv1              |    0.262M              |    2.198G  |\n",
      "|    layer3.9.bn1                |    0.512K              |    4.293M  |\n",
      "|    layer3.9.conv2              |    0.59M               |    4.946G  |\n",
      "|    layer3.9.bn2                |    0.512K              |    4.293M  |\n",
      "|    layer3.9.conv3              |    0.262M              |    2.198G  |\n",
      "|    layer3.9.bn3                |    2.048K              |    17.172M |\n",
      "|   layer3.10                    |   1.117M               |   9.368G   |\n",
      "|    layer3.10.conv1             |    0.262M              |    2.198G  |\n",
      "|    layer3.10.bn1               |    0.512K              |    4.293M  |\n",
      "|    layer3.10.conv2             |    0.59M               |    4.946G  |\n",
      "|    layer3.10.bn2               |    0.512K              |    4.293M  |\n",
      "|    layer3.10.conv3             |    0.262M              |    2.198G  |\n",
      "|    layer3.10.bn3               |    2.048K              |    17.172M |\n",
      "|   layer3.11                    |   1.117M               |   9.368G   |\n",
      "|    layer3.11.conv1             |    0.262M              |    2.198G  |\n",
      "|    layer3.11.bn1               |    0.512K              |    4.293M  |\n",
      "|    layer3.11.conv2             |    0.59M               |    4.946G  |\n",
      "|    layer3.11.bn2               |    0.512K              |    4.293M  |\n",
      "|    layer3.11.conv3             |    0.262M              |    2.198G  |\n",
      "|    layer3.11.bn3               |    2.048K              |    17.172M |\n",
      "|   layer3.12                    |   1.117M               |   9.368G   |\n",
      "|    layer3.12.conv1             |    0.262M              |    2.198G  |\n",
      "|    layer3.12.bn1               |    0.512K              |    4.293M  |\n",
      "|    layer3.12.conv2             |    0.59M               |    4.946G  |\n",
      "|    layer3.12.bn2               |    0.512K              |    4.293M  |\n",
      "|    layer3.12.conv3             |    0.262M              |    2.198G  |\n",
      "|    layer3.12.bn3               |    2.048K              |    17.172M |\n",
      "|   layer3.13                    |   1.117M               |   9.368G   |\n",
      "|    layer3.13.conv1             |    0.262M              |    2.198G  |\n",
      "|    layer3.13.bn1               |    0.512K              |    4.293M  |\n",
      "|    layer3.13.conv2             |    0.59M               |    4.946G  |\n",
      "|    layer3.13.bn2               |    0.512K              |    4.293M  |\n",
      "|    layer3.13.conv3             |    0.262M              |    2.198G  |\n",
      "|    layer3.13.bn3               |    2.048K              |    17.172M |\n",
      "|   layer3.14                    |   1.117M               |   9.368G   |\n",
      "|    layer3.14.conv1             |    0.262M              |    2.198G  |\n",
      "|    layer3.14.bn1               |    0.512K              |    4.293M  |\n",
      "|    layer3.14.conv2             |    0.59M               |    4.946G  |\n",
      "|    layer3.14.bn2               |    0.512K              |    4.293M  |\n",
      "|    layer3.14.conv3             |    0.262M              |    2.198G  |\n",
      "|    layer3.14.bn3               |    2.048K              |    17.172M |\n",
      "|   layer3.15                    |   1.117M               |   9.368G   |\n",
      "|    layer3.15.conv1             |    0.262M              |    2.198G  |\n",
      "|    layer3.15.bn1               |    0.512K              |    4.293M  |\n",
      "|    layer3.15.conv2             |    0.59M               |    4.946G  |\n",
      "|    layer3.15.bn2               |    0.512K              |    4.293M  |\n",
      "|    layer3.15.conv3             |    0.262M              |    2.198G  |\n",
      "|    layer3.15.bn3               |    2.048K              |    17.172M |\n",
      "|   layer3.16                    |   1.117M               |   9.368G   |\n",
      "|    layer3.16.conv1             |    0.262M              |    2.198G  |\n",
      "|    layer3.16.bn1               |    0.512K              |    4.293M  |\n",
      "|    layer3.16.conv2             |    0.59M               |    4.946G  |\n",
      "|    layer3.16.bn2               |    0.512K              |    4.293M  |\n",
      "|    layer3.16.conv3             |    0.262M              |    2.198G  |\n",
      "|    layer3.16.bn3               |    2.048K              |    17.172M |\n",
      "|   layer3.17                    |   1.117M               |   9.368G   |\n",
      "|    layer3.17.conv1             |    0.262M              |    2.198G  |\n",
      "|    layer3.17.bn1               |    0.512K              |    4.293M  |\n",
      "|    layer3.17.conv2             |    0.59M               |    4.946G  |\n",
      "|    layer3.17.bn2               |    0.512K              |    4.293M  |\n",
      "|    layer3.17.conv3             |    0.262M              |    2.198G  |\n",
      "|    layer3.17.bn3               |    2.048K              |    17.172M |\n",
      "|   layer3.18                    |   1.117M               |   9.368G   |\n",
      "|    layer3.18.conv1             |    0.262M              |    2.198G  |\n",
      "|    layer3.18.bn1               |    0.512K              |    4.293M  |\n",
      "|    layer3.18.conv2             |    0.59M               |    4.946G  |\n",
      "|    layer3.18.bn2               |    0.512K              |    4.293M  |\n",
      "|    layer3.18.conv3             |    0.262M              |    2.198G  |\n",
      "|    layer3.18.bn3               |    2.048K              |    17.172M |\n",
      "|   layer3.19                    |   1.117M               |   9.368G   |\n",
      "|    layer3.19.conv1             |    0.262M              |    2.198G  |\n",
      "|    layer3.19.bn1               |    0.512K              |    4.293M  |\n",
      "|    layer3.19.conv2             |    0.59M               |    4.946G  |\n",
      "|    layer3.19.bn2               |    0.512K              |    4.293M  |\n",
      "|    layer3.19.conv3             |    0.262M              |    2.198G  |\n",
      "|    layer3.19.bn3               |    2.048K              |    17.172M |\n",
      "|   layer3.20                    |   1.117M               |   9.368G   |\n",
      "|    layer3.20.conv1             |    0.262M              |    2.198G  |\n",
      "|    layer3.20.bn1               |    0.512K              |    4.293M  |\n",
      "|    layer3.20.conv2             |    0.59M               |    4.946G  |\n",
      "|    layer3.20.bn2               |    0.512K              |    4.293M  |\n",
      "|    layer3.20.conv3             |    0.262M              |    2.198G  |\n",
      "|    layer3.20.bn3               |    2.048K              |    17.172M |\n",
      "|   layer3.21                    |   1.117M               |   9.368G   |\n",
      "|    layer3.21.conv1             |    0.262M              |    2.198G  |\n",
      "|    layer3.21.bn1               |    0.512K              |    4.293M  |\n",
      "|    layer3.21.conv2             |    0.59M               |    4.946G  |\n",
      "|    layer3.21.bn2               |    0.512K              |    4.293M  |\n",
      "|    layer3.21.conv3             |    0.262M              |    2.198G  |\n",
      "|    layer3.21.bn3               |    2.048K              |    17.172M |\n",
      "|   layer3.22                    |   1.117M               |   9.368G   |\n",
      "|    layer3.22.conv1             |    0.262M              |    2.198G  |\n",
      "|    layer3.22.bn1               |    0.512K              |    4.293M  |\n",
      "|    layer3.22.conv2             |    0.59M               |    4.946G  |\n",
      "|    layer3.22.bn2               |    0.512K              |    4.293M  |\n",
      "|    layer3.22.conv3             |    0.262M              |    2.198G  |\n",
      "|    layer3.22.bn3               |    2.048K              |    17.172M |\n",
      "|  layer4                        |  14.965M               |  0.125T    |\n",
      "|   layer4.0                     |   6.04M                |   50.642G  |\n",
      "|    layer4.0.conv1              |    0.524M              |    4.396G  |\n",
      "|    layer4.0.bn1                |    1.024K              |    8.586M  |\n",
      "|    layer4.0.conv2              |    2.359M              |    19.783G |\n",
      "|    layer4.0.bn2                |    1.024K              |    8.586M  |\n",
      "|    layer4.0.conv3              |    1.049M              |    8.792G  |\n",
      "|    layer4.0.bn3                |    4.096K              |    34.345M |\n",
      "|    layer4.0.downsample         |    2.101M              |    17.619G |\n",
      "|   layer4.1                     |   4.463M               |   37.419G  |\n",
      "|    layer4.1.conv1              |    1.049M              |    8.792G  |\n",
      "|    layer4.1.bn1                |    1.024K              |    8.586M  |\n",
      "|    layer4.1.conv2              |    2.359M              |    19.783G |\n",
      "|    layer4.1.bn2                |    1.024K              |    8.586M  |\n",
      "|    layer4.1.conv3              |    1.049M              |    8.792G  |\n",
      "|    layer4.1.bn3                |    4.096K              |    34.345M |\n",
      "|   layer4.2                     |   4.463M               |   37.419G  |\n",
      "|    layer4.2.conv1              |    1.049M              |    8.792G  |\n",
      "|    layer4.2.bn1                |    1.024K              |    8.586M  |\n",
      "|    layer4.2.conv2              |    2.359M              |    19.783G |\n",
      "|    layer4.2.bn2                |    1.024K              |    8.586M  |\n",
      "|    layer4.2.conv3              |    1.049M              |    8.792G  |\n",
      "|    layer4.2.bn3                |    4.096K              |    34.345M |\n",
      "|  layer6.conv2d_list            |  1.401M                |  11.746G   |\n",
      "|   layer6.conv2d_list.0         |   0.35M                |   2.936G   |\n",
      "|    layer6.conv2d_list.0.weight |    (19, 2048, 3, 3)    |            |\n",
      "|    layer6.conv2d_list.0.bias   |    (19,)               |            |\n",
      "|   layer6.conv2d_list.1         |   0.35M                |   2.936G   |\n",
      "|    layer6.conv2d_list.1.weight |    (19, 2048, 3, 3)    |            |\n",
      "|    layer6.conv2d_list.1.bias   |    (19,)               |            |\n",
      "|   layer6.conv2d_list.2         |   0.35M                |   2.936G   |\n",
      "|    layer6.conv2d_list.2.weight |    (19, 2048, 3, 3)    |            |\n",
      "|    layer6.conv2d_list.2.bias   |    (19,)               |            |\n",
      "|   layer6.conv2d_list.3         |   0.35M                |   2.936G   |\n",
      "|    layer6.conv2d_list.3.weight |    (19, 2048, 3, 3)    |            |\n",
      "|    layer6.conv2d_list.3.bias   |    (19,)               |            |\n"
     ]
    }
   ],
   "source": [
    "# Load the model\n",
    "model = get_deeplab_v2(root_dir='models/deeplabv2')\n",
    "model.load_state_dict(torch.load('models/deeplabv2/deeplabv2_step2a/deeplabv2.pth'))\n",
    "model.eval()\n",
    "\n",
    "# Load the dataset\n",
    "dataset = CityScapes(root_dir='datasets/Cityspaces', split='val')\n",
    "# Get the image and label\n",
    "image, label = dataset[0]\n",
    "\n",
    "# Compute the number of flops\n",
    "flops = FlopCountAnalysis(model, image.unsqueeze(0))\n",
    "# Get the number of flops\n",
    "flops = flop_count_table(flops)\n",
    "# Get the number of parameters\n",
    "params = sum(p.numel() for p in model.parameters())\n",
    "\n",
    "# Print the number of parameters and flops\n",
    "print(f'Number of parameters: {params}\\n')\n",
    "print(flops)"
   ]
  },
  {
   "cell_type": "markdown",
   "metadata": {},
   "source": [
    "### Latency and FPS"
   ]
  },
  {
   "cell_type": "code",
   "execution_count": 9,
   "metadata": {},
   "outputs": [
    {
     "name": "stdout",
     "output_type": "stream",
     "text": [
      "Deeplab pretraining loading...\n",
      "Latency: 0.058 +/- 0.002\n",
      "FPS: 17.319 +/- 4.183\n"
     ]
    }
   ],
   "source": [
    "# Set the device\n",
    "device = torch.device('cuda')   \n",
    "\n",
    "# Load the model\n",
    "model = get_deeplab_v2(root_dir='models/deeplabv2')\n",
    "model.load_state_dict(torch.load('models/deeplabv2/deeplabv2_step2a/deeplabv2.pth'))\n",
    "model.to(device).eval()\n",
    "\n",
    "# Load the dataset\n",
    "dataset = CityScapes(root_dir='datasets/Cityspaces', split='val')\n",
    "# Get the image and label\n",
    "image, label = dataset[0]\n",
    "\n",
    "# Compute the latency and FPS\n",
    "iterations = 1000\n",
    "latency = []\n",
    "fps = []\n",
    "\n",
    "# Compute the latency and FPS\n",
    "for _ in range(iterations):\n",
    "    start = time()\n",
    "    model(image.unsqueeze(0).to(device))\n",
    "    end = time()\n",
    "    latency.append(end - start)\n",
    "    fps.append(1 / (end - start))\n",
    "\n",
    "# Compute the average latency and FPS\n",
    "mean_latency = np.mean(latency)\n",
    "mean_fps = np.mean(fps)\n",
    "std_latency = np.std(latency)\n",
    "std_fps = np.std(fps)\n",
    "\n",
    "# Print the latency and FPS\n",
    "print(f'Latency: {mean_latency:.3f} +/- {std_latency:.3f}')\n",
    "print(f'FPS: {mean_fps:.3f} +/- {std_fps:.3f}')"
   ]
  }
 ],
 "metadata": {
  "kernelspec": {
   "display_name": "polito",
   "language": "python",
   "name": "python3"
  },
  "language_info": {
   "codemirror_mode": {
    "name": "ipython",
    "version": 3
   },
   "file_extension": ".py",
   "mimetype": "text/x-python",
   "name": "python",
   "nbconvert_exporter": "python",
   "pygments_lexer": "ipython3",
   "version": "3.10.14"
  }
 },
 "nbformat": 4,
 "nbformat_minor": 2
}
