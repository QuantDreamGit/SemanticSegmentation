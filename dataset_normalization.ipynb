{
 "cells": [
  {
   "cell_type": "markdown",
   "metadata": {},
   "source": [
    "### Import libraries"
   ]
  },
  {
   "cell_type": "code",
   "execution_count": 2,
   "metadata": {},
   "outputs": [],
   "source": [
    "from datasets.cityscapes import CityScapes\n",
    "from datasets.gta5 import GTA5\n",
    "from tqdm import tqdm"
   ]
  },
  {
   "cell_type": "markdown",
   "metadata": {},
   "source": [
    "### Cityscapes - Mean and Variance"
   ]
  },
  {
   "cell_type": "code",
   "execution_count": 5,
   "metadata": {},
   "outputs": [
    {
     "name": "stderr",
     "output_type": "stream",
     "text": [
      "100%|██████████| 500/500 [03:48<00:00,  2.19it/s]"
     ]
    },
    {
     "name": "stdout",
     "output_type": "stream",
     "text": [
      "Mean: tensor([0.2954, 0.3339, 0.2950])\n",
      "Std: tensor([0.1822, 0.1852, 0.1807])\n"
     ]
    },
    {
     "name": "stderr",
     "output_type": "stream",
     "text": [
      "\n"
     ]
    }
   ],
   "source": [
    "# Load the dataset\n",
    "dataset = CityScapes(root_dir='datasets/Cityspaces', split='val', mode='single', raw_label=False)\n",
    "\n",
    "# Compute the mean and std of the images\n",
    "# Since we are using RGB images, we have 3 channels\n",
    "mean = 0\n",
    "std = 0\n",
    "for i in tqdm(range(len(dataset))):\n",
    "    # Get the image\n",
    "    img, label = dataset[i]\n",
    "    # Compute the mean and std of the image\n",
    "    # We use the mean and std of each channel\n",
    "    mean += img.mean(dim=(1, 2))\n",
    "    std += img.std(dim=(1, 2))\n",
    "\n",
    "# Compute the mean and std of the dataset\n",
    "mean /= len(dataset)\n",
    "std /= len(dataset)\n",
    "\n",
    "print(f'Mean: {mean}')\n",
    "print(f'Std: {std}')"
   ]
  },
  {
   "cell_type": "markdown",
   "metadata": {},
   "source": [
    "### GTA 5 - Mean and Variance"
   ]
  },
  {
   "cell_type": "code",
   "execution_count": 3,
   "metadata": {},
   "outputs": [
    {
     "name": "stderr",
     "output_type": "stream",
     "text": [
      "100%|██████████| 2500/2500 [01:55<00:00, 21.72it/s]"
     ]
    },
    {
     "name": "stdout",
     "output_type": "stream",
     "text": [
      "Mean: tensor([0.5084, 0.5021, 0.4838])\n",
      "Std: tensor([0.2490, 0.2440, 0.2424])\n"
     ]
    },
    {
     "name": "stderr",
     "output_type": "stream",
     "text": [
      "\n"
     ]
    }
   ],
   "source": [
    "# Load the dataset\n",
    "dataset = GTA5(root_dir='datasets/GTA5')\n",
    "\n",
    "# Compute the mean and std of the images\n",
    "# Since we are using RGB images, we have 3 channels\n",
    "mean = 0\n",
    "std = 0\n",
    "\n",
    "for i in tqdm(range(len(dataset))):\n",
    "    # Get the image\n",
    "    img, label = dataset[i]\n",
    "    # Compute the mean and std of the image\n",
    "    # We use the mean and std of each channel\n",
    "    mean += img.mean(dim=(1, 2))\n",
    "    std += img.std(dim=(1, 2))\n",
    "\n",
    "# Compute the mean and std of the dataset\n",
    "mean /= len(dataset)\n",
    "std /= len(dataset)\n",
    "\n",
    "print(f'Mean: {mean}')\n",
    "print(f'Std: {std}')"
   ]
  }
 ],
 "metadata": {
  "kernelspec": {
   "display_name": "polito",
   "language": "python",
   "name": "python3"
  },
  "language_info": {
   "codemirror_mode": {
    "name": "ipython",
    "version": 3
   },
   "file_extension": ".py",
   "mimetype": "text/x-python",
   "name": "python",
   "nbconvert_exporter": "python",
   "pygments_lexer": "ipython3",
   "version": "3.10.14"
  }
 },
 "nbformat": 4,
 "nbformat_minor": 2
}
