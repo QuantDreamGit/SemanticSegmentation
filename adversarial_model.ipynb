{
 "cells": [
  {
   "cell_type": "markdown",
   "metadata": {},
   "source": [
    "### Import libraries"
   ]
  },
  {
   "cell_type": "code",
   "execution_count": 5,
   "metadata": {},
   "outputs": [],
   "source": [
    "import torch\n",
    "import numpy as np\n",
    "import torch.nn as nn\n",
    "\n",
    "from tqdm import tqdm\n",
    "from torch.utils.data import DataLoader\n",
    "\n",
    "from models.bisenet.build_bisenet import BiSeNet\n",
    "from datasets.gta5 import GTA5\n",
    "from datasets.cityscapes import CityScapes\n",
    "from utils import fast_hist, per_class_iou"
   ]
  },
  {
   "cell_type": "markdown",
   "metadata": {},
   "source": [
    "### Import target and source datasets"
   ]
  },
  {
   "cell_type": "code",
   "execution_count": 2,
   "metadata": {},
   "outputs": [],
   "source": [
    "# Source domain GTA5\n",
    "source_dataset = GTA5(root_dir='datasets/GTA5')\n",
    "source_loader = DataLoader(source_dataset, batch_size=3, shuffle=True, num_workers=3)\n",
    "\n",
    "# Target domain Cityscapes\n",
    "target_dataset = CityScapes(root_dir='datasets/Cityspaces', split='train')\n",
    "target_loader = DataLoader(target_dataset, batch_size=3, shuffle=True, num_workers=3)"
   ]
  },
  {
   "cell_type": "markdown",
   "metadata": {},
   "source": [
    "### Discriminator"
   ]
  },
  {
   "cell_type": "code",
   "execution_count": 3,
   "metadata": {},
   "outputs": [],
   "source": [
    "class Discriminator(nn.Module):\n",
    "    def __init__(self, num_classes):\n",
    "        super(Discriminator, self).__init__()\n",
    "        self.conv1 = nn.Conv2d(num_classes, 64, kernel_size=4, stride=2, padding=1)\n",
    "        self.conv2 = nn.Conv2d(64, 128, kernel_size=4, stride=2, padding=1)\n",
    "        self.conv3 = nn.Conv2d(128, 256, kernel_size=4, stride=2, padding=1)\n",
    "        self.conv4 = nn.Conv2d(256, 512, kernel_size=4, stride=2, padding=1)\n",
    "        self.classifier = nn.Conv2d(512, 1, kernel_size=4, stride=1, padding=1)\n",
    "\n",
    "        self.leaky_relu = nn.LeakyReLU(negative_slope=0.2, inplace=True)\n",
    "        self.sigmoid = nn.Sigmoid()\n",
    "\n",
    "    def forward(self, x):\n",
    "        x = self.leaky_relu(self.conv1(x))\n",
    "        x = self.leaky_relu(self.conv2(x))\n",
    "        x = self.leaky_relu(self.conv3(x))\n",
    "        x = self.leaky_relu(self.conv4(x))\n",
    "        x = self.classifier(x)\n",
    "        return self.sigmoid(x)\n"
   ]
  },
  {
   "cell_type": "markdown",
   "metadata": {},
   "source": [
    "### Training Loop"
   ]
  },
  {
   "cell_type": "code",
   "execution_count": 4,
   "metadata": {},
   "outputs": [
    {
     "name": "stderr",
     "output_type": "stream",
     "text": [
      " 63%|██████▎   | 524/834 [02:24<01:25,  3.63it/s]\n"
     ]
    },
    {
     "name": "stdout",
     "output_type": "stream",
     "text": [
      "Epoch [0/50], Seg Loss: 0.3737, D Loss: 0.6710, G Loss: 0.6960\n"
     ]
    },
    {
     "name": "stderr",
     "output_type": "stream",
     "text": [
      " 63%|██████▎   | 524/834 [02:23<01:24,  3.65it/s]\n"
     ]
    },
    {
     "name": "stdout",
     "output_type": "stream",
     "text": [
      "Epoch [1/50], Seg Loss: 0.3183, D Loss: 0.6437, G Loss: 0.8683\n"
     ]
    },
    {
     "name": "stderr",
     "output_type": "stream",
     "text": [
      " 63%|██████▎   | 524/834 [02:23<01:24,  3.65it/s]\n"
     ]
    },
    {
     "name": "stdout",
     "output_type": "stream",
     "text": [
      "Epoch [2/50], Seg Loss: 0.2875, D Loss: 0.6459, G Loss: 0.7921\n"
     ]
    },
    {
     "name": "stderr",
     "output_type": "stream",
     "text": [
      " 63%|██████▎   | 524/834 [02:23<01:24,  3.66it/s]\n"
     ]
    },
    {
     "name": "stdout",
     "output_type": "stream",
     "text": [
      "Epoch [3/50], Seg Loss: 0.3627, D Loss: 0.6488, G Loss: 0.7743\n"
     ]
    },
    {
     "name": "stderr",
     "output_type": "stream",
     "text": [
      " 63%|██████▎   | 524/834 [02:23<01:24,  3.65it/s]\n"
     ]
    },
    {
     "name": "stdout",
     "output_type": "stream",
     "text": [
      "Epoch [4/50], Seg Loss: 0.2820, D Loss: 0.6846, G Loss: 0.8155\n"
     ]
    },
    {
     "name": "stderr",
     "output_type": "stream",
     "text": [
      " 63%|██████▎   | 524/834 [02:23<01:25,  3.65it/s]\n"
     ]
    },
    {
     "name": "stdout",
     "output_type": "stream",
     "text": [
      "Epoch [5/50], Seg Loss: 0.4601, D Loss: 0.6937, G Loss: 0.6269\n"
     ]
    },
    {
     "name": "stderr",
     "output_type": "stream",
     "text": [
      " 63%|██████▎   | 524/834 [02:23<01:25,  3.64it/s]\n"
     ]
    },
    {
     "name": "stdout",
     "output_type": "stream",
     "text": [
      "Epoch [6/50], Seg Loss: 0.3114, D Loss: 0.6679, G Loss: 0.7564\n"
     ]
    },
    {
     "name": "stderr",
     "output_type": "stream",
     "text": [
      " 63%|██████▎   | 524/834 [02:23<01:24,  3.65it/s]\n"
     ]
    },
    {
     "name": "stdout",
     "output_type": "stream",
     "text": [
      "Epoch [7/50], Seg Loss: 0.2537, D Loss: 0.6456, G Loss: 0.7488\n"
     ]
    },
    {
     "name": "stderr",
     "output_type": "stream",
     "text": [
      " 63%|██████▎   | 524/834 [02:23<01:24,  3.65it/s]\n"
     ]
    },
    {
     "name": "stdout",
     "output_type": "stream",
     "text": [
      "Epoch [8/50], Seg Loss: 0.2764, D Loss: 0.6452, G Loss: 0.7963\n"
     ]
    },
    {
     "name": "stderr",
     "output_type": "stream",
     "text": [
      " 63%|██████▎   | 524/834 [02:23<01:24,  3.65it/s]\n"
     ]
    },
    {
     "name": "stdout",
     "output_type": "stream",
     "text": [
      "Epoch [9/50], Seg Loss: 0.2175, D Loss: 0.6756, G Loss: 0.8011\n"
     ]
    },
    {
     "name": "stderr",
     "output_type": "stream",
     "text": [
      " 63%|██████▎   | 524/834 [02:23<01:25,  3.65it/s]\n"
     ]
    },
    {
     "name": "stdout",
     "output_type": "stream",
     "text": [
      "Epoch [10/50], Seg Loss: 0.1762, D Loss: 0.6763, G Loss: 0.6715\n"
     ]
    },
    {
     "name": "stderr",
     "output_type": "stream",
     "text": [
      " 63%|██████▎   | 524/834 [02:23<01:24,  3.65it/s]\n"
     ]
    },
    {
     "name": "stdout",
     "output_type": "stream",
     "text": [
      "Epoch [11/50], Seg Loss: 0.3480, D Loss: 0.6595, G Loss: 0.9789\n"
     ]
    },
    {
     "name": "stderr",
     "output_type": "stream",
     "text": [
      " 63%|██████▎   | 524/834 [02:23<01:24,  3.65it/s]\n"
     ]
    },
    {
     "name": "stdout",
     "output_type": "stream",
     "text": [
      "Epoch [12/50], Seg Loss: 0.1779, D Loss: 0.6533, G Loss: 0.9117\n"
     ]
    },
    {
     "name": "stderr",
     "output_type": "stream",
     "text": [
      " 63%|██████▎   | 524/834 [02:23<01:25,  3.64it/s]\n"
     ]
    },
    {
     "name": "stdout",
     "output_type": "stream",
     "text": [
      "Epoch [13/50], Seg Loss: 0.2184, D Loss: 0.6129, G Loss: 0.9486\n"
     ]
    },
    {
     "name": "stderr",
     "output_type": "stream",
     "text": [
      " 63%|██████▎   | 524/834 [02:23<01:24,  3.65it/s]\n"
     ]
    },
    {
     "name": "stdout",
     "output_type": "stream",
     "text": [
      "Epoch [14/50], Seg Loss: 0.1598, D Loss: 0.6571, G Loss: 0.8305\n"
     ]
    },
    {
     "name": "stderr",
     "output_type": "stream",
     "text": [
      " 63%|██████▎   | 524/834 [02:23<01:24,  3.65it/s]\n"
     ]
    },
    {
     "name": "stdout",
     "output_type": "stream",
     "text": [
      "Epoch [15/50], Seg Loss: 0.2371, D Loss: 0.6878, G Loss: 0.8407\n"
     ]
    },
    {
     "name": "stderr",
     "output_type": "stream",
     "text": [
      " 63%|██████▎   | 524/834 [02:23<01:24,  3.65it/s]\n"
     ]
    },
    {
     "name": "stdout",
     "output_type": "stream",
     "text": [
      "Epoch [16/50], Seg Loss: 0.1787, D Loss: 0.6587, G Loss: 0.8183\n"
     ]
    },
    {
     "name": "stderr",
     "output_type": "stream",
     "text": [
      " 63%|██████▎   | 524/834 [02:23<01:24,  3.65it/s]\n"
     ]
    },
    {
     "name": "stdout",
     "output_type": "stream",
     "text": [
      "Epoch [17/50], Seg Loss: 0.1961, D Loss: 0.6599, G Loss: 0.7872\n"
     ]
    },
    {
     "name": "stderr",
     "output_type": "stream",
     "text": [
      " 63%|██████▎   | 524/834 [02:23<01:25,  3.65it/s]\n"
     ]
    },
    {
     "name": "stdout",
     "output_type": "stream",
     "text": [
      "Epoch [18/50], Seg Loss: 0.2353, D Loss: 0.6813, G Loss: 1.1028\n"
     ]
    },
    {
     "name": "stderr",
     "output_type": "stream",
     "text": [
      " 63%|██████▎   | 524/834 [02:23<01:24,  3.65it/s]\n"
     ]
    },
    {
     "name": "stdout",
     "output_type": "stream",
     "text": [
      "Epoch [19/50], Seg Loss: 0.2307, D Loss: 0.6545, G Loss: 0.7033\n"
     ]
    },
    {
     "name": "stderr",
     "output_type": "stream",
     "text": [
      " 63%|██████▎   | 524/834 [02:23<01:24,  3.65it/s]\n"
     ]
    },
    {
     "name": "stdout",
     "output_type": "stream",
     "text": [
      "Epoch [20/50], Seg Loss: 0.1749, D Loss: 0.6639, G Loss: 0.9519\n"
     ]
    },
    {
     "name": "stderr",
     "output_type": "stream",
     "text": [
      " 63%|██████▎   | 524/834 [02:23<01:24,  3.65it/s]\n"
     ]
    },
    {
     "name": "stdout",
     "output_type": "stream",
     "text": [
      "Epoch [21/50], Seg Loss: 0.2008, D Loss: 0.6541, G Loss: 0.8393\n"
     ]
    },
    {
     "name": "stderr",
     "output_type": "stream",
     "text": [
      " 63%|██████▎   | 524/834 [02:23<01:24,  3.66it/s]\n"
     ]
    },
    {
     "name": "stdout",
     "output_type": "stream",
     "text": [
      "Epoch [22/50], Seg Loss: 0.1890, D Loss: 0.6189, G Loss: 0.8660\n"
     ]
    },
    {
     "name": "stderr",
     "output_type": "stream",
     "text": [
      " 63%|██████▎   | 524/834 [02:23<01:24,  3.65it/s]\n"
     ]
    },
    {
     "name": "stdout",
     "output_type": "stream",
     "text": [
      "Epoch [23/50], Seg Loss: 0.1902, D Loss: 0.5886, G Loss: 1.0485\n"
     ]
    },
    {
     "name": "stderr",
     "output_type": "stream",
     "text": [
      " 63%|██████▎   | 524/834 [02:23<01:24,  3.65it/s]\n"
     ]
    },
    {
     "name": "stdout",
     "output_type": "stream",
     "text": [
      "Epoch [24/50], Seg Loss: 0.1372, D Loss: 0.6706, G Loss: 0.9081\n"
     ]
    },
    {
     "name": "stderr",
     "output_type": "stream",
     "text": [
      " 63%|██████▎   | 524/834 [02:23<01:24,  3.66it/s]\n"
     ]
    },
    {
     "name": "stdout",
     "output_type": "stream",
     "text": [
      "Epoch [25/50], Seg Loss: 0.1947, D Loss: 0.6623, G Loss: 0.7791\n"
     ]
    },
    {
     "name": "stderr",
     "output_type": "stream",
     "text": [
      " 63%|██████▎   | 524/834 [02:23<01:24,  3.65it/s]\n"
     ]
    },
    {
     "name": "stdout",
     "output_type": "stream",
     "text": [
      "Epoch [26/50], Seg Loss: 0.1695, D Loss: 0.7032, G Loss: 0.8321\n"
     ]
    },
    {
     "name": "stderr",
     "output_type": "stream",
     "text": [
      " 63%|██████▎   | 524/834 [02:23<01:24,  3.65it/s]\n"
     ]
    },
    {
     "name": "stdout",
     "output_type": "stream",
     "text": [
      "Epoch [27/50], Seg Loss: 0.1835, D Loss: 0.6505, G Loss: 0.7907\n"
     ]
    },
    {
     "name": "stderr",
     "output_type": "stream",
     "text": [
      " 63%|██████▎   | 524/834 [02:23<01:24,  3.66it/s]\n"
     ]
    },
    {
     "name": "stdout",
     "output_type": "stream",
     "text": [
      "Epoch [28/50], Seg Loss: 0.2748, D Loss: 0.6695, G Loss: 0.8676\n"
     ]
    },
    {
     "name": "stderr",
     "output_type": "stream",
     "text": [
      " 63%|██████▎   | 524/834 [02:23<01:24,  3.65it/s]\n"
     ]
    },
    {
     "name": "stdout",
     "output_type": "stream",
     "text": [
      "Epoch [29/50], Seg Loss: 0.2185, D Loss: 0.6489, G Loss: 0.7257\n"
     ]
    },
    {
     "name": "stderr",
     "output_type": "stream",
     "text": [
      " 63%|██████▎   | 524/834 [02:23<01:25,  3.65it/s]\n"
     ]
    },
    {
     "name": "stdout",
     "output_type": "stream",
     "text": [
      "Epoch [30/50], Seg Loss: 0.2449, D Loss: 0.6421, G Loss: 0.9586\n"
     ]
    },
    {
     "name": "stderr",
     "output_type": "stream",
     "text": [
      " 63%|██████▎   | 524/834 [02:23<01:24,  3.66it/s]\n"
     ]
    },
    {
     "name": "stdout",
     "output_type": "stream",
     "text": [
      "Epoch [31/50], Seg Loss: 0.2151, D Loss: 0.5937, G Loss: 0.9252\n"
     ]
    },
    {
     "name": "stderr",
     "output_type": "stream",
     "text": [
      " 63%|██████▎   | 524/834 [02:23<01:24,  3.65it/s]\n"
     ]
    },
    {
     "name": "stdout",
     "output_type": "stream",
     "text": [
      "Epoch [32/50], Seg Loss: 0.2068, D Loss: 0.6877, G Loss: 0.8378\n"
     ]
    },
    {
     "name": "stderr",
     "output_type": "stream",
     "text": [
      " 63%|██████▎   | 524/834 [02:23<01:24,  3.65it/s]\n"
     ]
    },
    {
     "name": "stdout",
     "output_type": "stream",
     "text": [
      "Epoch [33/50], Seg Loss: 0.1934, D Loss: 0.6570, G Loss: 0.8442\n"
     ]
    },
    {
     "name": "stderr",
     "output_type": "stream",
     "text": [
      " 63%|██████▎   | 524/834 [02:23<01:24,  3.65it/s]\n"
     ]
    },
    {
     "name": "stdout",
     "output_type": "stream",
     "text": [
      "Epoch [34/50], Seg Loss: 0.1807, D Loss: 0.5914, G Loss: 1.0053\n"
     ]
    },
    {
     "name": "stderr",
     "output_type": "stream",
     "text": [
      " 63%|██████▎   | 524/834 [02:23<01:24,  3.65it/s]\n"
     ]
    },
    {
     "name": "stdout",
     "output_type": "stream",
     "text": [
      "Epoch [35/50], Seg Loss: 0.2204, D Loss: 0.6399, G Loss: 0.8026\n"
     ]
    },
    {
     "name": "stderr",
     "output_type": "stream",
     "text": [
      " 63%|██████▎   | 524/834 [02:23<01:24,  3.65it/s]\n"
     ]
    },
    {
     "name": "stdout",
     "output_type": "stream",
     "text": [
      "Epoch [36/50], Seg Loss: 0.1313, D Loss: 0.6578, G Loss: 0.9375\n"
     ]
    },
    {
     "name": "stderr",
     "output_type": "stream",
     "text": [
      " 63%|██████▎   | 524/834 [02:23<01:24,  3.65it/s]\n"
     ]
    },
    {
     "name": "stdout",
     "output_type": "stream",
     "text": [
      "Epoch [37/50], Seg Loss: 0.2125, D Loss: 0.5739, G Loss: 0.8516\n"
     ]
    },
    {
     "name": "stderr",
     "output_type": "stream",
     "text": [
      " 63%|██████▎   | 524/834 [02:23<01:25,  3.64it/s]\n"
     ]
    },
    {
     "name": "stdout",
     "output_type": "stream",
     "text": [
      "Epoch [38/50], Seg Loss: 0.2737, D Loss: 0.5322, G Loss: 1.2350\n"
     ]
    },
    {
     "name": "stderr",
     "output_type": "stream",
     "text": [
      " 63%|██████▎   | 524/834 [02:23<01:24,  3.65it/s]\n"
     ]
    },
    {
     "name": "stdout",
     "output_type": "stream",
     "text": [
      "Epoch [39/50], Seg Loss: 0.2006, D Loss: 0.6708, G Loss: 0.8161\n"
     ]
    },
    {
     "name": "stderr",
     "output_type": "stream",
     "text": [
      " 63%|██████▎   | 524/834 [02:23<01:24,  3.65it/s]\n"
     ]
    },
    {
     "name": "stdout",
     "output_type": "stream",
     "text": [
      "Epoch [40/50], Seg Loss: 0.4016, D Loss: 0.7517, G Loss: 0.7258\n"
     ]
    },
    {
     "name": "stderr",
     "output_type": "stream",
     "text": [
      " 63%|██████▎   | 524/834 [02:23<01:24,  3.65it/s]\n"
     ]
    },
    {
     "name": "stdout",
     "output_type": "stream",
     "text": [
      "Epoch [41/50], Seg Loss: 0.1445, D Loss: 0.6453, G Loss: 0.7681\n"
     ]
    },
    {
     "name": "stderr",
     "output_type": "stream",
     "text": [
      " 63%|██████▎   | 524/834 [02:23<01:24,  3.65it/s]\n"
     ]
    },
    {
     "name": "stdout",
     "output_type": "stream",
     "text": [
      "Epoch [42/50], Seg Loss: 0.1839, D Loss: 0.6764, G Loss: 0.8272\n"
     ]
    },
    {
     "name": "stderr",
     "output_type": "stream",
     "text": [
      " 63%|██████▎   | 524/834 [02:23<01:24,  3.65it/s]\n"
     ]
    },
    {
     "name": "stdout",
     "output_type": "stream",
     "text": [
      "Epoch [43/50], Seg Loss: 0.1103, D Loss: 0.5686, G Loss: 0.9042\n"
     ]
    },
    {
     "name": "stderr",
     "output_type": "stream",
     "text": [
      " 63%|██████▎   | 524/834 [02:23<01:24,  3.66it/s]\n"
     ]
    },
    {
     "name": "stdout",
     "output_type": "stream",
     "text": [
      "Epoch [44/50], Seg Loss: 0.1645, D Loss: 0.5956, G Loss: 1.0131\n"
     ]
    },
    {
     "name": "stderr",
     "output_type": "stream",
     "text": [
      " 63%|██████▎   | 524/834 [02:23<01:24,  3.65it/s]\n"
     ]
    },
    {
     "name": "stdout",
     "output_type": "stream",
     "text": [
      "Epoch [45/50], Seg Loss: 0.1474, D Loss: 0.6603, G Loss: 0.9281\n"
     ]
    },
    {
     "name": "stderr",
     "output_type": "stream",
     "text": [
      " 63%|██████▎   | 524/834 [02:23<01:25,  3.65it/s]\n"
     ]
    },
    {
     "name": "stdout",
     "output_type": "stream",
     "text": [
      "Epoch [46/50], Seg Loss: 0.1302, D Loss: 0.6344, G Loss: 0.9119\n"
     ]
    },
    {
     "name": "stderr",
     "output_type": "stream",
     "text": [
      " 63%|██████▎   | 524/834 [02:23<01:24,  3.65it/s]\n"
     ]
    },
    {
     "name": "stdout",
     "output_type": "stream",
     "text": [
      "Epoch [47/50], Seg Loss: 0.2171, D Loss: 0.6639, G Loss: 0.9320\n"
     ]
    },
    {
     "name": "stderr",
     "output_type": "stream",
     "text": [
      " 63%|██████▎   | 524/834 [02:23<01:24,  3.65it/s]\n"
     ]
    },
    {
     "name": "stdout",
     "output_type": "stream",
     "text": [
      "Epoch [48/50], Seg Loss: 0.1741, D Loss: 0.6751, G Loss: 0.7203\n"
     ]
    },
    {
     "name": "stderr",
     "output_type": "stream",
     "text": [
      " 63%|██████▎   | 524/834 [02:23<01:24,  3.65it/s]\n"
     ]
    },
    {
     "name": "stdout",
     "output_type": "stream",
     "text": [
      "Epoch [49/50], Seg Loss: 0.1438, D Loss: 0.6097, G Loss: 0.9424\n"
     ]
    }
   ],
   "source": [
    "# Set the device\n",
    "device = torch.device(\"cuda\")\n",
    "\n",
    "# Load the model\n",
    "model = BiSeNet(context_path='resnet18', num_classes=19).to(device)\n",
    "\n",
    "# Initialize the discriminator and the optimizer\n",
    "discriminator = Discriminator(num_classes=19).to(device)\n",
    "optimizer_d = torch.optim.Adam(discriminator.parameters(), lr=1e-4)\n",
    "optimizer_g = torch.optim.Adam(model.parameters(), lr=1e-4)\n",
    "\n",
    "# Define the loss function\n",
    "criterion_seg = nn.CrossEntropyLoss(ignore_index=255)\n",
    "\n",
    "for epoch in range(50):\n",
    "    # Create a progress bar\n",
    "    pbar = tqdm(zip(source_loader, target_loader), total=len(source_loader))\n",
    "    for source_data, target_data in pbar:\n",
    "        # Extract source and target images and labels\n",
    "        src_images, src_labels = source_data\n",
    "        tgt_images, _ = target_data\n",
    "        # Move the images and labels to the device\n",
    "        src_images, src_labels = src_images.to(device), src_labels.to(device)\n",
    "        tgt_images = tgt_images.to(device)\n",
    "\n",
    "        # Forward pass through the segmentation network\n",
    "        src_pred = model(src_images)[0]\n",
    "        tgt_pred = model(tgt_images)[0]\n",
    "        \n",
    "        # Compute segmentation loss on source domain\n",
    "        seg_loss = criterion_seg(src_pred, src_labels)\n",
    "\n",
    "        # Train discriminator with source domain predictions (label 1) and target domain predictions (label 0)\n",
    "        optimizer_d.zero_grad()\n",
    "        # Detach the source and target predictions to avoid backpropagating through the segmentation network\n",
    "        src_out_d = discriminator(src_pred.detach())\n",
    "        tgt_out_d = discriminator(tgt_pred.detach())\n",
    "        \n",
    "        # Compute the discriminator loss\n",
    "        # We use the binary cross-entropy loss here which is equivalent to the negative log likelihood loss\n",
    "        d_loss_src = nn.BCELoss()(src_out_d, torch.ones_like(src_out_d))\n",
    "        d_loss_tgt = nn.BCELoss()(tgt_out_d, torch.zeros_like(tgt_out_d))\n",
    "        d_loss = (d_loss_src + d_loss_tgt) / 2\n",
    "        d_loss.backward()\n",
    "        optimizer_d.step()\n",
    "\n",
    "        # Train segmentation network with adversarial loss to fool the discriminator\n",
    "        optimizer_g.zero_grad()\n",
    "        tgt_out_d = discriminator(tgt_pred)\n",
    "        g_loss_adv = nn.BCELoss()(tgt_out_d, torch.ones_like(tgt_out_d))\n",
    "        total_loss = seg_loss + g_loss_adv\n",
    "        total_loss.backward(retain_graph=True)  # Retain graph here if you need to retain it for further operations\n",
    "        optimizer_g.step()\n",
    "\n",
    "    print(f\"Epoch [{epoch}/{50}], Seg Loss: {seg_loss.item():.4f}, D Loss: {d_loss.item():.4f}, G Loss: {g_loss_adv.item():.4f}\")\n",
    "\n",
    "# Save the model\n",
    "torch.save(model.state_dict(), 'models/bisenet/bisenet_gta5_adapted.pth')\n"
   ]
  },
  {
   "cell_type": "markdown",
   "metadata": {},
   "source": [
    "### Evaluation"
   ]
  },
  {
   "cell_type": "code",
   "execution_count": 7,
   "metadata": {},
   "outputs": [
    {
     "name": "stderr",
     "output_type": "stream",
     "text": [
      "100%|██████████| 500/500 [00:08<00:00, 62.32it/s]"
     ]
    },
    {
     "name": "stdout",
     "output_type": "stream",
     "text": [
      "mIoU: 0.14248989152223684\n"
     ]
    },
    {
     "name": "stderr",
     "output_type": "stream",
     "text": [
      "\n"
     ]
    }
   ],
   "source": [
    "# Get the device\n",
    "device = torch.device(\"cuda\")\n",
    "\n",
    "# Load the model\n",
    "model = BiSeNet(context_path='resnet18', num_classes=19).to(device)\n",
    "model.load_state_dict(torch.load('models/bisenet/bisenet_gta5_adapted.pth'))\n",
    "# Set model to evaluation mode\n",
    "model.eval()\n",
    "\n",
    "# Load the dataset\n",
    "dataset = CityScapes(root_dir='datasets/Cityspaces', split='val')\n",
    "dataloader = DataLoader(dataset, batch_size=1, shuffle=True, num_workers=4, pin_memory=True)\n",
    "\n",
    "# Evaluate the model\n",
    "hist = np.zeros((19, 19))\n",
    "for i, (images, labels) in enumerate(tqdm(dataloader)):\n",
    "    # Move the data to the device\n",
    "    images = images.to(device)\n",
    "    label = labels.to(device)\n",
    "    # Forward pass\n",
    "    output = model(images)[0]\n",
    "    # Compute the predictions\n",
    "    pred = output.argmax(dim=0)\n",
    "\n",
    "    # Calculate the mean IoU\n",
    "    hist += fast_hist(label.flatten().cpu().numpy(), pred.flatten().cpu().numpy(), 19)\n",
    "    miou = np.mean(per_class_iou(hist))\n",
    "\n",
    "# Print the mIoU\n",
    "print(f'mIoU: {miou}')\n"
   ]
  },
  {
   "cell_type": "markdown",
   "metadata": {},
   "source": [
    "### Example"
   ]
  },
  {
   "cell_type": "code",
   "execution_count": 15,
   "metadata": {},
   "outputs": [
    {
     "name": "stderr",
     "output_type": "stream",
     "text": [
      "0it [00:00, ?it/s]\n"
     ]
    },
    {
     "data": {
      "image/png": "[encoded data removed]",
      "text/plain": [
       "<Figure size 1500x1000 with 2 Axes>"
      ]
     },
     "metadata": {},
     "output_type": "display_data"
    }
   ],
   "source": [
    "import matplotlib.pyplot as plt\n",
    "from PIL import Image\n",
    "from torchvision.transforms import ToPILImage\n",
    "\n",
    "# Get the device\n",
    "device = torch.device(\"cuda\")\n",
    "\n",
    "# Load the model\n",
    "model = BiSeNet(context_path='resnet18', num_classes=19).to(device)\n",
    "model.load_state_dict(torch.load('models/bisenet/bisenet_gta5.pth'))\n",
    "# Set model to evaluation mode\n",
    "model.eval()\n",
    "\n",
    "# Load the dataset\n",
    "dataset = CityScapes(root_dir='datasets/Cityspaces', split='val')\n",
    "dataloader = DataLoader(dataset, batch_size=1, shuffle=True, num_workers=4)\n",
    "\n",
    "for i, (image, label) in tqdm(enumerate(dataloader)):\n",
    "    # Move the data to the device\n",
    "    image = image.to(device)\n",
    "    label = label.to(device)\n",
    "    # Forward pass\n",
    "    output = model(image)\n",
    "    # Compute the predictions\n",
    "    pred = output.argmax(dim=1)\n",
    "    # Stop after the first iteration\n",
    "    break\n",
    "\n",
    "# Display the image\n",
    "image = ToPILImage()(image[0].cpu())\n",
    "# Convert label, pred from numpy to image\n",
    "label = Image.fromarray(label[0].cpu().numpy().astype(np.uint8))\n",
    "pred = Image.fromarray(pred[0].cpu().numpy().astype(np.uint8))\n",
    "\n",
    "# Display the image\n",
    "plt.figure(figsize=(15, 10))\n",
    "plt.subplot(121)\n",
    "plt.imshow(label)\n",
    "plt.title('Label')\n",
    "plt.axis('off')\n",
    "plt.subplot(122)\n",
    "plt.imshow(pred)\n",
    "plt.title('Prediction')\n",
    "plt.axis('off')\n",
    "plt.show()"
   ]
  }
 ],
 "metadata": {
  "kernelspec": {
   "display_name": "polito",
   "language": "python",
   "name": "python3"
  },
  "language_info": {
   "codemirror_mode": {
    "name": "ipython",
    "version": 3
   },
   "file_extension": ".py",
   "mimetype": "text/x-python",
   "name": "python",
   "nbconvert_exporter": "python",
   "pygments_lexer": "ipython3",
   "version": "3.10.14"
  }
 },
 "nbformat": 4,
 "nbformat_minor": 2
}
