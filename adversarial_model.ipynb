{
 "cells": [
  {
   "cell_type": "markdown",
   "metadata": {},
   "source": [
    "### Import libraries"
   ]
  },
  {
   "cell_type": "code",
   "execution_count": 2,
   "metadata": {},
   "outputs": [],
   "source": [
    "import torch\n",
    "import numpy as np\n",
    "import torch.nn as nn\n",
    "import albumentations as A\n",
    "\n",
    "from tqdm import tqdm\n",
    "from torch.utils.data import DataLoader\n",
    "from albumentations.pytorch import ToTensorV2\n",
    "\n",
    "from models.bisenet.build_bisenet import BiSeNet\n",
    "from datasets.gta5 import GTA5\n",
    "from datasets.cityscapes import CityScapes\n",
    "from utils import fast_hist, per_class_iou"
   ]
  },
  {
   "cell_type": "markdown",
   "metadata": {},
   "source": [
    "### Import target and source datasets"
   ]
  },
  {
   "cell_type": "code",
   "execution_count": 2,
   "metadata": {},
   "outputs": [],
   "source": [
    "# Define the custom transform to augment the data\n",
    "source_transform = A.Compose([\n",
    "    # Data Normalization is already done in the model!\n",
    "    # These are the augmentation techniques taken from the best model of step 3b\n",
    "    A.HorizontalFlip(p=0.5),\n",
    "    A.RandomBrightnessContrast(p=0.5),\n",
    "    A.GaussianBlur(p=0.5),\n",
    "    # Convert the image to tensor\n",
    "    ToTensorV2()\n",
    "])\n",
    "\n",
    "target_transform = A.Compose([\n",
    "    # In the target domain, we resize the image to 1024x512\n",
    "    # Then, we normalize the image using the mean and std of the Cityscapes dataset\n",
    "    A.Resize(width=1024, height=512),\n",
    "    A.Normalize(\n",
    "        mean=(0.2954, 0.3339, 0.2950), \n",
    "        std=(0.1822, 0.1852, 0.1807),\n",
    "    ),\n",
    "    # These are the augmentation techniques taken from the best model of step 3b\n",
    "    A.HorizontalFlip(p=0.5),\n",
    "    A.RandomBrightnessContrast(p=0.5),\n",
    "    A.GaussianBlur(p=0.5),\n",
    "    # Convert the image to tensor\n",
    "    ToTensorV2()\n",
    "])\n",
    "\n",
    "# Source domain GTA5\n",
    "source_dataset = GTA5(root_dir='datasets/GTA5', custom_transform=source_transform)\n",
    "source_loader = DataLoader(source_dataset, batch_size=6, shuffle=True, num_workers=3)\n",
    "\n",
    "# Target domain Cityscapes\n",
    "target_dataset = CityScapes(root_dir='datasets/Cityspaces', split='train', custom_transform_image=target_transform)\n",
    "target_loader = DataLoader(target_dataset, batch_size=3, shuffle=True, num_workers=3)"
   ]
  },
  {
   "cell_type": "markdown",
   "metadata": {},
   "source": [
    "### Discriminator"
   ]
  },
  {
   "cell_type": "code",
   "execution_count": 3,
   "metadata": {},
   "outputs": [],
   "source": [
    "# Here we define the discriminator described in the paper\n",
    "class Discriminator(nn.Module):\n",
    "    def __init__(self, num_classes):\n",
    "        super(Discriminator, self).__init__()\n",
    "        self.conv1 = nn.Conv2d(num_classes, 64, kernel_size=4, stride=2, padding=1)\n",
    "        self.conv2 = nn.Conv2d(64, 128, kernel_size=4, stride=2, padding=1)\n",
    "        self.conv3 = nn.Conv2d(128, 256, kernel_size=4, stride=2, padding=1)\n",
    "        self.conv4 = nn.Conv2d(256, 512, kernel_size=4, stride=2, padding=1)\n",
    "        self.classifier = nn.Conv2d(512, 1, kernel_size=4, stride=1, padding=1)\n",
    "\n",
    "        self.leaky_relu = nn.LeakyReLU(negative_slope=0.2, inplace=True)\n",
    "        self.sigmoid = nn.Sigmoid()\n",
    "\n",
    "    def forward(self, x):\n",
    "        x = self.leaky_relu(self.conv1(x))\n",
    "        x = self.leaky_relu(self.conv2(x))\n",
    "        x = self.leaky_relu(self.conv3(x))\n",
    "        x = self.leaky_relu(self.conv4(x))\n",
    "        x = self.classifier(x)\n",
    "        return self.sigmoid(x)"
   ]
  },
  {
   "cell_type": "markdown",
   "metadata": {},
   "source": [
    "### Hyperparameter Tuning"
   ]
  },
  {
   "cell_type": "code",
   "execution_count": null,
   "metadata": {},
   "outputs": [],
   "source": [
    "# Define the polynomial learning rate scheduler\n",
    "def poly_lr_scheduler(optimizer, init_lr, iter, lr_decay_iter=1, max_iter=300, power=0.9):\n",
    "    lr = init_lr * (1 - iter / max_iter) ** power\n",
    "    optimizer.param_groups[0]['lr'] = lr\n",
    "    return lr\n",
    "\n",
    "# Define the generator loss function\n",
    "def generator_loss(seg_loss, tgt_pred, discriminator, adv_loss_weight):\n",
    "    adv_loss = criterion_bce(discriminator(tgt_pred), torch.ones_like(discriminator(tgt_pred)))\n",
    "    return seg_loss + adv_loss_weight * adv_loss\n",
    "\n",
    "# Set the device\n",
    "device = torch.device(\"cuda\")\n",
    "\n",
    "# Hyperparameters\n",
    "adv_loss_weights = [0.1, 0.01, 0.03, 0.05, 0.07, 0.3, 0.4, 0.5, 0.6, 0.7, 0.9]\n",
    "# Training and evaluation loop\n",
    "for adv_loss_weight in adv_loss_weights:\n",
    "    # Load the model\n",
    "    model = BiSeNet(context_path='resnet18', num_classes=19).to(device)\n",
    "\n",
    "    # Initialize the discriminator and the optimizer\n",
    "    discriminator = Discriminator(num_classes=19).to(device)\n",
    "    optimizer_d = torch.optim.Adam(discriminator.parameters(), lr=1e-4)\n",
    "    optimizer_g = torch.optim.SGD(model.parameters(), lr=0.001, momentum=0.9, weight_decay=1e-4)\n",
    "\n",
    "    # Define the loss function\n",
    "    criterion_seg = nn.CrossEntropyLoss(ignore_index=255)\n",
    "    criterion_bce = nn.BCELoss()\n",
    "    # Training loop\n",
    "    for epoch in range(50):\n",
    "        # Initialize the progress bar\n",
    "        pbar = tqdm(zip(source_loader, target_loader), total=min(len(source_loader), len(target_loader)))\n",
    "        for i, (source_data, target_data) in enumerate(pbar):\n",
    "            # Get the source and target data\n",
    "            src_images, src_labels = source_data\n",
    "            tgt_images, _ = target_data\n",
    "            src_images, src_labels = src_images.to(device), src_labels.to(device)\n",
    "            tgt_images = tgt_images.to(device)\n",
    "\n",
    "            # Forward pass through the segmentation network\n",
    "            src_pred = model(src_images)[0]\n",
    "            tgt_pred = model(tgt_images)[0]\n",
    "\n",
    "            # Compute segmentation loss on source domain\n",
    "            seg_loss = criterion_seg(src_pred, src_labels)\n",
    "\n",
    "            # Train discriminator with source domain predictions (label 1) and target domain predictions (label 0)\n",
    "            optimizer_d.zero_grad()\n",
    "            # Detach the source and target predictions to avoid backpropagating through the segmentation network\n",
    "            src_out_d = discriminator(src_pred.detach())\n",
    "            tgt_out_d = discriminator(tgt_pred.detach())\n",
    "            # Compute the discriminator loss\n",
    "            d_loss_src = criterion_bce(src_out_d, torch.ones_like(src_out_d))\n",
    "            d_loss_tgt = criterion_bce(tgt_out_d, torch.zeros_like(tgt_out_d))\n",
    "            d_loss = (d_loss_src + d_loss_tgt) / 2\n",
    "            d_loss.backward()\n",
    "            # Update the discriminator\n",
    "            optimizer_d.step()\n",
    "\n",
    "            # Train segmentation network with adversarial loss to fool the discriminator\n",
    "            optimizer_g.zero_grad()\n",
    "            total_loss = generator_loss(seg_loss, tgt_pred, discriminator, adv_loss_weight)\n",
    "            total_loss.backward()\n",
    "            optimizer_g.step()\n",
    "\n",
    "            # Update learning rate using polynomial decay for the discriminator\n",
    "            poly_lr_scheduler(optimizer_d, 1e-4, i, max_iter=len(source_loader))\n",
    "\n",
    "        # Print the loss of each component\n",
    "        print(f\"Epoch [{epoch}/{50}], Seg Loss: {seg_loss.item():.4f}, D Loss: {d_loss.item():.4f}, G Loss: {total_loss.item() - seg_loss.item():.4f}\")\n",
    "    \n",
    "    print(f\"[adv_loss_weight: {adv_loss_weight}] Finished training the model! Saving the model...\")\n",
    "    \n",
    "    # Save the model\n",
    "    torch.save(model.state_dict(), f'models/bisenet/bisenet_gta5_adapted/bisenet_gta5_adapted_{adv_loss_weight}.pth')"
   ]
  },
  {
   "cell_type": "markdown",
   "metadata": {},
   "source": [
    "### Best Parameter"
   ]
  },
  {
   "cell_type": "code",
   "execution_count": 4,
   "metadata": {},
   "outputs": [
    {
     "name": "stderr",
     "output_type": "stream",
     "text": [
      "100%|██████████| 500/500 [00:08<00:00, 58.89it/s]\n"
     ]
    },
    {
     "name": "stdout",
     "output_type": "stream",
     "text": [
      "[adv_loss_weight: 0.1] Mean IoU: 0.2812\n"
     ]
    },
    {
     "name": "stderr",
     "output_type": "stream",
     "text": [
      "100%|██████████| 500/500 [00:08<00:00, 59.30it/s]\n"
     ]
    },
    {
     "name": "stdout",
     "output_type": "stream",
     "text": [
      "[adv_loss_weight: 0.01] Mean IoU: 0.3017\n"
     ]
    },
    {
     "name": "stderr",
     "output_type": "stream",
     "text": [
      "100%|██████████| 500/500 [00:08<00:00, 57.86it/s]\n"
     ]
    },
    {
     "name": "stdout",
     "output_type": "stream",
     "text": [
      "[adv_loss_weight: 0.03] Mean IoU: 0.2826\n"
     ]
    },
    {
     "name": "stderr",
     "output_type": "stream",
     "text": [
      "100%|██████████| 500/500 [00:08<00:00, 56.52it/s]\n"
     ]
    },
    {
     "name": "stdout",
     "output_type": "stream",
     "text": [
      "[adv_loss_weight: 0.05] Mean IoU: 0.2826\n"
     ]
    },
    {
     "name": "stderr",
     "output_type": "stream",
     "text": [
      "100%|██████████| 500/500 [00:08<00:00, 59.78it/s]\n"
     ]
    },
    {
     "name": "stdout",
     "output_type": "stream",
     "text": [
      "[adv_loss_weight: 0.07] Mean IoU: 0.2721\n"
     ]
    },
    {
     "name": "stderr",
     "output_type": "stream",
     "text": [
      "100%|██████████| 500/500 [00:08<00:00, 60.63it/s]\n"
     ]
    },
    {
     "name": "stdout",
     "output_type": "stream",
     "text": [
      "[adv_loss_weight: 0.3] Mean IoU: 0.2704\n"
     ]
    },
    {
     "name": "stderr",
     "output_type": "stream",
     "text": [
      "100%|██████████| 500/500 [00:08<00:00, 61.59it/s]\n"
     ]
    },
    {
     "name": "stdout",
     "output_type": "stream",
     "text": [
      "[adv_loss_weight: 0.4] Mean IoU: 0.2451\n"
     ]
    },
    {
     "name": "stderr",
     "output_type": "stream",
     "text": [
      "100%|██████████| 500/500 [00:08<00:00, 61.06it/s]\n"
     ]
    },
    {
     "name": "stdout",
     "output_type": "stream",
     "text": [
      "[adv_loss_weight: 0.5] Mean IoU: 0.2515\n"
     ]
    },
    {
     "name": "stderr",
     "output_type": "stream",
     "text": [
      "100%|██████████| 500/500 [00:08<00:00, 62.38it/s]\n"
     ]
    },
    {
     "name": "stdout",
     "output_type": "stream",
     "text": [
      "[adv_loss_weight: 0.6] Mean IoU: 0.2244\n"
     ]
    },
    {
     "name": "stderr",
     "output_type": "stream",
     "text": [
      "100%|██████████| 500/500 [00:08<00:00, 60.78it/s]\n"
     ]
    },
    {
     "name": "stdout",
     "output_type": "stream",
     "text": [
      "[adv_loss_weight: 0.7] Mean IoU: 0.2283\n"
     ]
    },
    {
     "name": "stderr",
     "output_type": "stream",
     "text": [
      "100%|██████████| 500/500 [00:08<00:00, 57.98it/s]"
     ]
    },
    {
     "name": "stdout",
     "output_type": "stream",
     "text": [
      "[adv_loss_weight: 0.9] Mean IoU: 0.2091\n",
      "Best adv_loss_weight: 0.01, Best Mean IoU: 0.3017\n"
     ]
    },
    {
     "name": "stderr",
     "output_type": "stream",
     "text": [
      "\n"
     ]
    }
   ],
   "source": [
    "# Load the dataset\n",
    "dataset = CityScapes(root_dir='datasets/Cityspaces', split='val')\n",
    "dataloader = DataLoader(dataset, batch_size=1, shuffle=True, num_workers=4, pin_memory=True)\n",
    "\n",
    "# Set the device\n",
    "device = torch.device(\"cuda\")\n",
    "# Load the model\n",
    "model = BiSeNet(context_path='resnet18', num_classes=19).to(device)\n",
    "\n",
    "# Find the best model\n",
    "adv_loss_weights = [0.1, 0.01, 0.03, 0.05, 0.07, 0.3, 0.4, 0.5, 0.6, 0.7, 0.9]\n",
    "mest_miou = 0.0\n",
    "best_adv_loss_weight = 0.0\n",
    "\n",
    "# Evaluate the model for each adv_loss_weight\n",
    "for adv_loss_weight in adv_loss_weights:\n",
    "    # Load the model for a specific adv_loss_weight\n",
    "    model.load_state_dict(torch.load(f'models/bisenet/bisenet_gta5_adapted/bisenet_gta5_adapted_{adv_loss_weight}.pth'))\n",
    "    # Set model to evaluation mode\n",
    "    model.eval()\n",
    "\n",
    "    hist = np.zeros((19, 19))\n",
    "    for i, (images, labels) in enumerate(tqdm(dataloader)):\n",
    "        # Move the data to the device\n",
    "        images = images.to(device)\n",
    "        label = labels.to(device)\n",
    "        # Forward pass\n",
    "        output = model(images)[0]\n",
    "        # Compute the predictions\n",
    "        pred = output.argmax(dim=0)\n",
    "\n",
    "        # Calculate the mean IoU\n",
    "        hist += fast_hist(label.flatten().cpu().numpy(), pred.flatten().cpu().numpy(), 19)\n",
    "        miou = np.mean(per_class_iou(hist))\n",
    "    # Print the mean IoU for each adv_loss_weight\n",
    "    print(f\"[adv_loss_weight: {adv_loss_weight}] Mean IoU: {miou:.4f}\")\n",
    "\n",
    "    # Find the best adv_loss_weight\n",
    "    if miou > mest_miou:\n",
    "        mest_miou = miou\n",
    "        best_adv_loss_weight = adv_loss_weight\n",
    "\n",
    "# Print the best adv_loss_weight and the best mean IoU\n",
    "print(f\"Best adv_loss_weight: {best_adv_loss_weight}, Best Mean IoU: {mest_miou:.4f}\")"
   ]
  },
  {
   "cell_type": "markdown",
   "metadata": {},
   "source": [
    "### Evaluation"
   ]
  },
  {
   "cell_type": "code",
   "execution_count": 5,
   "metadata": {},
   "outputs": [],
   "source": [
    "# These are the class labels for the Cityscapes dataset\n",
    "class_labels = {\n",
    "    0: 'road',\n",
    "    1: 'sidewalk',\n",
    "    2: 'building',\n",
    "    3: 'wall',\n",
    "    4: 'fence',\n",
    "    5: 'pole',\n",
    "    6: 'traffic light',\n",
    "    7: 'traffic sign',\n",
    "    8: 'vegetation',\n",
    "    9: 'terrain',\n",
    "    10: 'sky',\n",
    "    11: 'person',\n",
    "    12: 'rider',\n",
    "    13: 'car',\n",
    "    14: 'truck',\n",
    "    15: 'bus',\n",
    "    16: 'train',\n",
    "    17: 'motorcycle',\n",
    "    18: 'bicycle'\n",
    "}"
   ]
  },
  {
   "cell_type": "code",
   "execution_count": 10,
   "metadata": {},
   "outputs": [
    {
     "name": "stderr",
     "output_type": "stream",
     "text": [
      "100%|██████████| 500/500 [00:06<00:00, 81.96it/s]"
     ]
    },
    {
     "name": "stdout",
     "output_type": "stream",
     "text": [
      "Mean IoU: 0.3017 \n",
      "\n",
      "road IoU: 0.8874\n",
      "sidewalk IoU: 0.3222\n",
      "building IoU: 0.7610\n",
      "wall IoU: 0.2103\n",
      "fence IoU: 0.0944\n",
      "pole IoU: 0.1641\n",
      "traffic light IoU: 0.0515\n",
      "traffic sign IoU: 0.0378\n",
      "vegetation IoU: 0.7659\n",
      "terrain IoU: 0.2458\n",
      "sky IoU: 0.7206\n",
      "person IoU: 0.3557\n",
      "rider IoU: 0.0000\n",
      "car IoU: 0.7520\n",
      "truck IoU: 0.1874\n",
      "bus IoU: 0.1099\n",
      "train IoU: 0.0000\n",
      "motorcycle IoU: 0.0671\n",
      "bicycle IoU: 0.0000\n"
     ]
    },
    {
     "name": "stderr",
     "output_type": "stream",
     "text": [
      "\n"
     ]
    }
   ],
   "source": [
    "# Get the device\n",
    "device = torch.device(\"cuda\")\n",
    "\n",
    "# Load the model\n",
    "model = BiSeNet(context_path='resnet18', num_classes=19).to(device)\n",
    "model.load_state_dict(torch.load(f'models/bisenet/bisenet_gta5_adapted/bisenet_gta5_adapted_{best_adv_loss_weight}.pth'))\n",
    "# Set model to evaluation mode\n",
    "model.eval()\n",
    "\n",
    "## Get the miou for the Cityscapes dataset in the validation split\n",
    "# Load the dataset\n",
    "dataset = CityScapes(root_dir='datasets/Cityspaces', split='val')\n",
    "dataloader = DataLoader(dataset, batch_size=1, shuffle=True, num_workers=6)\n",
    "\n",
    "# Evaluate the model\n",
    "hist = np.zeros((19, 19))\n",
    "for i, (images, labels) in enumerate(tqdm(dataloader)):\n",
    "    # Move the data to the device\n",
    "    images = images.to(device)\n",
    "    label = labels.to(device)\n",
    "    # Forward pass\n",
    "    output = model(images)[0]\n",
    "    # Compute the predictions\n",
    "    pred = output.argmax(dim=0)\n",
    "\n",
    "    # Calculate the mean IoU\n",
    "    hist += fast_hist(label.flatten().cpu().numpy(), pred.flatten().cpu().numpy(), 19)\n",
    "    \n",
    "# Calculate the mean IoU\n",
    "miou = np.mean(per_class_iou(hist))\n",
    "print(f\"Mean IoU: {miou:.4f} \\n\")\n",
    "\n",
    "class_ious = per_class_iou(hist)\n",
    "# Print per-class IoU\n",
    "for i, iou in enumerate(class_ious):\n",
    "    print(f\"{class_labels[i]} IoU: {iou:.4f}\")"
   ]
  },
  {
   "cell_type": "markdown",
   "metadata": {},
   "source": [
    "### Example"
   ]
  },
  {
   "cell_type": "code",
   "execution_count": 18,
   "metadata": {},
   "outputs": [
    {
     "name": "stderr",
     "output_type": "stream",
     "text": [
      "0it [00:00, ?it/s]\n"
     ]
    },
    {
     "data": {
      "image/png": "[encoded data removed]",
      "text/plain": [
       "<Figure size 1500x1000 with 2 Axes>"
      ]
     },
     "metadata": {},
     "output_type": "display_data"
    }
   ],
   "source": [
    "import matplotlib.pyplot as plt\n",
    "from PIL import Image\n",
    "from torchvision.transforms import ToPILImage\n",
    "\n",
    "# Get the device\n",
    "device = torch.device(\"cuda\")\n",
    "\n",
    "# Load the model\n",
    "model = BiSeNet(context_path='resnet18', num_classes=19).to(device)\n",
    "model.load_state_dict(torch.load(f\"models/bisenet/bisenet_gta5_adapted/bisenet_gta5_adapted_{best_adv_loss_weight}.pth\"))\n",
    "# Set model to evaluation mode\n",
    "model.eval()\n",
    "\n",
    "# Load the dataset\n",
    "dataset = CityScapes(root_dir='datasets/Cityspaces', split='val')\n",
    "dataloader = DataLoader(dataset, batch_size=1, shuffle=True, num_workers=4)\n",
    "\n",
    "for i, (image, label) in tqdm(enumerate(dataloader)):\n",
    "    # Move the data to the device\n",
    "    image = image.to(device)\n",
    "    label = label.to(device)\n",
    "    # Forward pass\n",
    "    output = model(image)\n",
    "    # Compute the predictions\n",
    "    pred = output.argmax(dim=1)\n",
    "    # Stop after the first iteration\n",
    "    break\n",
    "\n",
    "# Display the image\n",
    "image = ToPILImage()(image[0].cpu())\n",
    "# Convert label, pred from numpy to image\n",
    "label = Image.fromarray(label[0].cpu().numpy().astype(np.uint8))\n",
    "pred = Image.fromarray(pred[0].cpu().numpy().astype(np.uint8))\n",
    "\n",
    "# Display the image\n",
    "plt.figure(figsize=(15, 10))\n",
    "plt.subplot(121)\n",
    "plt.imshow(label)\n",
    "plt.title('Label')\n",
    "plt.axis('off')\n",
    "plt.subplot(122)\n",
    "plt.imshow(pred)\n",
    "plt.title('Prediction')\n",
    "plt.axis('off')\n",
    "plt.show()"
   ]
  }
 ],
 "metadata": {
  "kernelspec": {
   "display_name": "polito",
   "language": "python",
   "name": "python3"
  },
  "language_info": {
   "codemirror_mode": {
    "name": "ipython",
    "version": 3
   },
   "file_extension": ".py",
   "mimetype": "text/x-python",
   "name": "python",
   "nbconvert_exporter": "python",
   "pygments_lexer": "ipython3",
   "version": "3.10.14"
  }
 },
 "nbformat": 4,
 "nbformat_minor": 2
}
