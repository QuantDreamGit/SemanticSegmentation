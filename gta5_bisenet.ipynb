{
 "cells": [
  {
   "cell_type": "code",
   "execution_count": 3,
   "metadata": {},
   "outputs": [],
   "source": [
    "import torch\n",
    "import warnings\n",
    "import numpy as np\n",
    "import torch.nn as nn\n",
    "from time import time\n",
    "import matplotlib.pyplot as plt\n",
    "\n",
    "from tqdm import tqdm\n",
    "from PIL import Image\n",
    "from torch.utils.data import DataLoader\n",
    "from datasets.gta5 import GTA5\n",
    "from datasets.cityscapes import CityScapes\n",
    "from torchvision.transforms import ToPILImage\n",
    "from fvcore.nn import FlopCountAnalysis, flop_count_table\n",
    "from torchvision import transforms\n",
    "from torchvision.transforms import ToTensor, Normalize, Compose\n",
    "\n",
    "from utils import fast_hist, per_class_iou\n",
    "from models.bisenet.build_bisenet import BiSeNet\n",
    "\n",
    "warnings.filterwarnings(\"ignore\")"
   ]
  },
  {
   "cell_type": "code",
   "execution_count": 2,
   "metadata": {},
   "outputs": [
    {
     "name": "stderr",
     "output_type": "stream",
     "text": [
      "100%|██████████| 313/313 [02:20<00:00,  2.22it/s]\n"
     ]
    },
    {
     "name": "stdout",
     "output_type": "stream",
     "text": [
      "Epoch: 0, Loss: 0.4791576862335205, mIoU: 0.14800388556249022\n"
     ]
    },
    {
     "name": "stderr",
     "output_type": "stream",
     "text": [
      "100%|██████████| 313/313 [02:31<00:00,  2.06it/s]\n"
     ]
    },
    {
     "name": "stdout",
     "output_type": "stream",
     "text": [
      "Epoch: 1, Loss: 0.26317957043647766, mIoU: 0.21717980265692655\n"
     ]
    },
    {
     "name": "stderr",
     "output_type": "stream",
     "text": [
      "100%|██████████| 313/313 [02:24<00:00,  2.16it/s]\n"
     ]
    },
    {
     "name": "stdout",
     "output_type": "stream",
     "text": [
      "Epoch: 2, Loss: 0.3688304126262665, mIoU: 0.26087696530494714\n"
     ]
    },
    {
     "name": "stderr",
     "output_type": "stream",
     "text": [
      "100%|██████████| 313/313 [02:24<00:00,  2.17it/s]\n"
     ]
    },
    {
     "name": "stdout",
     "output_type": "stream",
     "text": [
      "Epoch: 3, Loss: 0.5441753268241882, mIoU: 0.2874010247652537\n"
     ]
    },
    {
     "name": "stderr",
     "output_type": "stream",
     "text": [
      "100%|██████████| 313/313 [02:23<00:00,  2.18it/s]\n"
     ]
    },
    {
     "name": "stdout",
     "output_type": "stream",
     "text": [
      "Epoch: 4, Loss: 0.5271084308624268, mIoU: 0.3002956200949784\n"
     ]
    },
    {
     "name": "stderr",
     "output_type": "stream",
     "text": [
      "100%|██████████| 313/313 [02:29<00:00,  2.09it/s]\n"
     ]
    },
    {
     "name": "stdout",
     "output_type": "stream",
     "text": [
      "Epoch: 5, Loss: 0.39026331901550293, mIoU: 0.31301281567810557\n"
     ]
    },
    {
     "name": "stderr",
     "output_type": "stream",
     "text": [
      "100%|██████████| 313/313 [02:24<00:00,  2.16it/s]\n"
     ]
    },
    {
     "name": "stdout",
     "output_type": "stream",
     "text": [
      "Epoch: 6, Loss: 0.24120183289051056, mIoU: 0.3244921577735703\n"
     ]
    },
    {
     "name": "stderr",
     "output_type": "stream",
     "text": [
      "100%|██████████| 313/313 [02:14<00:00,  2.32it/s]\n"
     ]
    },
    {
     "name": "stdout",
     "output_type": "stream",
     "text": [
      "Epoch: 7, Loss: 0.2340388298034668, mIoU: 0.33520936074116503\n"
     ]
    },
    {
     "name": "stderr",
     "output_type": "stream",
     "text": [
      "100%|██████████| 313/313 [02:23<00:00,  2.19it/s]\n"
     ]
    },
    {
     "name": "stdout",
     "output_type": "stream",
     "text": [
      "Epoch: 8, Loss: 0.3538700044155121, mIoU: 0.348358158869552\n"
     ]
    },
    {
     "name": "stderr",
     "output_type": "stream",
     "text": [
      "100%|██████████| 313/313 [02:28<00:00,  2.11it/s]\n"
     ]
    },
    {
     "name": "stdout",
     "output_type": "stream",
     "text": [
      "Epoch: 9, Loss: 0.3248212933540344, mIoU: 0.3606178540012742\n"
     ]
    },
    {
     "name": "stderr",
     "output_type": "stream",
     "text": [
      "100%|██████████| 313/313 [02:28<00:00,  2.10it/s]\n"
     ]
    },
    {
     "name": "stdout",
     "output_type": "stream",
     "text": [
      "Epoch: 10, Loss: 0.2827305495738983, mIoU: 0.36679172808869653\n"
     ]
    },
    {
     "name": "stderr",
     "output_type": "stream",
     "text": [
      "100%|██████████| 313/313 [02:27<00:00,  2.12it/s]\n"
     ]
    },
    {
     "name": "stdout",
     "output_type": "stream",
     "text": [
      "Epoch: 11, Loss: 0.21228887140750885, mIoU: 0.37266567508281706\n"
     ]
    },
    {
     "name": "stderr",
     "output_type": "stream",
     "text": [
      "100%|██████████| 313/313 [02:25<00:00,  2.14it/s]\n"
     ]
    },
    {
     "name": "stdout",
     "output_type": "stream",
     "text": [
      "Epoch: 12, Loss: 0.4298330545425415, mIoU: 0.3760492957827554\n"
     ]
    },
    {
     "name": "stderr",
     "output_type": "stream",
     "text": [
      "100%|██████████| 313/313 [02:22<00:00,  2.19it/s]\n"
     ]
    },
    {
     "name": "stdout",
     "output_type": "stream",
     "text": [
      "Epoch: 13, Loss: 0.3874945044517517, mIoU: 0.38457255711398847\n"
     ]
    },
    {
     "name": "stderr",
     "output_type": "stream",
     "text": [
      "100%|██████████| 313/313 [02:30<00:00,  2.08it/s]\n"
     ]
    },
    {
     "name": "stdout",
     "output_type": "stream",
     "text": [
      "Epoch: 14, Loss: 0.18580251932144165, mIoU: 0.38935473025071876\n"
     ]
    },
    {
     "name": "stderr",
     "output_type": "stream",
     "text": [
      "100%|██████████| 313/313 [02:25<00:00,  2.15it/s]\n"
     ]
    },
    {
     "name": "stdout",
     "output_type": "stream",
     "text": [
      "Epoch: 15, Loss: 0.5236092805862427, mIoU: 0.3947962809542327\n"
     ]
    },
    {
     "name": "stderr",
     "output_type": "stream",
     "text": [
      "100%|██████████| 313/313 [02:26<00:00,  2.14it/s]\n"
     ]
    },
    {
     "name": "stdout",
     "output_type": "stream",
     "text": [
      "Epoch: 16, Loss: 0.21310828626155853, mIoU: 0.399962962837422\n"
     ]
    },
    {
     "name": "stderr",
     "output_type": "stream",
     "text": [
      "100%|██████████| 313/313 [02:32<00:00,  2.06it/s]\n"
     ]
    },
    {
     "name": "stdout",
     "output_type": "stream",
     "text": [
      "Epoch: 17, Loss: 0.25865042209625244, mIoU: 0.40467405451897703\n"
     ]
    },
    {
     "name": "stderr",
     "output_type": "stream",
     "text": [
      "100%|██████████| 313/313 [02:27<00:00,  2.12it/s]\n"
     ]
    },
    {
     "name": "stdout",
     "output_type": "stream",
     "text": [
      "Epoch: 18, Loss: 0.135981023311615, mIoU: 0.40787717621459246\n"
     ]
    },
    {
     "name": "stderr",
     "output_type": "stream",
     "text": [
      "100%|██████████| 313/313 [02:25<00:00,  2.14it/s]\n"
     ]
    },
    {
     "name": "stdout",
     "output_type": "stream",
     "text": [
      "Epoch: 19, Loss: 0.16135242581367493, mIoU: 0.41223513189324684\n"
     ]
    },
    {
     "name": "stderr",
     "output_type": "stream",
     "text": [
      "100%|██████████| 313/313 [02:23<00:00,  2.17it/s]\n"
     ]
    },
    {
     "name": "stdout",
     "output_type": "stream",
     "text": [
      "Epoch: 20, Loss: 0.16823187470436096, mIoU: 0.41524899881355976\n"
     ]
    },
    {
     "name": "stderr",
     "output_type": "stream",
     "text": [
      "100%|██████████| 313/313 [02:27<00:00,  2.13it/s]\n"
     ]
    },
    {
     "name": "stdout",
     "output_type": "stream",
     "text": [
      "Epoch: 21, Loss: 0.19511398673057556, mIoU: 0.4166035445040163\n"
     ]
    },
    {
     "name": "stderr",
     "output_type": "stream",
     "text": [
      "100%|██████████| 313/313 [02:27<00:00,  2.12it/s]\n"
     ]
    },
    {
     "name": "stdout",
     "output_type": "stream",
     "text": [
      "Epoch: 22, Loss: 0.2399863451719284, mIoU: 0.4208484298041611\n"
     ]
    },
    {
     "name": "stderr",
     "output_type": "stream",
     "text": [
      "100%|██████████| 313/313 [02:23<00:00,  2.19it/s]\n"
     ]
    },
    {
     "name": "stdout",
     "output_type": "stream",
     "text": [
      "Epoch: 23, Loss: 0.2531740069389343, mIoU: 0.4229734601065566\n"
     ]
    },
    {
     "name": "stderr",
     "output_type": "stream",
     "text": [
      "100%|██████████| 313/313 [02:17<00:00,  2.27it/s]\n"
     ]
    },
    {
     "name": "stdout",
     "output_type": "stream",
     "text": [
      "Epoch: 24, Loss: 0.2423219233751297, mIoU: 0.4279880896967326\n"
     ]
    },
    {
     "name": "stderr",
     "output_type": "stream",
     "text": [
      "100%|██████████| 313/313 [02:30<00:00,  2.07it/s]\n"
     ]
    },
    {
     "name": "stdout",
     "output_type": "stream",
     "text": [
      "Epoch: 25, Loss: 0.4208959639072418, mIoU: 0.4306435207397456\n"
     ]
    },
    {
     "name": "stderr",
     "output_type": "stream",
     "text": [
      "100%|██████████| 313/313 [02:25<00:00,  2.14it/s]\n"
     ]
    },
    {
     "name": "stdout",
     "output_type": "stream",
     "text": [
      "Epoch: 26, Loss: 0.24108828604221344, mIoU: 0.43288208575127846\n"
     ]
    },
    {
     "name": "stderr",
     "output_type": "stream",
     "text": [
      "100%|██████████| 313/313 [02:23<00:00,  2.18it/s]\n"
     ]
    },
    {
     "name": "stdout",
     "output_type": "stream",
     "text": [
      "Epoch: 27, Loss: 0.14979799091815948, mIoU: 0.43660095157945306\n"
     ]
    },
    {
     "name": "stderr",
     "output_type": "stream",
     "text": [
      "100%|██████████| 313/313 [02:25<00:00,  2.14it/s]\n"
     ]
    },
    {
     "name": "stdout",
     "output_type": "stream",
     "text": [
      "Epoch: 28, Loss: 0.19579119980335236, mIoU: 0.4382331573951796\n"
     ]
    },
    {
     "name": "stderr",
     "output_type": "stream",
     "text": [
      "100%|██████████| 313/313 [02:29<00:00,  2.09it/s]\n"
     ]
    },
    {
     "name": "stdout",
     "output_type": "stream",
     "text": [
      "Epoch: 29, Loss: 0.23234900832176208, mIoU: 0.4412875740588567\n"
     ]
    },
    {
     "name": "stderr",
     "output_type": "stream",
     "text": [
      "100%|██████████| 313/313 [02:23<00:00,  2.18it/s]\n"
     ]
    },
    {
     "name": "stdout",
     "output_type": "stream",
     "text": [
      "Epoch: 30, Loss: 0.20621730387210846, mIoU: 0.44389021622687214\n"
     ]
    },
    {
     "name": "stderr",
     "output_type": "stream",
     "text": [
      "100%|██████████| 313/313 [02:21<00:00,  2.21it/s]\n"
     ]
    },
    {
     "name": "stdout",
     "output_type": "stream",
     "text": [
      "Epoch: 31, Loss: 0.19986608624458313, mIoU: 0.4487510970488713\n"
     ]
    },
    {
     "name": "stderr",
     "output_type": "stream",
     "text": [
      "100%|██████████| 313/313 [02:24<00:00,  2.16it/s]\n"
     ]
    },
    {
     "name": "stdout",
     "output_type": "stream",
     "text": [
      "Epoch: 32, Loss: 0.2132222056388855, mIoU: 0.44971359807027456\n"
     ]
    },
    {
     "name": "stderr",
     "output_type": "stream",
     "text": [
      "100%|██████████| 313/313 [02:27<00:00,  2.12it/s]\n"
     ]
    },
    {
     "name": "stdout",
     "output_type": "stream",
     "text": [
      "Epoch: 33, Loss: 0.20691490173339844, mIoU: 0.45484781613916997\n"
     ]
    },
    {
     "name": "stderr",
     "output_type": "stream",
     "text": [
      "100%|██████████| 313/313 [02:21<00:00,  2.22it/s]\n"
     ]
    },
    {
     "name": "stdout",
     "output_type": "stream",
     "text": [
      "Epoch: 34, Loss: 0.14205627143383026, mIoU: 0.4534687537488405\n"
     ]
    },
    {
     "name": "stderr",
     "output_type": "stream",
     "text": [
      "100%|██████████| 313/313 [02:31<00:00,  2.06it/s]\n"
     ]
    },
    {
     "name": "stdout",
     "output_type": "stream",
     "text": [
      "Epoch: 35, Loss: 0.29526665806770325, mIoU: 0.4589058557116972\n"
     ]
    },
    {
     "name": "stderr",
     "output_type": "stream",
     "text": [
      "100%|██████████| 313/313 [02:22<00:00,  2.19it/s]\n"
     ]
    },
    {
     "name": "stdout",
     "output_type": "stream",
     "text": [
      "Epoch: 36, Loss: 0.1531713902950287, mIoU: 0.4623474372696801\n"
     ]
    },
    {
     "name": "stderr",
     "output_type": "stream",
     "text": [
      "100%|██████████| 313/313 [02:23<00:00,  2.18it/s]\n"
     ]
    },
    {
     "name": "stdout",
     "output_type": "stream",
     "text": [
      "Epoch: 37, Loss: 0.1822524517774582, mIoU: 0.4662084961376004\n"
     ]
    },
    {
     "name": "stderr",
     "output_type": "stream",
     "text": [
      "100%|██████████| 313/313 [02:26<00:00,  2.14it/s]\n"
     ]
    },
    {
     "name": "stdout",
     "output_type": "stream",
     "text": [
      "Epoch: 38, Loss: 0.23290205001831055, mIoU: 0.46818199103217534\n"
     ]
    },
    {
     "name": "stderr",
     "output_type": "stream",
     "text": [
      "100%|██████████| 313/313 [02:28<00:00,  2.11it/s]\n"
     ]
    },
    {
     "name": "stdout",
     "output_type": "stream",
     "text": [
      "Epoch: 39, Loss: 0.1909809112548828, mIoU: 0.469977935424159\n"
     ]
    },
    {
     "name": "stderr",
     "output_type": "stream",
     "text": [
      "100%|██████████| 313/313 [02:22<00:00,  2.19it/s]\n"
     ]
    },
    {
     "name": "stdout",
     "output_type": "stream",
     "text": [
      "Epoch: 40, Loss: 0.17260994017124176, mIoU: 0.4713150044153036\n"
     ]
    },
    {
     "name": "stderr",
     "output_type": "stream",
     "text": [
      "100%|██████████| 313/313 [02:25<00:00,  2.16it/s]\n"
     ]
    },
    {
     "name": "stdout",
     "output_type": "stream",
     "text": [
      "Epoch: 41, Loss: 0.1385447084903717, mIoU: 0.47458717760545643\n"
     ]
    },
    {
     "name": "stderr",
     "output_type": "stream",
     "text": [
      "100%|██████████| 313/313 [02:25<00:00,  2.14it/s]\n"
     ]
    },
    {
     "name": "stdout",
     "output_type": "stream",
     "text": [
      "Epoch: 42, Loss: 0.20673823356628418, mIoU: 0.47576870021952705\n"
     ]
    },
    {
     "name": "stderr",
     "output_type": "stream",
     "text": [
      "100%|██████████| 313/313 [02:30<00:00,  2.08it/s]\n"
     ]
    },
    {
     "name": "stdout",
     "output_type": "stream",
     "text": [
      "Epoch: 43, Loss: 0.1377708911895752, mIoU: 0.4784166001977271\n"
     ]
    },
    {
     "name": "stderr",
     "output_type": "stream",
     "text": [
      "100%|██████████| 313/313 [02:30<00:00,  2.08it/s]\n"
     ]
    },
    {
     "name": "stdout",
     "output_type": "stream",
     "text": [
      "Epoch: 44, Loss: 0.09975297003984451, mIoU: 0.4813215281910976\n"
     ]
    },
    {
     "name": "stderr",
     "output_type": "stream",
     "text": [
      "100%|██████████| 313/313 [02:23<00:00,  2.18it/s]\n"
     ]
    },
    {
     "name": "stdout",
     "output_type": "stream",
     "text": [
      "Epoch: 45, Loss: 0.2131727933883667, mIoU: 0.4832281601838998\n"
     ]
    },
    {
     "name": "stderr",
     "output_type": "stream",
     "text": [
      "100%|██████████| 313/313 [02:18<00:00,  2.26it/s]\n"
     ]
    },
    {
     "name": "stdout",
     "output_type": "stream",
     "text": [
      "Epoch: 46, Loss: 0.17350462079048157, mIoU: 0.4829321990547508\n"
     ]
    },
    {
     "name": "stderr",
     "output_type": "stream",
     "text": [
      "100%|██████████| 313/313 [02:31<00:00,  2.07it/s]\n"
     ]
    },
    {
     "name": "stdout",
     "output_type": "stream",
     "text": [
      "Epoch: 47, Loss: 0.1885511875152588, mIoU: 0.48590622689373913\n"
     ]
    },
    {
     "name": "stderr",
     "output_type": "stream",
     "text": [
      "100%|██████████| 313/313 [02:24<00:00,  2.17it/s]\n"
     ]
    },
    {
     "name": "stdout",
     "output_type": "stream",
     "text": [
      "Epoch: 48, Loss: 0.1689540594816208, mIoU: 0.4870978153932504\n"
     ]
    },
    {
     "name": "stderr",
     "output_type": "stream",
     "text": [
      "100%|██████████| 313/313 [02:30<00:00,  2.08it/s]\n"
     ]
    },
    {
     "name": "stdout",
     "output_type": "stream",
     "text": [
      "Epoch: 49, Loss: 0.11455592513084412, mIoU: 0.49068710627105405\n"
     ]
    }
   ],
   "source": [
    "## Training\n",
    "device = torch.device(\"cuda\")\n",
    "# Load model\n",
    "model = BiSeNet(context_path='resnet18', num_classes=19).to(device)\n",
    "\n",
    "# Set model to training mode\n",
    "model.train()\n",
    "\n",
    "# Load the dataset\n",
    "dataset = GTA5(root_dir='datasets/GTA5')\n",
    "dataloader = DataLoader(dataset, batch_size=8, shuffle=True, num_workers=1)\n",
    "\n",
    "# Loss function\n",
    "criterion = nn.CrossEntropyLoss(ignore_index=255)\n",
    "# Optimizer\n",
    "optimizer = torch.optim.SGD(model.parameters(), lr=0.001, momentum=0.9, weight_decay=1e-4)\n",
    "\n",
    "# Set model to training mode\n",
    "model.train()\n",
    "# Training loop\n",
    "for epoch in range(50):\n",
    "    hist = np.zeros((19, 19))\n",
    "    # Iterate over the dataset\n",
    "    for i, (images, labels) in enumerate(tqdm(dataloader)):\n",
    "        # Move the data to the device\n",
    "        images = images.to(device)\n",
    "        label = labels.to(device)\n",
    "        # Zero the gradients\n",
    "        optimizer.zero_grad()\n",
    "        # Forward pass\n",
    "        output = model(images)[0]\n",
    "        # Compute the loss\n",
    "        loss = criterion(output, label)\n",
    "        # Backward pass\n",
    "        loss.backward()\n",
    "        # Update the weights\n",
    "        optimizer.step()\n",
    "        # Compute the predictions\n",
    "        pred = output.argmax(dim=1)\n",
    "\n",
    "        # Calculate the mean IoU\n",
    "        hist += fast_hist(label.flatten().cpu().numpy(), pred.flatten().cpu().numpy(), 19)\n",
    "        miou = np.mean(per_class_iou(hist))\n",
    "\n",
    "    # Print the loss and mIoU\n",
    "    print(f'Epoch: {epoch}, Loss: {loss.item()}, mIoU: {miou}')\n",
    "\n",
    "# Save the model\n",
    "torch.save(model.state_dict(), 'models/bisenet/bisenet_gta5.pth')"
   ]
  },
  {
   "cell_type": "markdown",
   "metadata": {},
   "source": [
    "### Evaluation - GTA 5"
   ]
  },
  {
   "cell_type": "code",
   "execution_count": 3,
   "metadata": {},
   "outputs": [
    {
     "name": "stderr",
     "output_type": "stream",
     "text": [
      "0it [00:00, ?it/s]\n"
     ]
    },
    {
     "data": {
      "image/png": "[encoded data removed]",
      "text/plain": [
       "<Figure size 2000x2000 with 2 Axes>"
      ]
     },
     "metadata": {},
     "output_type": "display_data"
    }
   ],
   "source": [
    "## Evaluation\n",
    "# Get the device\n",
    "device = torch.device(\"cuda\")\n",
    "# Load the model\n",
    "model = BiSeNet(context_path='resnet18', num_classes=19).to(device)\n",
    "model.load_state_dict(torch.load('models/bisenet/bisenet_gta5.pth'))\n",
    "# Set model to evaluation mode\n",
    "model.eval()\n",
    "\n",
    "# Load the dataset\n",
    "# Load the dataset\n",
    "dataset = GTA5(root_dir='datasets/GTA5')\n",
    "dataloader = DataLoader(dataset, batch_size=1, shuffle=True, num_workers=1)\n",
    "\n",
    "for i, (image, label) in tqdm(enumerate(dataloader)):\n",
    "    # Move the data to the device\n",
    "    image = image.to(device)\n",
    "    label = label.to(device)\n",
    "    # Forward pass\n",
    "    output = model(image)\n",
    "    # Compute the predictions\n",
    "    pred = output.argmax(dim=1)\n",
    "    # Stop after the first iteration\n",
    "    break\n",
    "\n",
    "# Display the image\n",
    "image = ToPILImage()(image[0].cpu())\n",
    "# Convert label, pred from numpy to image\n",
    "label = Image.fromarray(label[0].cpu().numpy().astype(np.uint8))\n",
    "pred = Image.fromarray(pred[0].cpu().numpy().astype(np.uint8))\n",
    "\n",
    "# Display the image\n",
    "plt.figure(figsize=(20, 20))\n",
    "plt.subplot(121)\n",
    "plt.imshow(label)\n",
    "plt.title('Label')\n",
    "plt.axis('off')\n",
    "plt.subplot(122)\n",
    "plt.imshow(pred)\n",
    "plt.title('Prediction')\n",
    "plt.axis('off')\n",
    "plt.show()"
   ]
  },
  {
   "cell_type": "markdown",
   "metadata": {},
   "source": [
    "### Evaluation - CityScapes"
   ]
  },
  {
   "cell_type": "code",
   "execution_count": 11,
   "metadata": {},
   "outputs": [
    {
     "name": "stderr",
     "output_type": "stream",
     "text": [
      "100%|██████████| 500/500 [00:31<00:00, 15.64it/s]"
     ]
    },
    {
     "name": "stdout",
     "output_type": "stream",
     "text": [
      "mIoU: 0.004479103226164105\n"
     ]
    },
    {
     "name": "stderr",
     "output_type": "stream",
     "text": [
      "\n"
     ]
    }
   ],
   "source": [
    "## Evaluation\n",
    "# Get the device\n",
    "device = torch.device(\"cuda\")\n",
    "# Load the model\n",
    "model = BiSeNet(context_path='resnet18', num_classes=19).to(device)\n",
    "model.load_state_dict(torch.load('models/bisenet/bisenet_gta5.pth'))\n",
    "# Set model to evaluation mode\n",
    "model.eval()\n",
    "\n",
    "custom_transform = transforms.Compose([\n",
    "    transforms.Resize((512, 1024)),\n",
    "    transforms.ToTensor(),\n",
    "    # Normalize the image using the mean and standard deviation of GTA 5 dataset\n",
    "    transforms.Normalize(\n",
    "        mean=[0.5084, 0.5021, 0.4838], \n",
    "        std=[0.2490, 0.2440, 0.2424]),\n",
    "])\n",
    "\n",
    "# Load the dataset\n",
    "dataset = CityScapes(root_dir='datasets/Cityspaces', \n",
    "                     split='val', mode='single', raw_label=False, \n",
    "                     custom_transform_image=custom_transform)\n",
    "dataloader = DataLoader(dataset, batch_size=1, shuffle=True, num_workers=1)\n",
    "\n",
    "# Evaluate the model\n",
    "hist = np.zeros((19, 19))\n",
    "for i, (images, labels) in enumerate(tqdm(dataloader)):\n",
    "    # Move the data to the device\n",
    "    images = images.to(device)\n",
    "    label = labels.to(device)\n",
    "    # Forward pass\n",
    "    output = model(images)[0]\n",
    "    # Compute the predictions\n",
    "    pred = output.argmax(dim=0)\n",
    "\n",
    "    # Calculate the mean IoU\n",
    "    hist += fast_hist(label.flatten().cpu().numpy(), pred.flatten().cpu().numpy(), 19)\n",
    "    miou = np.mean(per_class_iou(hist))\n",
    "\n",
    "# Print the mIoU\n",
    "print(f'mIoU: {miou}')"
   ]
  },
  {
   "cell_type": "markdown",
   "metadata": {},
   "source": [
    "### Example"
   ]
  },
  {
   "cell_type": "code",
   "execution_count": 9,
   "metadata": {},
   "outputs": [
    {
     "name": "stderr",
     "output_type": "stream",
     "text": [
      "0it [00:00, ?it/s]\n"
     ]
    },
    {
     "data": {
      "image/png": "[encoded data removed]",
      "text/plain": [
       "<Figure size 1500x1000 with 2 Axes>"
      ]
     },
     "metadata": {},
     "output_type": "display_data"
    }
   ],
   "source": [
    "## Inference\n",
    "# Get the device\n",
    "device = torch.device(\"cuda\" if torch.cuda.is_available() else \"cpu\")\n",
    "# Load the model\n",
    "model = BiSeNet(context_path='resnet18', num_classes=19).to(device)\n",
    "model.load_state_dict(torch.load('models/bisenet/bisenet_gta5.pth'))\n",
    "# Set model to evaluation mode\n",
    "model.eval()\n",
    "\n",
    "custom_transform = transforms.Compose([\n",
    "    transforms.Resize((512, 1024)),\n",
    "    transforms.ToTensor(),\n",
    "    # Normalize the image using the mean and standard deviation of GTA 5 dataset\n",
    "    transforms.Normalize(\n",
    "        mean=[0.5084, 0.5021, 0.4838], \n",
    "        std=[0.2490, 0.2440, 0.2424]),\n",
    "])\n",
    "\n",
    "# Load the dataset\n",
    "dataset = CityScapes(root_dir='datasets/Cityspaces', \n",
    "                     split='val', mode='single', raw_label=False, \n",
    "                     custom_transform_image=custom_transform)\n",
    "dataloader = DataLoader(dataset, batch_size=1, shuffle=True, num_workers=1)\n",
    "\n",
    "for i, (image, label) in tqdm(enumerate(dataloader)):\n",
    "    # Move the data to the device\n",
    "    image = image.to(device)\n",
    "    label = label.to(device)\n",
    "    # Forward pass\n",
    "    output = model(image)\n",
    "    # Compute the predictions\n",
    "    pred = output.argmax(dim=1)\n",
    "    # Stop after the first iteration\n",
    "    break\n",
    "\n",
    "# Display the image\n",
    "image = ToPILImage()(image[0].cpu())\n",
    "# Convert label, pred from numpy to image\n",
    "label = Image.fromarray(label[0].cpu().numpy().astype(np.uint8))\n",
    "pred = Image.fromarray(pred[0].cpu().numpy().astype(np.uint8))\n",
    "\n",
    "# Display the image\n",
    "plt.figure(figsize=(15, 10))\n",
    "plt.subplot(121)\n",
    "plt.imshow(label)\n",
    "plt.title('Label')\n",
    "plt.axis('off')\n",
    "plt.subplot(122)\n",
    "plt.imshow(pred)\n",
    "plt.title('Prediction')\n",
    "plt.axis('off')\n",
    "plt.show()"
   ]
  },
  {
   "cell_type": "code",
   "execution_count": null,
   "metadata": {},
   "outputs": [],
   "source": []
  }
 ],
 "metadata": {
  "kernelspec": {
   "display_name": "polito",
   "language": "python",
   "name": "python3"
  },
  "language_info": {
   "codemirror_mode": {
    "name": "ipython",
    "version": 3
   },
   "file_extension": ".py",
   "mimetype": "text/x-python",
   "name": "python",
   "nbconvert_exporter": "python",
   "pygments_lexer": "ipython3",
   "version": "3.10.14"
  }
 },
 "nbformat": 4,
 "nbformat_minor": 2
}
