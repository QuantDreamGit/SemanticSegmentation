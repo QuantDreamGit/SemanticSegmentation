{
 "cells": [
  {
   "cell_type": "markdown",
   "metadata": {},
   "source": [
    "### Import libraries"
   ]
  },
  {
   "cell_type": "code",
   "execution_count": 1,
   "metadata": {},
   "outputs": [],
   "source": [
    "import torch\n",
    "import warnings\n",
    "import numpy as np\n",
    "import torch.nn as nn\n",
    "import matplotlib.pyplot as plt\n",
    "\n",
    "from time import time\n",
    "from tqdm import tqdm\n",
    "from PIL import Image\n",
    "from torch.utils.data import DataLoader\n",
    "from datasets.cityscapes import CityScapes\n",
    "from torchvision.transforms import ToPILImage\n",
    "from fvcore.nn import FlopCountAnalysis, flop_count_table\n",
    "from utils import fast_hist, per_class_iou\n",
    "from models.bisenet.build_bisenet import BiSeNet\n",
    "\n",
    "warnings.filterwarnings(\"ignore\")"
   ]
  },
  {
   "cell_type": "markdown",
   "metadata": {},
   "source": [
    "### Training"
   ]
  },
  {
   "cell_type": "code",
   "execution_count": 2,
   "metadata": {},
   "outputs": [
    {
     "name": "stderr",
     "output_type": "stream",
     "text": [
      "100%|██████████| 393/393 [01:51<00:00,  3.52it/s]\n"
     ]
    },
    {
     "name": "stdout",
     "output_type": "stream",
     "text": [
      "Epoch: 0, Loss: 0.47643551230430603, mIoU: 0.23940108678793942\n"
     ]
    },
    {
     "name": "stderr",
     "output_type": "stream",
     "text": [
      "100%|██████████| 393/393 [01:50<00:00,  3.56it/s]\n"
     ]
    },
    {
     "name": "stdout",
     "output_type": "stream",
     "text": [
      "Epoch: 1, Loss: 0.31246522068977356, mIoU: 0.355811795657581\n"
     ]
    },
    {
     "name": "stderr",
     "output_type": "stream",
     "text": [
      "100%|██████████| 393/393 [01:51<00:00,  3.52it/s]\n"
     ]
    },
    {
     "name": "stdout",
     "output_type": "stream",
     "text": [
      "Epoch: 2, Loss: 0.28488683700561523, mIoU: 0.4318007679901611\n"
     ]
    },
    {
     "name": "stderr",
     "output_type": "stream",
     "text": [
      "100%|██████████| 393/393 [01:54<00:00,  3.45it/s]\n"
     ]
    },
    {
     "name": "stdout",
     "output_type": "stream",
     "text": [
      "Epoch: 3, Loss: 0.33050256967544556, mIoU: 0.48520927063260383\n"
     ]
    },
    {
     "name": "stderr",
     "output_type": "stream",
     "text": [
      "100%|██████████| 393/393 [01:54<00:00,  3.44it/s]\n"
     ]
    },
    {
     "name": "stdout",
     "output_type": "stream",
     "text": [
      "Epoch: 4, Loss: 0.31396302580833435, mIoU: 0.5195359003271665\n"
     ]
    },
    {
     "name": "stderr",
     "output_type": "stream",
     "text": [
      "100%|██████████| 393/393 [01:53<00:00,  3.46it/s]\n"
     ]
    },
    {
     "name": "stdout",
     "output_type": "stream",
     "text": [
      "Epoch: 5, Loss: 0.2740110158920288, mIoU: 0.5475078156494253\n"
     ]
    },
    {
     "name": "stderr",
     "output_type": "stream",
     "text": [
      "100%|██████████| 393/393 [01:53<00:00,  3.47it/s]\n"
     ]
    },
    {
     "name": "stdout",
     "output_type": "stream",
     "text": [
      "Epoch: 6, Loss: 0.4260234832763672, mIoU: 0.5690245390601475\n"
     ]
    },
    {
     "name": "stderr",
     "output_type": "stream",
     "text": [
      "100%|██████████| 393/393 [01:52<00:00,  3.48it/s]\n"
     ]
    },
    {
     "name": "stdout",
     "output_type": "stream",
     "text": [
      "Epoch: 7, Loss: 0.3056105077266693, mIoU: 0.585228178036334\n"
     ]
    },
    {
     "name": "stderr",
     "output_type": "stream",
     "text": [
      "100%|██████████| 393/393 [01:51<00:00,  3.51it/s]\n"
     ]
    },
    {
     "name": "stdout",
     "output_type": "stream",
     "text": [
      "Epoch: 8, Loss: 0.29680174589157104, mIoU: 0.5968409981971373\n"
     ]
    },
    {
     "name": "stderr",
     "output_type": "stream",
     "text": [
      "100%|██████████| 393/393 [01:50<00:00,  3.57it/s]\n"
     ]
    },
    {
     "name": "stdout",
     "output_type": "stream",
     "text": [
      "Epoch: 9, Loss: 0.1910531222820282, mIoU: 0.6139549018909056\n"
     ]
    },
    {
     "name": "stderr",
     "output_type": "stream",
     "text": [
      "100%|██████████| 393/393 [01:51<00:00,  3.53it/s]\n"
     ]
    },
    {
     "name": "stdout",
     "output_type": "stream",
     "text": [
      "Epoch: 10, Loss: 0.24988825619220734, mIoU: 0.6199691778524948\n"
     ]
    },
    {
     "name": "stderr",
     "output_type": "stream",
     "text": [
      "100%|██████████| 393/393 [01:50<00:00,  3.55it/s]\n"
     ]
    },
    {
     "name": "stdout",
     "output_type": "stream",
     "text": [
      "Epoch: 11, Loss: 0.2905636727809906, mIoU: 0.6249006867389552\n"
     ]
    },
    {
     "name": "stderr",
     "output_type": "stream",
     "text": [
      "100%|██████████| 393/393 [01:55<00:00,  3.41it/s]\n"
     ]
    },
    {
     "name": "stdout",
     "output_type": "stream",
     "text": [
      "Epoch: 12, Loss: 0.216493621468544, mIoU: 0.6356426036460748\n"
     ]
    },
    {
     "name": "stderr",
     "output_type": "stream",
     "text": [
      "100%|██████████| 393/393 [01:57<00:00,  3.35it/s]\n"
     ]
    },
    {
     "name": "stdout",
     "output_type": "stream",
     "text": [
      "Epoch: 13, Loss: 0.2534606158733368, mIoU: 0.6411119141361428\n"
     ]
    },
    {
     "name": "stderr",
     "output_type": "stream",
     "text": [
      "100%|██████████| 393/393 [01:50<00:00,  3.55it/s]\n"
     ]
    },
    {
     "name": "stdout",
     "output_type": "stream",
     "text": [
      "Epoch: 14, Loss: 0.22608372569084167, mIoU: 0.6475798883009712\n"
     ]
    },
    {
     "name": "stderr",
     "output_type": "stream",
     "text": [
      "100%|██████████| 393/393 [01:52<00:00,  3.50it/s]\n"
     ]
    },
    {
     "name": "stdout",
     "output_type": "stream",
     "text": [
      "Epoch: 15, Loss: 0.2469271719455719, mIoU: 0.6507772923184351\n"
     ]
    },
    {
     "name": "stderr",
     "output_type": "stream",
     "text": [
      "100%|██████████| 393/393 [01:51<00:00,  3.52it/s]\n"
     ]
    },
    {
     "name": "stdout",
     "output_type": "stream",
     "text": [
      "Epoch: 16, Loss: 0.1648380160331726, mIoU: 0.6553443461119063\n"
     ]
    },
    {
     "name": "stderr",
     "output_type": "stream",
     "text": [
      "100%|██████████| 393/393 [01:51<00:00,  3.53it/s]\n"
     ]
    },
    {
     "name": "stdout",
     "output_type": "stream",
     "text": [
      "Epoch: 17, Loss: 0.2103348821401596, mIoU: 0.6593569619919617\n"
     ]
    },
    {
     "name": "stderr",
     "output_type": "stream",
     "text": [
      "100%|██████████| 393/393 [01:51<00:00,  3.52it/s]\n"
     ]
    },
    {
     "name": "stdout",
     "output_type": "stream",
     "text": [
      "Epoch: 18, Loss: 0.16238151490688324, mIoU: 0.659418677373323\n"
     ]
    },
    {
     "name": "stderr",
     "output_type": "stream",
     "text": [
      "100%|██████████| 393/393 [01:50<00:00,  3.56it/s]\n"
     ]
    },
    {
     "name": "stdout",
     "output_type": "stream",
     "text": [
      "Epoch: 19, Loss: 0.19748803973197937, mIoU: 0.6680649098847686\n"
     ]
    },
    {
     "name": "stderr",
     "output_type": "stream",
     "text": [
      "100%|██████████| 393/393 [01:53<00:00,  3.45it/s]\n"
     ]
    },
    {
     "name": "stdout",
     "output_type": "stream",
     "text": [
      "Epoch: 20, Loss: 0.17143957316875458, mIoU: 0.6666022165983858\n"
     ]
    },
    {
     "name": "stderr",
     "output_type": "stream",
     "text": [
      "100%|██████████| 393/393 [01:50<00:00,  3.55it/s]\n"
     ]
    },
    {
     "name": "stdout",
     "output_type": "stream",
     "text": [
      "Epoch: 21, Loss: 0.12550689280033112, mIoU: 0.6722421476559893\n"
     ]
    },
    {
     "name": "stderr",
     "output_type": "stream",
     "text": [
      "100%|██████████| 393/393 [01:55<00:00,  3.41it/s]\n"
     ]
    },
    {
     "name": "stdout",
     "output_type": "stream",
     "text": [
      "Epoch: 22, Loss: 0.25358089804649353, mIoU: 0.675751453865701\n"
     ]
    },
    {
     "name": "stderr",
     "output_type": "stream",
     "text": [
      "100%|██████████| 393/393 [01:55<00:00,  3.40it/s]\n"
     ]
    },
    {
     "name": "stdout",
     "output_type": "stream",
     "text": [
      "Epoch: 23, Loss: 0.22025324404239655, mIoU: 0.6788699519692462\n"
     ]
    },
    {
     "name": "stderr",
     "output_type": "stream",
     "text": [
      "100%|██████████| 393/393 [01:50<00:00,  3.57it/s]\n"
     ]
    },
    {
     "name": "stdout",
     "output_type": "stream",
     "text": [
      "Epoch: 24, Loss: 0.20308050513267517, mIoU: 0.6805194452787786\n"
     ]
    },
    {
     "name": "stderr",
     "output_type": "stream",
     "text": [
      "100%|██████████| 393/393 [01:49<00:00,  3.59it/s]\n"
     ]
    },
    {
     "name": "stdout",
     "output_type": "stream",
     "text": [
      "Epoch: 25, Loss: 0.1557183712720871, mIoU: 0.6815416948625301\n"
     ]
    },
    {
     "name": "stderr",
     "output_type": "stream",
     "text": [
      "100%|██████████| 393/393 [01:52<00:00,  3.50it/s]\n"
     ]
    },
    {
     "name": "stdout",
     "output_type": "stream",
     "text": [
      "Epoch: 26, Loss: 0.1733991950750351, mIoU: 0.6841922344151482\n"
     ]
    },
    {
     "name": "stderr",
     "output_type": "stream",
     "text": [
      "100%|██████████| 393/393 [01:51<00:00,  3.52it/s]\n"
     ]
    },
    {
     "name": "stdout",
     "output_type": "stream",
     "text": [
      "Epoch: 27, Loss: 0.17546992003917694, mIoU: 0.6872975909494463\n"
     ]
    },
    {
     "name": "stderr",
     "output_type": "stream",
     "text": [
      "100%|██████████| 393/393 [01:54<00:00,  3.44it/s]\n"
     ]
    },
    {
     "name": "stdout",
     "output_type": "stream",
     "text": [
      "Epoch: 28, Loss: 0.21076419949531555, mIoU: 0.6902982205862337\n"
     ]
    },
    {
     "name": "stderr",
     "output_type": "stream",
     "text": [
      "100%|██████████| 393/393 [01:50<00:00,  3.57it/s]\n"
     ]
    },
    {
     "name": "stdout",
     "output_type": "stream",
     "text": [
      "Epoch: 29, Loss: 0.16629008948802948, mIoU: 0.6899048844691336\n"
     ]
    },
    {
     "name": "stderr",
     "output_type": "stream",
     "text": [
      "100%|██████████| 393/393 [01:51<00:00,  3.52it/s]\n"
     ]
    },
    {
     "name": "stdout",
     "output_type": "stream",
     "text": [
      "Epoch: 30, Loss: 0.1856703907251358, mIoU: 0.6930058828161754\n"
     ]
    },
    {
     "name": "stderr",
     "output_type": "stream",
     "text": [
      "100%|██████████| 393/393 [01:50<00:00,  3.57it/s]\n"
     ]
    },
    {
     "name": "stdout",
     "output_type": "stream",
     "text": [
      "Epoch: 31, Loss: 0.1836107224225998, mIoU: 0.6949951695569648\n"
     ]
    },
    {
     "name": "stderr",
     "output_type": "stream",
     "text": [
      "100%|██████████| 393/393 [01:49<00:00,  3.58it/s]\n"
     ]
    },
    {
     "name": "stdout",
     "output_type": "stream",
     "text": [
      "Epoch: 32, Loss: 0.21609161794185638, mIoU: 0.6962997566188093\n"
     ]
    },
    {
     "name": "stderr",
     "output_type": "stream",
     "text": [
      "100%|██████████| 393/393 [01:52<00:00,  3.51it/s]\n"
     ]
    },
    {
     "name": "stdout",
     "output_type": "stream",
     "text": [
      "Epoch: 33, Loss: 0.19770275056362152, mIoU: 0.6975935912765259\n"
     ]
    },
    {
     "name": "stderr",
     "output_type": "stream",
     "text": [
      "100%|██████████| 393/393 [01:54<00:00,  3.44it/s]\n"
     ]
    },
    {
     "name": "stdout",
     "output_type": "stream",
     "text": [
      "Epoch: 34, Loss: 0.18863950669765472, mIoU: 0.6982732153064547\n"
     ]
    },
    {
     "name": "stderr",
     "output_type": "stream",
     "text": [
      "100%|██████████| 393/393 [01:52<00:00,  3.48it/s]\n"
     ]
    },
    {
     "name": "stdout",
     "output_type": "stream",
     "text": [
      "Epoch: 35, Loss: 0.13319772481918335, mIoU: 0.6998991912228216\n"
     ]
    },
    {
     "name": "stderr",
     "output_type": "stream",
     "text": [
      "100%|██████████| 393/393 [01:54<00:00,  3.44it/s]\n"
     ]
    },
    {
     "name": "stdout",
     "output_type": "stream",
     "text": [
      "Epoch: 36, Loss: 0.15453778207302094, mIoU: 0.7011597304776087\n"
     ]
    },
    {
     "name": "stderr",
     "output_type": "stream",
     "text": [
      "100%|██████████| 393/393 [01:54<00:00,  3.42it/s]\n"
     ]
    },
    {
     "name": "stdout",
     "output_type": "stream",
     "text": [
      "Epoch: 37, Loss: 0.14444765448570251, mIoU: 0.70377279353887\n"
     ]
    },
    {
     "name": "stderr",
     "output_type": "stream",
     "text": [
      "100%|██████████| 393/393 [01:54<00:00,  3.44it/s]\n"
     ]
    },
    {
     "name": "stdout",
     "output_type": "stream",
     "text": [
      "Epoch: 38, Loss: 0.19664710760116577, mIoU: 0.7043533118885321\n"
     ]
    },
    {
     "name": "stderr",
     "output_type": "stream",
     "text": [
      "100%|██████████| 393/393 [01:54<00:00,  3.44it/s]\n"
     ]
    },
    {
     "name": "stdout",
     "output_type": "stream",
     "text": [
      "Epoch: 39, Loss: 0.18986918032169342, mIoU: 0.7046068812606804\n"
     ]
    },
    {
     "name": "stderr",
     "output_type": "stream",
     "text": [
      "100%|██████████| 393/393 [01:53<00:00,  3.46it/s]\n"
     ]
    },
    {
     "name": "stdout",
     "output_type": "stream",
     "text": [
      "Epoch: 40, Loss: 0.12381158769130707, mIoU: 0.7065225639766606\n"
     ]
    },
    {
     "name": "stderr",
     "output_type": "stream",
     "text": [
      "100%|██████████| 393/393 [01:53<00:00,  3.46it/s]\n"
     ]
    },
    {
     "name": "stdout",
     "output_type": "stream",
     "text": [
      "Epoch: 41, Loss: 0.11468110233545303, mIoU: 0.7087709481723031\n"
     ]
    },
    {
     "name": "stderr",
     "output_type": "stream",
     "text": [
      "100%|██████████| 393/393 [01:54<00:00,  3.43it/s]\n"
     ]
    },
    {
     "name": "stdout",
     "output_type": "stream",
     "text": [
      "Epoch: 42, Loss: 0.11984152346849442, mIoU: 0.7086220949271078\n"
     ]
    },
    {
     "name": "stderr",
     "output_type": "stream",
     "text": [
      "100%|██████████| 393/393 [01:54<00:00,  3.45it/s]\n"
     ]
    },
    {
     "name": "stdout",
     "output_type": "stream",
     "text": [
      "Epoch: 43, Loss: 0.18502293527126312, mIoU: 0.7096509176530015\n"
     ]
    },
    {
     "name": "stderr",
     "output_type": "stream",
     "text": [
      "100%|██████████| 393/393 [01:55<00:00,  3.42it/s]\n"
     ]
    },
    {
     "name": "stdout",
     "output_type": "stream",
     "text": [
      "Epoch: 44, Loss: 0.2049742490053177, mIoU: 0.7101073750004452\n"
     ]
    },
    {
     "name": "stderr",
     "output_type": "stream",
     "text": [
      "100%|██████████| 393/393 [01:53<00:00,  3.46it/s]\n"
     ]
    },
    {
     "name": "stdout",
     "output_type": "stream",
     "text": [
      "Epoch: 45, Loss: 0.16231222450733185, mIoU: 0.7119147697490384\n"
     ]
    },
    {
     "name": "stderr",
     "output_type": "stream",
     "text": [
      "100%|██████████| 393/393 [01:54<00:00,  3.43it/s]\n"
     ]
    },
    {
     "name": "stdout",
     "output_type": "stream",
     "text": [
      "Epoch: 46, Loss: 0.13419631123542786, mIoU: 0.713617995598646\n"
     ]
    },
    {
     "name": "stderr",
     "output_type": "stream",
     "text": [
      "100%|██████████| 393/393 [01:54<00:00,  3.44it/s]\n"
     ]
    },
    {
     "name": "stdout",
     "output_type": "stream",
     "text": [
      "Epoch: 47, Loss: 0.15662693977355957, mIoU: 0.7132938936733221\n"
     ]
    },
    {
     "name": "stderr",
     "output_type": "stream",
     "text": [
      "100%|██████████| 393/393 [01:54<00:00,  3.42it/s]\n"
     ]
    },
    {
     "name": "stdout",
     "output_type": "stream",
     "text": [
      "Epoch: 48, Loss: 0.16907541453838348, mIoU: 0.7153351142632048\n"
     ]
    },
    {
     "name": "stderr",
     "output_type": "stream",
     "text": [
      "100%|██████████| 393/393 [01:54<00:00,  3.45it/s]\n"
     ]
    },
    {
     "name": "stdout",
     "output_type": "stream",
     "text": [
      "Epoch: 49, Loss: 0.14930135011672974, mIoU: 0.7163553047888643\n"
     ]
    }
   ],
   "source": [
    "device = torch.device(\"cuda\")\n",
    "# Load model\n",
    "model = BiSeNet(context_path='resnet101', num_classes=19).to(device)\n",
    "# Set model to training mode\n",
    "model.train()\n",
    "\n",
    "# Loss function\n",
    "criterion = nn.CrossEntropyLoss(ignore_index=255)\n",
    "# Optimizer\n",
    "optimizer = torch.optim.SGD(model.parameters(), lr=0.001, momentum=0.9, weight_decay=1e-4)\n",
    "\n",
    "# Load the dataset\n",
    "dataset = CityScapes(root_dir='datasets/Cityspaces', split='train')\n",
    "dataloader = DataLoader(dataset, batch_size=4, shuffle=True, num_workers=1)\n",
    "\n",
    "# Training loop\n",
    "for epoch in range(50):\n",
    "    # Initialize the hist matrix at each epoch\n",
    "    hist = np.zeros((19, 19))\n",
    "    # Iterate over the dataset\n",
    "    for i, (images, labels) in enumerate(tqdm(dataloader)):\n",
    "        # Move the data to the device\n",
    "        images = images.to(device)\n",
    "        label = labels.to(device)\n",
    "        # Zero the gradients\n",
    "        optimizer.zero_grad()\n",
    "        # Forward pass\n",
    "        output = model(images)[0]\n",
    "        # Compute the loss\n",
    "        loss = criterion(output, label)\n",
    "        # Backward pass\n",
    "        loss.backward()\n",
    "        # Update the weights\n",
    "        optimizer.step()\n",
    "        # Compute the predictions\n",
    "        pred = output.argmax(dim=1)\n",
    "        # Calculate the mean IoU\n",
    "        hist += fast_hist(label.flatten().cpu().numpy(), pred.flatten().cpu().numpy(), 19)\n",
    "        miou = np.mean(per_class_iou(hist))\n",
    "\n",
    "    # Print the loss and mIoU\n",
    "    print(f'Epoch: {epoch}, Loss: {loss.item()}, mIoU: {miou}')\n",
    "\n",
    "# Save the model\n",
    "torch.save(model.state_dict(), 'models/bisenet/bisenet_basic/bisenet.pth')"
   ]
  },
  {
   "cell_type": "markdown",
   "metadata": {},
   "source": [
    "### Evaluation"
   ]
  },
  {
   "cell_type": "code",
   "execution_count": 2,
   "metadata": {},
   "outputs": [
    {
     "name": "stderr",
     "output_type": "stream",
     "text": [
      "100%|██████████| 500/500 [00:16<00:00, 30.25it/s]"
     ]
    },
    {
     "name": "stdout",
     "output_type": "stream",
     "text": [
      "mIoU: 0.5574518259482943\n"
     ]
    },
    {
     "name": "stderr",
     "output_type": "stream",
     "text": [
      "\n"
     ]
    }
   ],
   "source": [
    "# Get the device\n",
    "device = torch.device(\"cuda\")\n",
    "\n",
    "# Load the model\n",
    "model = BiSeNet(context_path='resnet101', num_classes=19).to(device)\n",
    "model.load_state_dict(torch.load('models/bisenet/bisenet_basic/bisenet.pth'))\n",
    "# Set model to evaluation mode\n",
    "model.eval()\n",
    "\n",
    "# Load the dataset\n",
    "dataset = CityScapes(root_dir='datasets/Cityspaces', split='val')\n",
    "dataloader = DataLoader(dataset, batch_size=1, shuffle=True, num_workers=2, pin_memory=True)\n",
    "\n",
    "# Evaluate the model\n",
    "hist = np.zeros((19, 19))\n",
    "for i, (images, labels) in enumerate(tqdm(dataloader)):\n",
    "    # Move the data to the device\n",
    "    images = images.to(device)\n",
    "    label = labels.to(device)\n",
    "    # Forward pass\n",
    "    output = model(images)[0]\n",
    "    # Compute the predictions\n",
    "    pred = output.argmax(dim=0)\n",
    "\n",
    "    # Calculate the mean IoU\n",
    "    hist += fast_hist(label.flatten().cpu().numpy(), pred.flatten().cpu().numpy(), 19)\n",
    "    miou = np.mean(per_class_iou(hist))\n",
    "\n",
    "# Print the mIoU\n",
    "print(f'mIoU: {miou}')"
   ]
  },
  {
   "cell_type": "markdown",
   "metadata": {},
   "source": [
    "### Example"
   ]
  },
  {
   "cell_type": "code",
   "execution_count": 4,
   "metadata": {},
   "outputs": [
    {
     "name": "stderr",
     "output_type": "stream",
     "text": [
      "0it [00:00, ?it/s]\n"
     ]
    },
    {
     "data": {
      "image/png": "[encoded data removed]",
      "text/plain": [
       "<Figure size 2000x2000 with 2 Axes>"
      ]
     },
     "metadata": {},
     "output_type": "display_data"
    }
   ],
   "source": [
    "# Get the device\n",
    "device = torch.device(\"cuda\")\n",
    "\n",
    "# Load the model\n",
    "model = BiSeNet(context_path='resnet101', num_classes=19).to(device)\n",
    "model.load_state_dict(torch.load('models/bisenet/bisenet_basic/bisenet.pth'))\n",
    "# Set model to evaluation mode\n",
    "model.eval()\n",
    "\n",
    "# Load the dataset\n",
    "dataset = CityScapes(root_dir='datasets/Cityspaces', split='val')\n",
    "dataloader = DataLoader(dataset, batch_size=1, shuffle=True, num_workers=2, pin_memory=True)\n",
    "\n",
    "hist = np.zeros((19, 19))\n",
    "for i, (image, label) in tqdm(enumerate(dataloader)):\n",
    "    # Move the data to the device\n",
    "    image = image.to(device)\n",
    "    label = label.to(device)\n",
    "    # Forward pass\n",
    "    output = model(image)\n",
    "    # Compute the predictions\n",
    "    pred = output.argmax(dim=1)\n",
    "    # Stop after the first iteration\n",
    "    break\n",
    "\n",
    "# Display the image\n",
    "image = ToPILImage()(image[0].cpu())\n",
    "# Convert label, pred from numpy to image\n",
    "label = Image.fromarray(label[0].cpu().numpy().astype(np.uint8))\n",
    "pred = Image.fromarray(pred[0].cpu().numpy().astype(np.uint8))\n",
    "\n",
    "# Display the image\n",
    "plt.figure(figsize=(20, 20))\n",
    "plt.subplot(121)\n",
    "plt.imshow(label)\n",
    "plt.title('Label')\n",
    "plt.axis('off')\n",
    "plt.subplot(122)\n",
    "plt.imshow(pred)\n",
    "plt.title('Prediction')\n",
    "plt.axis('off')\n",
    "plt.show()"
   ]
  },
  {
   "cell_type": "markdown",
   "metadata": {},
   "source": [
    "### FLOPs and Parameters"
   ]
  },
  {
   "cell_type": "code",
   "execution_count": 3,
   "metadata": {},
   "outputs": [
    {
     "name": "stdout",
     "output_type": "stream",
     "text": [
      "Number of parameters: 50801192\n",
      "\n",
      "| module                                      | #parameters or shape   | #flops     |\n",
      "|:--------------------------------------------|:-----------------------|:-----------|\n",
      "| model                                       | 50.801M                | 91.923G    |\n",
      "|  saptial_path                               |  0.371M                |  5.088G    |\n",
      "|   saptial_path.convblock1                   |   1.856K               |   0.243G   |\n",
      "|    saptial_path.convblock1.conv1            |    1.728K              |    0.226G  |\n",
      "|    saptial_path.convblock1.bn               |    0.128K              |    16.777M |\n",
      "|   saptial_path.convblock2                   |   73.984K              |   2.424G   |\n",
      "|    saptial_path.convblock2.conv1            |    73.728K             |    2.416G  |\n",
      "|    saptial_path.convblock2.bn               |    0.256K              |    8.389M  |\n",
      "|   saptial_path.convblock3                   |   0.295M               |   2.42G    |\n",
      "|    saptial_path.convblock3.conv1            |    0.295M              |    2.416G  |\n",
      "|    saptial_path.convblock3.bn               |    0.512K              |    4.194M  |\n",
      "|  context_path.features                      |  44.549M               |  81.835G   |\n",
      "|   context_path.features.conv1               |   9.408K               |   1.233G   |\n",
      "|    context_path.features.conv1.weight       |    (64, 3, 7, 7)       |            |\n",
      "|   context_path.features.bn1                 |   0.128K               |   16.777M  |\n",
      "|    context_path.features.bn1.weight         |    (64,)               |            |\n",
      "|    context_path.features.bn1.bias           |    (64,)               |            |\n",
      "|   context_path.features.layer1              |   0.216M               |   7.072G   |\n",
      "|    context_path.features.layer1.0           |    75.008K             |    2.458G  |\n",
      "|    context_path.features.layer1.1           |    70.4K               |    2.307G  |\n",
      "|    context_path.features.layer1.2           |    70.4K               |    2.307G  |\n",
      "|   context_path.features.layer2              |   1.22M                |   10.802G  |\n",
      "|    context_path.features.layer2.0           |    0.379M              |    3.92G   |\n",
      "|    context_path.features.layer2.1           |    0.28M               |    2.294G  |\n",
      "|    context_path.features.layer2.2           |    0.28M               |    2.294G  |\n",
      "|    context_path.features.layer2.3           |    0.28M               |    2.294G  |\n",
      "|   context_path.features.layer3              |   26.09M               |   54.242G  |\n",
      "|    context_path.features.layer3.0           |    1.512M              |    3.906G  |\n",
      "|    context_path.features.layer3.1           |    1.117M              |    2.288G  |\n",
      "|    context_path.features.layer3.2           |    1.117M              |    2.288G  |\n",
      "|    context_path.features.layer3.3           |    1.117M              |    2.288G  |\n",
      "|    context_path.features.layer3.4           |    1.117M              |    2.288G  |\n",
      "|    context_path.features.layer3.5           |    1.117M              |    2.288G  |\n",
      "|    context_path.features.layer3.6           |    1.117M              |    2.288G  |\n",
      "|    context_path.features.layer3.7           |    1.117M              |    2.288G  |\n",
      "|    context_path.features.layer3.8           |    1.117M              |    2.288G  |\n",
      "|    context_path.features.layer3.9           |    1.117M              |    2.288G  |\n",
      "|    context_path.features.layer3.10          |    1.117M              |    2.288G  |\n",
      "|    context_path.features.layer3.11          |    1.117M              |    2.288G  |\n",
      "|    context_path.features.layer3.12          |    1.117M              |    2.288G  |\n",
      "|    context_path.features.layer3.13          |    1.117M              |    2.288G  |\n",
      "|    context_path.features.layer3.14          |    1.117M              |    2.288G  |\n",
      "|    context_path.features.layer3.15          |    1.117M              |    2.288G  |\n",
      "|    context_path.features.layer3.16          |    1.117M              |    2.288G  |\n",
      "|    context_path.features.layer3.17          |    1.117M              |    2.288G  |\n",
      "|    context_path.features.layer3.18          |    1.117M              |    2.288G  |\n",
      "|    context_path.features.layer3.19          |    1.117M              |    2.288G  |\n",
      "|    context_path.features.layer3.20          |    1.117M              |    2.288G  |\n",
      "|    context_path.features.layer3.21          |    1.117M              |    2.288G  |\n",
      "|    context_path.features.layer3.22          |    1.117M              |    2.288G  |\n",
      "|   context_path.features.layer4              |   14.965M              |   8.469G   |\n",
      "|    context_path.features.layer4.0           |    6.04M               |    3.899G  |\n",
      "|    context_path.features.layer4.1           |    4.463M              |    2.285G  |\n",
      "|    context_path.features.layer4.2           |    4.463M              |    2.285G  |\n",
      "|   context_path.features.fc                  |   2.049M               |            |\n",
      "|    context_path.features.fc.weight          |    (1000, 2048)        |            |\n",
      "|    context_path.features.fc.bias            |    (1000,)             |            |\n",
      "|  attention_refinement_module1               |  1.052M                |  3.148M    |\n",
      "|   attention_refinement_module1.conv         |   1.05M                |   1.049M   |\n",
      "|    attention_refinement_module1.conv.weight |    (1024, 1024, 1, 1)  |            |\n",
      "|    attention_refinement_module1.conv.bias   |    (1024,)             |            |\n",
      "|   attention_refinement_module1.bn           |   2.048K               |   2.048K   |\n",
      "|    attention_refinement_module1.bn.weight   |    (1024,)             |            |\n",
      "|    attention_refinement_module1.bn.bias     |    (1024,)             |            |\n",
      "|   attention_refinement_module1.avgpool      |                        |   2.097M   |\n",
      "|  attention_refinement_module2               |  4.2M                  |  5.247M    |\n",
      "|   attention_refinement_module2.conv         |   4.196M               |   4.194M   |\n",
      "|    attention_refinement_module2.conv.weight |    (2048, 2048, 1, 1)  |            |\n",
      "|    attention_refinement_module2.conv.bias   |    (2048,)             |            |\n",
      "|   attention_refinement_module2.bn           |   4.096K               |   4.096K   |\n",
      "|    attention_refinement_module2.bn.weight   |    (2048,)             |            |\n",
      "|    attention_refinement_module2.bn.bias     |    (2048,)             |            |\n",
      "|   attention_refinement_module2.avgpool      |                        |   1.049M   |\n",
      "|  supervision1                               |  19.475K               |            |\n",
      "|   supervision1.weight                       |   (19, 1024, 1, 1)     |            |\n",
      "|   supervision1.bias                         |   (19,)                |            |\n",
      "|  supervision2                               |  38.931K               |            |\n",
      "|   supervision2.weight                       |   (19, 2048, 1, 1)     |            |\n",
      "|   supervision2.bias                         |   (19,)                |            |\n",
      "|  feature_fusion_module                      |  0.57M                 |  4.662G    |\n",
      "|   feature_fusion_module.convblock           |   0.569M               |   4.662G   |\n",
      "|    feature_fusion_module.convblock.conv1    |    0.569M              |    4.662G  |\n",
      "|    feature_fusion_module.convblock.bn       |    38                  |    0.311M  |\n",
      "|   feature_fusion_module.conv1               |   0.38K                |   0.361K   |\n",
      "|    feature_fusion_module.conv1.weight       |    (19, 19, 1, 1)      |            |\n",
      "|    feature_fusion_module.conv1.bias         |    (19,)               |            |\n",
      "|   feature_fusion_module.conv2               |   0.38K                |   0.361K   |\n",
      "|    feature_fusion_module.conv2.weight       |    (19, 19, 1, 1)      |            |\n",
      "|    feature_fusion_module.conv2.bias         |    (19,)               |            |\n",
      "|   feature_fusion_module.avgpool             |                        |   0.156M   |\n",
      "|  conv                                       |  0.38K                 |  0.189G    |\n",
      "|   conv.weight                               |   (19, 19, 1, 1)       |            |\n",
      "|   conv.bias                                 |   (19,)                |            |\n"
     ]
    }
   ],
   "source": [
    "# Get the device\n",
    "device = torch.device(\"cuda\")\n",
    "# Load the model\n",
    "model = BiSeNet(context_path='resnet101', num_classes=19).to(device)\n",
    "model.load_state_dict(torch.load('models/bisenet/bisenet_basic/bisenet.pth'))\n",
    "# Set model to evaluation mode\n",
    "model.eval()\n",
    "\n",
    "# Load the dataset\n",
    "dataset = CityScapes(root_dir='datasets/Cityspaces', split='val')\n",
    "# Get the image and label\n",
    "image, label = dataset[0]\n",
    "\n",
    "# Compute the number of flops\n",
    "flops = FlopCountAnalysis(model, image.unsqueeze(0).to(device))\n",
    "# Get the number of flops\n",
    "flops = flop_count_table(flops)\n",
    "# Get the number of parameters\n",
    "params = sum(p.numel() for p in model.parameters())\n",
    "\n",
    "print(f'Number of parameters: {params}\\n')\n",
    "print(flops)"
   ]
  },
  {
   "cell_type": "markdown",
   "metadata": {},
   "source": [
    "### Latency and FPS"
   ]
  },
  {
   "cell_type": "code",
   "execution_count": 6,
   "metadata": {},
   "outputs": [
    {
     "name": "stdout",
     "output_type": "stream",
     "text": [
      "Latency: 0.018 +/- 0.000\n",
      "FPS: 55.477 +/- 3.168\n"
     ]
    }
   ],
   "source": [
    "# Get the device\n",
    "device = torch.device(\"cuda\")\n",
    "\n",
    "# Load the model\n",
    "model = BiSeNet(context_path='resnet101', num_classes=19).to(device)\n",
    "model.load_state_dict(torch.load('models/bisenet/bisenet_basic/bisenet.pth'))\n",
    "model.eval()\n",
    "\n",
    "# Load the dataset\n",
    "dataset = CityScapes(root_dir='datasets/Cityspaces', split='val')\n",
    "\n",
    "# Get the image and label\n",
    "image, label = dataset[0]\n",
    "\n",
    "# Compute the latency and FPS\n",
    "iterations = 1000\n",
    "latency = []\n",
    "fps = []\n",
    "\n",
    "# Run the model for a number of iterations\n",
    "for _ in range(iterations):\n",
    "    start = time()\n",
    "    model(image.unsqueeze(0).to(device))\n",
    "    end = time()\n",
    "    latency.append(end - start)\n",
    "    fps.append(1 / (end - start))\n",
    "\n",
    "# Compute the average latency and FPS\n",
    "mean_latency = np.mean(latency)\n",
    "mean_fps = np.mean(fps)\n",
    "std_latency = np.std(latency)\n",
    "std_fps = np.std(fps)\n",
    "\n",
    "# Print the results\n",
    "print(f'Latency: {mean_latency:.3f} +/- {std_latency:.3f}')\n",
    "print(f'FPS: {mean_fps:.3f} +/- {std_fps:.3f}')"
   ]
  }
 ],
 "metadata": {
  "kernelspec": {
   "display_name": "polito",
   "language": "python",
   "name": "python3"
  },
  "language_info": {
   "codemirror_mode": {
    "name": "ipython",
    "version": 3
   },
   "file_extension": ".py",
   "mimetype": "text/x-python",
   "name": "python",
   "nbconvert_exporter": "python",
   "pygments_lexer": "ipython3",
   "version": "3.1.-1"
  }
 },
 "nbformat": 4,
 "nbformat_minor": 2
}
