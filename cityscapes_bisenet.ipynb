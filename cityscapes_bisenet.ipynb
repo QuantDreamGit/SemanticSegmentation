{
 "cells": [
  {
   "cell_type": "code",
   "execution_count": 1,
   "metadata": {},
   "outputs": [],
   "source": [
    "import torch\n",
    "import warnings\n",
    "import numpy as np\n",
    "import torch.nn as nn\n",
    "from time import time\n",
    "import matplotlib.pyplot as plt\n",
    "\n",
    "from tqdm import tqdm\n",
    "from PIL import Image\n",
    "from torch.utils.data import DataLoader\n",
    "from datasets.cityscapes import CityScapes\n",
    "from torchvision.transforms import ToPILImage\n",
    "from fvcore.nn import FlopCountAnalysis, flop_count_table\n",
    "\n",
    "from utils import fast_hist, per_class_iou\n",
    "from models.bisenet.build_bisenet import BiSeNet\n",
    "\n",
    "warnings.filterwarnings(\"ignore\")"
   ]
  },
  {
   "cell_type": "code",
   "execution_count": 2,
   "metadata": {},
   "outputs": [
    {
     "name": "stderr",
     "output_type": "stream",
     "text": [
      "100%|██████████| 125/125 [03:59<00:00,  1.92s/it]\n"
     ]
    },
    {
     "name": "stdout",
     "output_type": "stream",
     "text": [
      "Epoch: 0, Loss: 0.6270601749420166, mIoU: 0.19253267176022373\n"
     ]
    },
    {
     "name": "stderr",
     "output_type": "stream",
     "text": [
      "100%|██████████| 125/125 [03:57<00:00,  1.90s/it]\n"
     ]
    },
    {
     "name": "stdout",
     "output_type": "stream",
     "text": [
      "Epoch: 1, Loss: 0.6603593826293945, mIoU: 0.2573051884226215\n"
     ]
    },
    {
     "name": "stderr",
     "output_type": "stream",
     "text": [
      "100%|██████████| 125/125 [03:51<00:00,  1.85s/it]\n"
     ]
    },
    {
     "name": "stdout",
     "output_type": "stream",
     "text": [
      "Epoch: 2, Loss: 0.508508026599884, mIoU: 0.29617940180461355\n"
     ]
    },
    {
     "name": "stderr",
     "output_type": "stream",
     "text": [
      "100%|██████████| 125/125 [03:58<00:00,  1.90s/it]\n"
     ]
    },
    {
     "name": "stdout",
     "output_type": "stream",
     "text": [
      "Epoch: 3, Loss: 0.48374077677726746, mIoU: 0.33409788366901927\n"
     ]
    },
    {
     "name": "stderr",
     "output_type": "stream",
     "text": [
      "100%|██████████| 125/125 [04:02<00:00,  1.94s/it]\n"
     ]
    },
    {
     "name": "stdout",
     "output_type": "stream",
     "text": [
      "Epoch: 4, Loss: 0.33759060502052307, mIoU: 0.3702187595240202\n"
     ]
    },
    {
     "name": "stderr",
     "output_type": "stream",
     "text": [
      "100%|██████████| 125/125 [03:52<00:00,  1.86s/it]\n"
     ]
    },
    {
     "name": "stdout",
     "output_type": "stream",
     "text": [
      "Epoch: 5, Loss: 0.3800247013568878, mIoU: 0.3983250920621863\n"
     ]
    },
    {
     "name": "stderr",
     "output_type": "stream",
     "text": [
      "100%|██████████| 125/125 [03:59<00:00,  1.92s/it]\n"
     ]
    },
    {
     "name": "stdout",
     "output_type": "stream",
     "text": [
      "Epoch: 6, Loss: 0.3699791133403778, mIoU: 0.42900736158474156\n"
     ]
    },
    {
     "name": "stderr",
     "output_type": "stream",
     "text": [
      "100%|██████████| 125/125 [03:51<00:00,  1.85s/it]\n"
     ]
    },
    {
     "name": "stdout",
     "output_type": "stream",
     "text": [
      "Epoch: 7, Loss: 0.4297184646129608, mIoU: 0.4470821135024857\n"
     ]
    },
    {
     "name": "stderr",
     "output_type": "stream",
     "text": [
      "100%|██████████| 125/125 [04:00<00:00,  1.92s/it]\n"
     ]
    },
    {
     "name": "stdout",
     "output_type": "stream",
     "text": [
      "Epoch: 8, Loss: 0.39346402883529663, mIoU: 0.4731429516146734\n"
     ]
    },
    {
     "name": "stderr",
     "output_type": "stream",
     "text": [
      "100%|██████████| 125/125 [04:01<00:00,  1.93s/it]\n"
     ]
    },
    {
     "name": "stdout",
     "output_type": "stream",
     "text": [
      "Epoch: 9, Loss: 0.35163944959640503, mIoU: 0.49328567846158494\n"
     ]
    },
    {
     "name": "stderr",
     "output_type": "stream",
     "text": [
      "100%|██████████| 125/125 [04:00<00:00,  1.93s/it]\n"
     ]
    },
    {
     "name": "stdout",
     "output_type": "stream",
     "text": [
      "Epoch: 10, Loss: 0.33536019921302795, mIoU: 0.5094016156238879\n"
     ]
    },
    {
     "name": "stderr",
     "output_type": "stream",
     "text": [
      "100%|██████████| 125/125 [04:00<00:00,  1.92s/it]\n"
     ]
    },
    {
     "name": "stdout",
     "output_type": "stream",
     "text": [
      "Epoch: 11, Loss: 0.25835564732551575, mIoU: 0.5225956299543002\n"
     ]
    },
    {
     "name": "stderr",
     "output_type": "stream",
     "text": [
      "100%|██████████| 125/125 [04:01<00:00,  1.93s/it]\n"
     ]
    },
    {
     "name": "stdout",
     "output_type": "stream",
     "text": [
      "Epoch: 12, Loss: 0.30303895473480225, mIoU: 0.5385062015744427\n"
     ]
    },
    {
     "name": "stderr",
     "output_type": "stream",
     "text": [
      "100%|██████████| 125/125 [03:49<00:00,  1.83s/it]\n"
     ]
    },
    {
     "name": "stdout",
     "output_type": "stream",
     "text": [
      "Epoch: 13, Loss: 0.3842148780822754, mIoU: 0.5441599111914633\n"
     ]
    },
    {
     "name": "stderr",
     "output_type": "stream",
     "text": [
      "100%|██████████| 125/125 [03:50<00:00,  1.85s/it]\n"
     ]
    },
    {
     "name": "stdout",
     "output_type": "stream",
     "text": [
      "Epoch: 14, Loss: 0.25967684388160706, mIoU: 0.5629087458928026\n"
     ]
    },
    {
     "name": "stderr",
     "output_type": "stream",
     "text": [
      "100%|██████████| 125/125 [03:51<00:00,  1.85s/it]\n"
     ]
    },
    {
     "name": "stdout",
     "output_type": "stream",
     "text": [
      "Epoch: 15, Loss: 0.3357204794883728, mIoU: 0.5695302515066905\n"
     ]
    },
    {
     "name": "stderr",
     "output_type": "stream",
     "text": [
      "100%|██████████| 125/125 [04:00<00:00,  1.92s/it]\n"
     ]
    },
    {
     "name": "stdout",
     "output_type": "stream",
     "text": [
      "Epoch: 16, Loss: 0.24896016716957092, mIoU: 0.5715720544668443\n"
     ]
    },
    {
     "name": "stderr",
     "output_type": "stream",
     "text": [
      "100%|██████████| 125/125 [03:50<00:00,  1.84s/it]\n"
     ]
    },
    {
     "name": "stdout",
     "output_type": "stream",
     "text": [
      "Epoch: 17, Loss: 0.2700155973434448, mIoU: 0.5821110820611155\n"
     ]
    },
    {
     "name": "stderr",
     "output_type": "stream",
     "text": [
      "100%|██████████| 125/125 [04:00<00:00,  1.93s/it]\n"
     ]
    },
    {
     "name": "stdout",
     "output_type": "stream",
     "text": [
      "Epoch: 18, Loss: 0.2999371290206909, mIoU: 0.589966439097714\n"
     ]
    },
    {
     "name": "stderr",
     "output_type": "stream",
     "text": [
      "100%|██████████| 125/125 [04:00<00:00,  1.92s/it]\n"
     ]
    },
    {
     "name": "stdout",
     "output_type": "stream",
     "text": [
      "Epoch: 19, Loss: 0.2795737385749817, mIoU: 0.5947214095921296\n"
     ]
    },
    {
     "name": "stderr",
     "output_type": "stream",
     "text": [
      "100%|██████████| 125/125 [03:51<00:00,  1.85s/it]\n"
     ]
    },
    {
     "name": "stdout",
     "output_type": "stream",
     "text": [
      "Epoch: 20, Loss: 0.23618638515472412, mIoU: 0.5998913886700518\n"
     ]
    },
    {
     "name": "stderr",
     "output_type": "stream",
     "text": [
      "100%|██████████| 125/125 [03:59<00:00,  1.92s/it]\n"
     ]
    },
    {
     "name": "stdout",
     "output_type": "stream",
     "text": [
      "Epoch: 21, Loss: 0.2597869038581848, mIoU: 0.6050210292211001\n"
     ]
    },
    {
     "name": "stderr",
     "output_type": "stream",
     "text": [
      "100%|██████████| 125/125 [03:49<00:00,  1.83s/it]\n"
     ]
    },
    {
     "name": "stdout",
     "output_type": "stream",
     "text": [
      "Epoch: 22, Loss: 0.30511942505836487, mIoU: 0.6069363180230521\n"
     ]
    },
    {
     "name": "stderr",
     "output_type": "stream",
     "text": [
      "100%|██████████| 125/125 [03:59<00:00,  1.91s/it]\n"
     ]
    },
    {
     "name": "stdout",
     "output_type": "stream",
     "text": [
      "Epoch: 23, Loss: 0.24048583209514618, mIoU: 0.6107800559062442\n"
     ]
    },
    {
     "name": "stderr",
     "output_type": "stream",
     "text": [
      "100%|██████████| 125/125 [03:48<00:00,  1.83s/it]\n"
     ]
    },
    {
     "name": "stdout",
     "output_type": "stream",
     "text": [
      "Epoch: 24, Loss: 0.2517017424106598, mIoU: 0.6144928403915326\n"
     ]
    },
    {
     "name": "stderr",
     "output_type": "stream",
     "text": [
      "100%|██████████| 125/125 [03:52<00:00,  1.86s/it]\n"
     ]
    },
    {
     "name": "stdout",
     "output_type": "stream",
     "text": [
      "Epoch: 25, Loss: 0.24619907140731812, mIoU: 0.6214946773431371\n"
     ]
    },
    {
     "name": "stderr",
     "output_type": "stream",
     "text": [
      "100%|██████████| 125/125 [03:51<00:00,  1.85s/it]\n"
     ]
    },
    {
     "name": "stdout",
     "output_type": "stream",
     "text": [
      "Epoch: 26, Loss: 0.22776572406291962, mIoU: 0.6237172488236289\n"
     ]
    },
    {
     "name": "stderr",
     "output_type": "stream",
     "text": [
      "100%|██████████| 125/125 [03:59<00:00,  1.92s/it]\n"
     ]
    },
    {
     "name": "stdout",
     "output_type": "stream",
     "text": [
      "Epoch: 27, Loss: 0.26191264390945435, mIoU: 0.6266716215230285\n"
     ]
    },
    {
     "name": "stderr",
     "output_type": "stream",
     "text": [
      "100%|██████████| 125/125 [04:02<00:00,  1.94s/it]\n"
     ]
    },
    {
     "name": "stdout",
     "output_type": "stream",
     "text": [
      "Epoch: 28, Loss: 0.2076338827610016, mIoU: 0.6296601105794293\n"
     ]
    },
    {
     "name": "stderr",
     "output_type": "stream",
     "text": [
      "100%|██████████| 125/125 [04:01<00:00,  1.93s/it]\n"
     ]
    },
    {
     "name": "stdout",
     "output_type": "stream",
     "text": [
      "Epoch: 29, Loss: 0.22716642916202545, mIoU: 0.6314827613551494\n"
     ]
    },
    {
     "name": "stderr",
     "output_type": "stream",
     "text": [
      "100%|██████████| 125/125 [03:53<00:00,  1.87s/it]\n"
     ]
    },
    {
     "name": "stdout",
     "output_type": "stream",
     "text": [
      "Epoch: 30, Loss: 0.22374321520328522, mIoU: 0.6348252507855693\n"
     ]
    },
    {
     "name": "stderr",
     "output_type": "stream",
     "text": [
      "100%|██████████| 125/125 [03:51<00:00,  1.86s/it]\n"
     ]
    },
    {
     "name": "stdout",
     "output_type": "stream",
     "text": [
      "Epoch: 31, Loss: 0.19950303435325623, mIoU: 0.6351666978238975\n"
     ]
    },
    {
     "name": "stderr",
     "output_type": "stream",
     "text": [
      "100%|██████████| 125/125 [03:52<00:00,  1.86s/it]\n"
     ]
    },
    {
     "name": "stdout",
     "output_type": "stream",
     "text": [
      "Epoch: 32, Loss: 0.1961541771888733, mIoU: 0.6371140758755665\n"
     ]
    },
    {
     "name": "stderr",
     "output_type": "stream",
     "text": [
      "100%|██████████| 125/125 [03:54<00:00,  1.88s/it]\n"
     ]
    },
    {
     "name": "stdout",
     "output_type": "stream",
     "text": [
      "Epoch: 33, Loss: 0.17347049713134766, mIoU: 0.6398565059585039\n"
     ]
    },
    {
     "name": "stderr",
     "output_type": "stream",
     "text": [
      "100%|██████████| 125/125 [03:54<00:00,  1.87s/it]\n"
     ]
    },
    {
     "name": "stdout",
     "output_type": "stream",
     "text": [
      "Epoch: 34, Loss: 0.347496896982193, mIoU: 0.6392852897855846\n"
     ]
    },
    {
     "name": "stderr",
     "output_type": "stream",
     "text": [
      "100%|██████████| 125/125 [03:54<00:00,  1.88s/it]\n"
     ]
    },
    {
     "name": "stdout",
     "output_type": "stream",
     "text": [
      "Epoch: 35, Loss: 0.2580786347389221, mIoU: 0.6443353414374541\n"
     ]
    },
    {
     "name": "stderr",
     "output_type": "stream",
     "text": [
      "100%|██████████| 125/125 [03:49<00:00,  1.84s/it]\n"
     ]
    },
    {
     "name": "stdout",
     "output_type": "stream",
     "text": [
      "Epoch: 36, Loss: 0.272128164768219, mIoU: 0.6440275071795881\n"
     ]
    },
    {
     "name": "stderr",
     "output_type": "stream",
     "text": [
      "100%|██████████| 125/125 [04:01<00:00,  1.93s/it]\n"
     ]
    },
    {
     "name": "stdout",
     "output_type": "stream",
     "text": [
      "Epoch: 37, Loss: 0.19764836132526398, mIoU: 0.646858235623569\n"
     ]
    },
    {
     "name": "stderr",
     "output_type": "stream",
     "text": [
      "100%|██████████| 125/125 [03:55<00:00,  1.88s/it]\n"
     ]
    },
    {
     "name": "stdout",
     "output_type": "stream",
     "text": [
      "Epoch: 38, Loss: 0.22193901240825653, mIoU: 0.6493054618065608\n"
     ]
    },
    {
     "name": "stderr",
     "output_type": "stream",
     "text": [
      "100%|██████████| 125/125 [04:03<00:00,  1.95s/it]\n"
     ]
    },
    {
     "name": "stdout",
     "output_type": "stream",
     "text": [
      "Epoch: 39, Loss: 0.1992558389902115, mIoU: 0.649726939675138\n"
     ]
    },
    {
     "name": "stderr",
     "output_type": "stream",
     "text": [
      "100%|██████████| 125/125 [04:02<00:00,  1.94s/it]\n"
     ]
    },
    {
     "name": "stdout",
     "output_type": "stream",
     "text": [
      "Epoch: 40, Loss: 0.22740903496742249, mIoU: 0.6514341050691131\n"
     ]
    },
    {
     "name": "stderr",
     "output_type": "stream",
     "text": [
      "100%|██████████| 125/125 [03:57<00:00,  1.90s/it]\n"
     ]
    },
    {
     "name": "stdout",
     "output_type": "stream",
     "text": [
      "Epoch: 41, Loss: 0.2374940663576126, mIoU: 0.6547012875581025\n"
     ]
    },
    {
     "name": "stderr",
     "output_type": "stream",
     "text": [
      "100%|██████████| 125/125 [03:54<00:00,  1.88s/it]\n"
     ]
    },
    {
     "name": "stdout",
     "output_type": "stream",
     "text": [
      "Epoch: 42, Loss: 0.2274027168750763, mIoU: 0.6548977071017937\n"
     ]
    },
    {
     "name": "stderr",
     "output_type": "stream",
     "text": [
      "100%|██████████| 125/125 [04:00<00:00,  1.92s/it]\n"
     ]
    },
    {
     "name": "stdout",
     "output_type": "stream",
     "text": [
      "Epoch: 43, Loss: 0.25387895107269287, mIoU: 0.6581871921682471\n"
     ]
    },
    {
     "name": "stderr",
     "output_type": "stream",
     "text": [
      "100%|██████████| 125/125 [03:54<00:00,  1.88s/it]\n"
     ]
    },
    {
     "name": "stdout",
     "output_type": "stream",
     "text": [
      "Epoch: 44, Loss: 0.2728457748889923, mIoU: 0.6589176157664675\n"
     ]
    },
    {
     "name": "stderr",
     "output_type": "stream",
     "text": [
      "100%|██████████| 125/125 [04:01<00:00,  1.93s/it]\n"
     ]
    },
    {
     "name": "stdout",
     "output_type": "stream",
     "text": [
      "Epoch: 45, Loss: 0.24036821722984314, mIoU: 0.6584878086466373\n"
     ]
    },
    {
     "name": "stderr",
     "output_type": "stream",
     "text": [
      "100%|██████████| 125/125 [03:53<00:00,  1.87s/it]\n"
     ]
    },
    {
     "name": "stdout",
     "output_type": "stream",
     "text": [
      "Epoch: 46, Loss: 0.17879556119441986, mIoU: 0.6608928097127327\n"
     ]
    },
    {
     "name": "stderr",
     "output_type": "stream",
     "text": [
      "100%|██████████| 125/125 [03:54<00:00,  1.87s/it]\n"
     ]
    },
    {
     "name": "stdout",
     "output_type": "stream",
     "text": [
      "Epoch: 47, Loss: 0.19002607464790344, mIoU: 0.6628502945573744\n"
     ]
    },
    {
     "name": "stderr",
     "output_type": "stream",
     "text": [
      "100%|██████████| 125/125 [04:01<00:00,  1.94s/it]\n"
     ]
    },
    {
     "name": "stdout",
     "output_type": "stream",
     "text": [
      "Epoch: 48, Loss: 0.218143031001091, mIoU: 0.6640244814819983\n"
     ]
    },
    {
     "name": "stderr",
     "output_type": "stream",
     "text": [
      "100%|██████████| 125/125 [04:00<00:00,  1.93s/it]\n"
     ]
    },
    {
     "name": "stdout",
     "output_type": "stream",
     "text": [
      "Epoch: 49, Loss: 0.23719818890094757, mIoU: 0.6642158756621073\n"
     ]
    }
   ],
   "source": [
    "## Training\n",
    "device = torch.device(\"cuda\")\n",
    "# Load model\n",
    "model = BiSeNet(context_path='resnet101', num_classes=19).to(device)\n",
    "\n",
    "# Set model to training mode\n",
    "model.train()\n",
    "\n",
    "# Load the dataset\n",
    "dataset = CityScapes(root_dir='datasets/Cityspaces', split='val', mode='single', raw_label=False)\n",
    "dataloader = DataLoader(dataset, batch_size=4, shuffle=True, num_workers=1)\n",
    "\n",
    "# Loss function\n",
    "criterion = nn.CrossEntropyLoss(ignore_index=255)\n",
    "# Optimizer\n",
    "optimizer = torch.optim.SGD(model.parameters(), lr=0.001, momentum=0.9, weight_decay=1e-4)\n",
    "\n",
    "# Set model to training mode\n",
    "model.train()\n",
    "# Training loop\n",
    "for epoch in range(50):\n",
    "    hist = np.zeros((19, 19))\n",
    "    # Iterate over the dataset\n",
    "    for i, (images, labels) in enumerate(tqdm(dataloader)):\n",
    "        # Move the data to the device\n",
    "        images = images.to(device)\n",
    "        label = labels.to(device)\n",
    "        # Zero the gradients\n",
    "        optimizer.zero_grad()\n",
    "        # Forward pass\n",
    "        output = model(images)[0]\n",
    "        # Compute the loss\n",
    "        loss = criterion(output, label)\n",
    "        # Backward pass\n",
    "        loss.backward()\n",
    "        # Update the weights\n",
    "        optimizer.step()\n",
    "        # Compute the predictions\n",
    "        pred = output.argmax(dim=1)\n",
    "\n",
    "        # Calculate the mean IoU\n",
    "        hist += fast_hist(label.flatten().cpu().numpy(), pred.flatten().cpu().numpy(), 19)\n",
    "        miou = np.mean(per_class_iou(hist))\n",
    "\n",
    "    # Print the loss and mIoU\n",
    "    print(f'Epoch: {epoch}, Loss: {loss.item()}, mIoU: {miou}')\n",
    "\n",
    "# Save the model\n",
    "torch.save(model.state_dict(), 'models/bisenet/bisenet.pth')"
   ]
  },
  {
   "cell_type": "code",
   "execution_count": 7,
   "metadata": {},
   "outputs": [
    {
     "name": "stderr",
     "output_type": "stream",
     "text": [
      "100%|██████████| 500/500 [02:01<00:00,  4.12it/s]"
     ]
    },
    {
     "name": "stdout",
     "output_type": "stream",
     "text": [
      "mIoU: 0.6662004877262835\n"
     ]
    },
    {
     "name": "stderr",
     "output_type": "stream",
     "text": [
      "\n"
     ]
    }
   ],
   "source": [
    "## Evaluation\n",
    "# Get the device\n",
    "device = torch.device(\"cuda\")\n",
    "# Load the model\n",
    "model = BiSeNet(context_path='resnet101', num_classes=19).to(device)\n",
    "model.load_state_dict(torch.load('models/bisenet/bisenet.pth'))\n",
    "# Set model to evaluation mode\n",
    "model.eval()\n",
    "\n",
    "# Load the dataset\n",
    "dataset = CityScapes(root_dir='datasets/Cityspaces', split='val', mode='single', raw_label=False)\n",
    "dataloader = DataLoader(dataset, batch_size=1, shuffle=True, num_workers=2, pin_memory=True)\n",
    "\n",
    "# Evaluate the model\n",
    "hist = np.zeros((19, 19))\n",
    "for i, (images, labels) in enumerate(tqdm(dataloader)):\n",
    "    # Move the data to the device\n",
    "    images = images.to(device)\n",
    "    label = labels.to(device)\n",
    "    # Forward pass\n",
    "    output = model(images)[0]\n",
    "    # Compute the predictions\n",
    "    pred = output.argmax(dim=0)\n",
    "\n",
    "    # Calculate the mean IoU\n",
    "    hist += fast_hist(label.flatten().cpu().numpy(), pred.flatten().cpu().numpy(), 19)\n",
    "    miou = np.mean(per_class_iou(hist))\n",
    "\n",
    "# Print the mIoU\n",
    "print(f'mIoU: {miou}')"
   ]
  },
  {
   "cell_type": "markdown",
   "metadata": {},
   "source": [
    "### Example"
   ]
  },
  {
   "cell_type": "code",
   "execution_count": 5,
   "metadata": {},
   "outputs": [
    {
     "name": "stderr",
     "output_type": "stream",
     "text": [
      "0it [00:00, ?it/s]\n"
     ]
    },
    {
     "data": {
      "image/png": "[encoded data removed]",
      "text/plain": [
       "<Figure size 2000x2000 with 2 Axes>"
      ]
     },
     "metadata": {},
     "output_type": "display_data"
    }
   ],
   "source": [
    "## Inference\n",
    "# Get the device\n",
    "device = torch.device(\"cuda\" if torch.cuda.is_available() else \"cpu\")\n",
    "# Load the model\n",
    "model = BiSeNet(context_path='resnet101', num_classes=19).to(device)\n",
    "model.load_state_dict(torch.load('models/bisenet/bisenet.pth'))\n",
    "# Set model to evaluation mode\n",
    "model.eval()\n",
    "\n",
    "# Load the dataset\n",
    "dataset = CityScapes(root_dir='datasets/Cityspaces', split='val', mode='single', raw_label=False)\n",
    "dataloader = DataLoader(dataset, batch_size=1, shuffle=True, num_workers=2, pin_memory=True)\n",
    "\n",
    "hist = np.zeros((19, 19))\n",
    "for i, (image, label) in tqdm(enumerate(dataloader)):\n",
    "    # Move the data to the device\n",
    "    image = image.to(device)\n",
    "    label = label.to(device)\n",
    "    # Forward pass\n",
    "    output = model(image)\n",
    "    # Compute the predictions\n",
    "    pred = output.argmax(dim=1)\n",
    "    # Stop after the first iteration\n",
    "    break\n",
    "\n",
    "# Display the image\n",
    "image = ToPILImage()(image[0].cpu())\n",
    "# Convert label, pred from numpy to image\n",
    "label = Image.fromarray(label[0].cpu().numpy().astype(np.uint8))\n",
    "pred = Image.fromarray(pred[0].cpu().numpy().astype(np.uint8))\n",
    "\n",
    "# Display the image\n",
    "plt.figure(figsize=(20, 20))\n",
    "plt.subplot(121)\n",
    "plt.imshow(label)\n",
    "plt.title('Label')\n",
    "plt.axis('off')\n",
    "plt.subplot(122)\n",
    "plt.imshow(pred)\n",
    "plt.title('Prediction')\n",
    "plt.axis('off')\n",
    "plt.show()"
   ]
  },
  {
   "cell_type": "markdown",
   "metadata": {},
   "source": [
    "### FLOPs and Parameters"
   ]
  },
  {
   "cell_type": "code",
   "execution_count": 8,
   "metadata": {},
   "outputs": [
    {
     "name": "stdout",
     "output_type": "stream",
     "text": [
      "Number of parameters: 50801192\n",
      "\n",
      "| module                                      | #parameters or shape   | #flops     |\n",
      "|:--------------------------------------------|:-----------------------|:-----------|\n",
      "| model                                       | 50.801M                | 91.923G    |\n",
      "|  saptial_path                               |  0.371M                |  5.088G    |\n",
      "|   saptial_path.convblock1                   |   1.856K               |   0.243G   |\n",
      "|    saptial_path.convblock1.conv1            |    1.728K              |    0.226G  |\n",
      "|    saptial_path.convblock1.bn               |    0.128K              |    16.777M |\n",
      "|   saptial_path.convblock2                   |   73.984K              |   2.424G   |\n",
      "|    saptial_path.convblock2.conv1            |    73.728K             |    2.416G  |\n",
      "|    saptial_path.convblock2.bn               |    0.256K              |    8.389M  |\n",
      "|   saptial_path.convblock3                   |   0.295M               |   2.42G    |\n",
      "|    saptial_path.convblock3.conv1            |    0.295M              |    2.416G  |\n",
      "|    saptial_path.convblock3.bn               |    0.512K              |    4.194M  |\n",
      "|  context_path.features                      |  44.549M               |  81.835G   |\n",
      "|   context_path.features.conv1               |   9.408K               |   1.233G   |\n",
      "|    context_path.features.conv1.weight       |    (64, 3, 7, 7)       |            |\n",
      "|   context_path.features.bn1                 |   0.128K               |   16.777M  |\n",
      "|    context_path.features.bn1.weight         |    (64,)               |            |\n",
      "|    context_path.features.bn1.bias           |    (64,)               |            |\n",
      "|   context_path.features.layer1              |   0.216M               |   7.072G   |\n",
      "|    context_path.features.layer1.0           |    75.008K             |    2.458G  |\n",
      "|    context_path.features.layer1.1           |    70.4K               |    2.307G  |\n",
      "|    context_path.features.layer1.2           |    70.4K               |    2.307G  |\n",
      "|   context_path.features.layer2              |   1.22M                |   10.802G  |\n",
      "|    context_path.features.layer2.0           |    0.379M              |    3.92G   |\n",
      "|    context_path.features.layer2.1           |    0.28M               |    2.294G  |\n",
      "|    context_path.features.layer2.2           |    0.28M               |    2.294G  |\n",
      "|    context_path.features.layer2.3           |    0.28M               |    2.294G  |\n",
      "|   context_path.features.layer3              |   26.09M               |   54.242G  |\n",
      "|    context_path.features.layer3.0           |    1.512M              |    3.906G  |\n",
      "|    context_path.features.layer3.1           |    1.117M              |    2.288G  |\n",
      "|    context_path.features.layer3.2           |    1.117M              |    2.288G  |\n",
      "|    context_path.features.layer3.3           |    1.117M              |    2.288G  |\n",
      "|    context_path.features.layer3.4           |    1.117M              |    2.288G  |\n",
      "|    context_path.features.layer3.5           |    1.117M              |    2.288G  |\n",
      "|    context_path.features.layer3.6           |    1.117M              |    2.288G  |\n",
      "|    context_path.features.layer3.7           |    1.117M              |    2.288G  |\n",
      "|    context_path.features.layer3.8           |    1.117M              |    2.288G  |\n",
      "|    context_path.features.layer3.9           |    1.117M              |    2.288G  |\n",
      "|    context_path.features.layer3.10          |    1.117M              |    2.288G  |\n",
      "|    context_path.features.layer3.11          |    1.117M              |    2.288G  |\n",
      "|    context_path.features.layer3.12          |    1.117M              |    2.288G  |\n",
      "|    context_path.features.layer3.13          |    1.117M              |    2.288G  |\n",
      "|    context_path.features.layer3.14          |    1.117M              |    2.288G  |\n",
      "|    context_path.features.layer3.15          |    1.117M              |    2.288G  |\n",
      "|    context_path.features.layer3.16          |    1.117M              |    2.288G  |\n",
      "|    context_path.features.layer3.17          |    1.117M              |    2.288G  |\n",
      "|    context_path.features.layer3.18          |    1.117M              |    2.288G  |\n",
      "|    context_path.features.layer3.19          |    1.117M              |    2.288G  |\n",
      "|    context_path.features.layer3.20          |    1.117M              |    2.288G  |\n",
      "|    context_path.features.layer3.21          |    1.117M              |    2.288G  |\n",
      "|    context_path.features.layer3.22          |    1.117M              |    2.288G  |\n",
      "|   context_path.features.layer4              |   14.965M              |   8.469G   |\n",
      "|    context_path.features.layer4.0           |    6.04M               |    3.899G  |\n",
      "|    context_path.features.layer4.1           |    4.463M              |    2.285G  |\n",
      "|    context_path.features.layer4.2           |    4.463M              |    2.285G  |\n",
      "|   context_path.features.fc                  |   2.049M               |            |\n",
      "|    context_path.features.fc.weight          |    (1000, 2048)        |            |\n",
      "|    context_path.features.fc.bias            |    (1000,)             |            |\n",
      "|  attention_refinement_module1               |  1.052M                |  3.148M    |\n",
      "|   attention_refinement_module1.conv         |   1.05M                |   1.049M   |\n",
      "|    attention_refinement_module1.conv.weight |    (1024, 1024, 1, 1)  |            |\n",
      "|    attention_refinement_module1.conv.bias   |    (1024,)             |            |\n",
      "|   attention_refinement_module1.bn           |   2.048K               |   2.048K   |\n",
      "|    attention_refinement_module1.bn.weight   |    (1024,)             |            |\n",
      "|    attention_refinement_module1.bn.bias     |    (1024,)             |            |\n",
      "|   attention_refinement_module1.avgpool      |                        |   2.097M   |\n",
      "|  attention_refinement_module2               |  4.2M                  |  5.247M    |\n",
      "|   attention_refinement_module2.conv         |   4.196M               |   4.194M   |\n",
      "|    attention_refinement_module2.conv.weight |    (2048, 2048, 1, 1)  |            |\n",
      "|    attention_refinement_module2.conv.bias   |    (2048,)             |            |\n",
      "|   attention_refinement_module2.bn           |   4.096K               |   4.096K   |\n",
      "|    attention_refinement_module2.bn.weight   |    (2048,)             |            |\n",
      "|    attention_refinement_module2.bn.bias     |    (2048,)             |            |\n",
      "|   attention_refinement_module2.avgpool      |                        |   1.049M   |\n",
      "|  supervision1                               |  19.475K               |            |\n",
      "|   supervision1.weight                       |   (19, 1024, 1, 1)     |            |\n",
      "|   supervision1.bias                         |   (19,)                |            |\n",
      "|  supervision2                               |  38.931K               |            |\n",
      "|   supervision2.weight                       |   (19, 2048, 1, 1)     |            |\n",
      "|   supervision2.bias                         |   (19,)                |            |\n",
      "|  feature_fusion_module                      |  0.57M                 |  4.662G    |\n",
      "|   feature_fusion_module.convblock           |   0.569M               |   4.662G   |\n",
      "|    feature_fusion_module.convblock.conv1    |    0.569M              |    4.662G  |\n",
      "|    feature_fusion_module.convblock.bn       |    38                  |    0.311M  |\n",
      "|   feature_fusion_module.conv1               |   0.38K                |   0.361K   |\n",
      "|    feature_fusion_module.conv1.weight       |    (19, 19, 1, 1)      |            |\n",
      "|    feature_fusion_module.conv1.bias         |    (19,)               |            |\n",
      "|   feature_fusion_module.conv2               |   0.38K                |   0.361K   |\n",
      "|    feature_fusion_module.conv2.weight       |    (19, 19, 1, 1)      |            |\n",
      "|    feature_fusion_module.conv2.bias         |    (19,)               |            |\n",
      "|   feature_fusion_module.avgpool             |                        |   0.156M   |\n",
      "|  conv                                       |  0.38K                 |  0.189G    |\n",
      "|   conv.weight                               |   (19, 19, 1, 1)       |            |\n",
      "|   conv.bias                                 |   (19,)                |            |\n"
     ]
    }
   ],
   "source": [
    "# Get the device\n",
    "device = torch.device(\"cpu\")\n",
    "# Load the model\n",
    "model = BiSeNet(context_path='resnet101', num_classes=19).to(device)\n",
    "model.load_state_dict(torch.load('models/bisenet/bisenet.pth'))\n",
    "# Set model to evaluation mode\n",
    "model.eval()\n",
    "\n",
    "# Load the dataset\n",
    "dataset = CityScapes(root_dir='datasets/Cityspaces', split='val', mode='single', raw_label=False)\n",
    "# Get the image and label\n",
    "image, label = dataset[0]\n",
    "\n",
    "# Compute the number of flops\n",
    "flops = FlopCountAnalysis(model, image.unsqueeze(0))\n",
    "# Get the number of flops\n",
    "flops = flop_count_table(flops)\n",
    "# Get the number of parameters\n",
    "params = sum(p.numel() for p in model.parameters())\n",
    "\n",
    "print(f'Number of parameters: {params}\\n')\n",
    "print(flops)"
   ]
  },
  {
   "cell_type": "markdown",
   "metadata": {},
   "source": [
    "### Latency and FPS"
   ]
  },
  {
   "cell_type": "code",
   "execution_count": 10,
   "metadata": {},
   "outputs": [
    {
     "name": "stdout",
     "output_type": "stream",
     "text": [
      "Latency: 0.354 +/- 0.014\n",
      "FPS: 2.825 +/- 0.103\n"
     ]
    }
   ],
   "source": [
    "# Get the device\n",
    "device = torch.device(\"cpu\")\n",
    "# Load the model\n",
    "model = BiSeNet(context_path='resnet101', num_classes=19).to(device)\n",
    "model.load_state_dict(torch.load('models/bisenet/bisenet.pth'))\n",
    "model.eval()\n",
    "\n",
    "# Load the dataset\n",
    "dataset = CityScapes(root_dir='datasets/Cityspaces', split='val', mode='single', raw_label=False)\n",
    "\n",
    "# Get the image and label\n",
    "image, label = dataset[0]\n",
    "\n",
    "# Compute the latency and FPS\n",
    "iterations = 100\n",
    "latency = []\n",
    "fps = []\n",
    "\n",
    "# Run the model for a number of iterations\n",
    "for _ in range(iterations):\n",
    "    start = time()\n",
    "    model(image.unsqueeze(0))\n",
    "    end = time()\n",
    "    latency.append(end - start)\n",
    "    fps.append(1 / (end - start))\n",
    "\n",
    "# Compute the average latency and FPS\n",
    "mean_latency = np.mean(latency)\n",
    "mean_fps = np.mean(fps)\n",
    "std_latency = np.std(latency)\n",
    "std_fps = np.std(fps)\n",
    "\n",
    "# Print the results\n",
    "print(f'Latency: {mean_latency:.3f} +/- {std_latency:.3f}')\n",
    "print(f'FPS: {mean_fps:.3f} +/- {std_fps:.3f}')\n"
   ]
  }
 ],
 "metadata": {
  "kernelspec": {
   "display_name": "polito",
   "language": "python",
   "name": "python3"
  },
  "language_info": {
   "codemirror_mode": {
    "name": "ipython",
    "version": 3
   },
   "file_extension": ".py",
   "mimetype": "text/x-python",
   "name": "python",
   "nbconvert_exporter": "python",
   "pygments_lexer": "ipython3",
   "version": "3.10.14"
  }
 },
 "nbformat": 4,
 "nbformat_minor": 2
}
